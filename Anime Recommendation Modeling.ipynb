{
  "nbformat": 4,
  "nbformat_minor": 0,
  "metadata": {
    "colab": {
      "name": "519_Project.ipynb",
      "provenance": [],
      "collapsed_sections": [],
      "toc_visible": true
    },
    "kernelspec": {
      "display_name": "Python 3",
      "name": "python3"
    }
  },
  "cells": [
    {
      "cell_type": "markdown",
      "metadata": {
        "id": "dJBu86c7ClY0"
      },
      "source": [
        "# Anime Recommendation System"
      ]
    },
    {
      "cell_type": "code",
      "metadata": {
        "id": "njtkIHocE3Mj"
      },
      "source": [
        "import random \n",
        "import numpy as np\n",
        "import pandas as pd\n",
        "import matplotlib.pyplot as plt\n",
        "import os\n",
        "from tqdm import tqdm\n",
        "from scipy.sparse import csr_matrix\n"
      ],
      "execution_count": null,
      "outputs": []
    },
    {
      "cell_type": "markdown",
      "metadata": {
        "id": "-E1ZJNdJDXh4"
      },
      "source": [
        "# Data Loading and Preprocessing\n",
        "Import data from Kaggle and clean the data."
      ]
    },
    {
      "cell_type": "code",
      "metadata": {
        "colab": {
          "base_uri": "https://localhost:8080/"
        },
        "id": "DUiUjbE8AXzu",
        "outputId": "ced2e0d6-d02a-4a89-db4c-eb49c0bf2099"
      },
      "source": [
        "from google.colab import drive\n",
        "drive.mount('/content/drive')"
      ],
      "execution_count": null,
      "outputs": [
        {
          "output_type": "stream",
          "text": [
            "Mounted at /content/drive\n"
          ],
          "name": "stdout"
        }
      ]
    },
    {
      "cell_type": "code",
      "metadata": {
        "id": "rmBHJZGNa-t1"
      },
      "source": [
        "base_dir= \"drive/MyDrive/CIS 519/Project\"\n",
        "ratings_df = pd.read_csv(os.path.join(base_dir, 'ratings_subset.csv'))"
      ],
      "execution_count": null,
      "outputs": []
    },
    {
      "cell_type": "code",
      "metadata": {
        "id": "HJ72lsoTwZbf"
      },
      "source": [
        "#load anime and rating dataframe\n",
        "base_dir = \"drive/MyDrive/CIS 519 Project/\"\n",
        "# anime_df = pd.read_csv('/content/anime-dataset/anime.csv')\n",
        "# ratings_df = pd.read_csv('/content/anime-dataset/rating.csv')\n",
        "anime_df = pd.read_csv(os.path.join(base_dir, 'anime_subset.csv'))\n",
        "ratings_df = pd.read_csv(os.path.join(base_dir, 'ratings_subset.csv'))"
      ],
      "execution_count": null,
      "outputs": []
    },
    {
      "cell_type": "code",
      "metadata": {
        "id": "66MyR7Ck_lqB"
      },
      "source": [
        "#load anime and rating dataframe\n",
        "base_dir = \"drive/MyDrive/CIS519/\"\n",
        "anime_df = pd.read_csv(os.path.join(base_dir, 'anime_subset.csv'))\n",
        "ratings_df = pd.read_csv(os.path.join(base_dir, 'ratings_subset.csv'))"
      ],
      "execution_count": null,
      "outputs": []
    },
    {
      "cell_type": "code",
      "metadata": {
        "id": "kBbvjewLvKHr"
      },
      "source": [
        "anime_df.describe()"
      ],
      "execution_count": null,
      "outputs": []
    },
    {
      "cell_type": "code",
      "metadata": {
        "colab": {
          "base_uri": "https://localhost:8080/",
          "height": 297
        },
        "id": "aNUa2SdOBc-H",
        "outputId": "856f7028-4f45-4fbc-da60-c185c03317f0"
      },
      "source": [
        "ratings_df.describe()"
      ],
      "execution_count": null,
      "outputs": [
        {
          "output_type": "execute_result",
          "data": {
            "text/html": [
              "<div>\n",
              "<style scoped>\n",
              "    .dataframe tbody tr th:only-of-type {\n",
              "        vertical-align: middle;\n",
              "    }\n",
              "\n",
              "    .dataframe tbody tr th {\n",
              "        vertical-align: top;\n",
              "    }\n",
              "\n",
              "    .dataframe thead th {\n",
              "        text-align: right;\n",
              "    }\n",
              "</style>\n",
              "<table border=\"1\" class=\"dataframe\">\n",
              "  <thead>\n",
              "    <tr style=\"text-align: right;\">\n",
              "      <th></th>\n",
              "      <th>user_id</th>\n",
              "      <th>anime_id</th>\n",
              "      <th>rating</th>\n",
              "    </tr>\n",
              "  </thead>\n",
              "  <tbody>\n",
              "    <tr>\n",
              "      <th>count</th>\n",
              "      <td>674215.000000</td>\n",
              "      <td>674215.000000</td>\n",
              "      <td>674215.000000</td>\n",
              "    </tr>\n",
              "    <tr>\n",
              "      <th>mean</th>\n",
              "      <td>2457.812548</td>\n",
              "      <td>441.225897</td>\n",
              "      <td>7.850009</td>\n",
              "    </tr>\n",
              "    <tr>\n",
              "      <th>std</th>\n",
              "      <td>1439.094728</td>\n",
              "      <td>282.713090</td>\n",
              "      <td>1.523782</td>\n",
              "    </tr>\n",
              "    <tr>\n",
              "      <th>min</th>\n",
              "      <td>0.000000</td>\n",
              "      <td>0.000000</td>\n",
              "      <td>1.000000</td>\n",
              "    </tr>\n",
              "    <tr>\n",
              "      <th>25%</th>\n",
              "      <td>1210.000000</td>\n",
              "      <td>184.000000</td>\n",
              "      <td>7.000000</td>\n",
              "    </tr>\n",
              "    <tr>\n",
              "      <th>50%</th>\n",
              "      <td>2451.000000</td>\n",
              "      <td>420.000000</td>\n",
              "      <td>8.000000</td>\n",
              "    </tr>\n",
              "    <tr>\n",
              "      <th>75%</th>\n",
              "      <td>3674.000000</td>\n",
              "      <td>676.000000</td>\n",
              "      <td>9.000000</td>\n",
              "    </tr>\n",
              "    <tr>\n",
              "      <th>max</th>\n",
              "      <td>4999.000000</td>\n",
              "      <td>999.000000</td>\n",
              "      <td>10.000000</td>\n",
              "    </tr>\n",
              "  </tbody>\n",
              "</table>\n",
              "</div>"
            ],
            "text/plain": [
              "             user_id       anime_id         rating\n",
              "count  674215.000000  674215.000000  674215.000000\n",
              "mean     2457.812548     441.225897       7.850009\n",
              "std      1439.094728     282.713090       1.523782\n",
              "min         0.000000       0.000000       1.000000\n",
              "25%      1210.000000     184.000000       7.000000\n",
              "50%      2451.000000     420.000000       8.000000\n",
              "75%      3674.000000     676.000000       9.000000\n",
              "max      4999.000000     999.000000      10.000000"
            ]
          },
          "metadata": {
            "tags": []
          },
          "execution_count": 7
        }
      ]
    },
    {
      "cell_type": "code",
      "metadata": {
        "colab": {
          "base_uri": "https://localhost:8080/",
          "height": 598
        },
        "id": "rLuH6ubcC7FJ",
        "outputId": "04d19173-eb8b-4da1-c4e5-ea281fd3bb87"
      },
      "source": [
        "anime_df.head()"
      ],
      "execution_count": null,
      "outputs": [
        {
          "output_type": "execute_result",
          "data": {
            "text/html": [
              "<div>\n",
              "<style scoped>\n",
              "    .dataframe tbody tr th:only-of-type {\n",
              "        vertical-align: middle;\n",
              "    }\n",
              "\n",
              "    .dataframe tbody tr th {\n",
              "        vertical-align: top;\n",
              "    }\n",
              "\n",
              "    .dataframe thead th {\n",
              "        text-align: right;\n",
              "    }\n",
              "</style>\n",
              "<table border=\"1\" class=\"dataframe\">\n",
              "  <thead>\n",
              "    <tr style=\"text-align: right;\">\n",
              "      <th></th>\n",
              "      <th>anime_id</th>\n",
              "      <th>name</th>\n",
              "      <th>genre</th>\n",
              "      <th>type</th>\n",
              "      <th>episodes</th>\n",
              "      <th>rating</th>\n",
              "      <th>members</th>\n",
              "      <th>Military</th>\n",
              "      <th>Super Power</th>\n",
              "      <th>Romance</th>\n",
              "      <th>Shounen</th>\n",
              "      <th>Horror</th>\n",
              "      <th>Kids</th>\n",
              "      <th>School</th>\n",
              "      <th>Fantasy</th>\n",
              "      <th>Mystery</th>\n",
              "      <th>Harem</th>\n",
              "      <th>Seinen</th>\n",
              "      <th>Dementia</th>\n",
              "      <th>Historical</th>\n",
              "      <th>Yaoi</th>\n",
              "      <th>Sci-Fi</th>\n",
              "      <th>Shounen Ai</th>\n",
              "      <th>Hentai</th>\n",
              "      <th>Josei</th>\n",
              "      <th>Vampire</th>\n",
              "      <th>Adventure</th>\n",
              "      <th>Police</th>\n",
              "      <th>Magic</th>\n",
              "      <th>Martial Arts</th>\n",
              "      <th>Space</th>\n",
              "      <th>Psychological</th>\n",
              "      <th>Slice of Life</th>\n",
              "      <th>Mecha</th>\n",
              "      <th>Samurai</th>\n",
              "      <th>Yuri</th>\n",
              "      <th>Game</th>\n",
              "      <th>Demons</th>\n",
              "      <th>Parody</th>\n",
              "      <th>Drama</th>\n",
              "      <th>Supernatural</th>\n",
              "      <th>Sports</th>\n",
              "      <th>Shoujo Ai</th>\n",
              "      <th>Ecchi</th>\n",
              "      <th>Action</th>\n",
              "      <th>Cars</th>\n",
              "      <th>Music</th>\n",
              "      <th>Comedy</th>\n",
              "      <th>Shoujo</th>\n",
              "      <th>Thriller</th>\n",
              "      <th>Movie</th>\n",
              "      <th>TV</th>\n",
              "      <th>OVA</th>\n",
              "      <th>Special</th>\n",
              "      <th>ONA</th>\n",
              "    </tr>\n",
              "  </thead>\n",
              "  <tbody>\n",
              "    <tr>\n",
              "      <th>0</th>\n",
              "      <td>0</td>\n",
              "      <td>Pokemon: Senritsu no Mirage Pokemon</td>\n",
              "      <td>Adventure, Comedy, Fantasy, Kids</td>\n",
              "      <td>3</td>\n",
              "      <td>1</td>\n",
              "      <td>6.57</td>\n",
              "      <td>13040</td>\n",
              "      <td>0</td>\n",
              "      <td>0</td>\n",
              "      <td>0</td>\n",
              "      <td>0</td>\n",
              "      <td>0</td>\n",
              "      <td>1</td>\n",
              "      <td>0</td>\n",
              "      <td>1</td>\n",
              "      <td>0</td>\n",
              "      <td>0</td>\n",
              "      <td>0</td>\n",
              "      <td>0</td>\n",
              "      <td>0</td>\n",
              "      <td>0</td>\n",
              "      <td>0</td>\n",
              "      <td>0</td>\n",
              "      <td>0</td>\n",
              "      <td>0</td>\n",
              "      <td>0</td>\n",
              "      <td>1</td>\n",
              "      <td>0</td>\n",
              "      <td>0</td>\n",
              "      <td>0</td>\n",
              "      <td>0</td>\n",
              "      <td>0</td>\n",
              "      <td>0</td>\n",
              "      <td>0</td>\n",
              "      <td>0</td>\n",
              "      <td>0</td>\n",
              "      <td>0</td>\n",
              "      <td>0</td>\n",
              "      <td>0</td>\n",
              "      <td>0</td>\n",
              "      <td>0</td>\n",
              "      <td>0</td>\n",
              "      <td>0</td>\n",
              "      <td>0</td>\n",
              "      <td>0</td>\n",
              "      <td>0</td>\n",
              "      <td>0</td>\n",
              "      <td>1</td>\n",
              "      <td>0</td>\n",
              "      <td>0</td>\n",
              "      <td>0</td>\n",
              "      <td>0</td>\n",
              "      <td>0</td>\n",
              "      <td>1</td>\n",
              "      <td>0</td>\n",
              "    </tr>\n",
              "    <tr>\n",
              "      <th>1</th>\n",
              "      <td>1</td>\n",
              "      <td>Arslan Senki (TV): Fuujin Ranbu</td>\n",
              "      <td>Action, Adventure, Drama, Fantasy, Historical,...</td>\n",
              "      <td>1</td>\n",
              "      <td>8</td>\n",
              "      <td>7.70</td>\n",
              "      <td>53577</td>\n",
              "      <td>0</td>\n",
              "      <td>0</td>\n",
              "      <td>0</td>\n",
              "      <td>1</td>\n",
              "      <td>0</td>\n",
              "      <td>0</td>\n",
              "      <td>0</td>\n",
              "      <td>1</td>\n",
              "      <td>0</td>\n",
              "      <td>0</td>\n",
              "      <td>0</td>\n",
              "      <td>0</td>\n",
              "      <td>1</td>\n",
              "      <td>0</td>\n",
              "      <td>0</td>\n",
              "      <td>0</td>\n",
              "      <td>0</td>\n",
              "      <td>0</td>\n",
              "      <td>0</td>\n",
              "      <td>1</td>\n",
              "      <td>0</td>\n",
              "      <td>0</td>\n",
              "      <td>0</td>\n",
              "      <td>0</td>\n",
              "      <td>0</td>\n",
              "      <td>0</td>\n",
              "      <td>0</td>\n",
              "      <td>0</td>\n",
              "      <td>0</td>\n",
              "      <td>0</td>\n",
              "      <td>0</td>\n",
              "      <td>0</td>\n",
              "      <td>1</td>\n",
              "      <td>1</td>\n",
              "      <td>0</td>\n",
              "      <td>0</td>\n",
              "      <td>0</td>\n",
              "      <td>1</td>\n",
              "      <td>0</td>\n",
              "      <td>0</td>\n",
              "      <td>0</td>\n",
              "      <td>0</td>\n",
              "      <td>0</td>\n",
              "      <td>0</td>\n",
              "      <td>1</td>\n",
              "      <td>0</td>\n",
              "      <td>0</td>\n",
              "      <td>0</td>\n",
              "    </tr>\n",
              "    <tr>\n",
              "      <th>2</th>\n",
              "      <td>2</td>\n",
              "      <td>Code Geass: Hangyaku no Lelouch</td>\n",
              "      <td>Action, Mecha, Military, School, Sci-Fi, Super...</td>\n",
              "      <td>1</td>\n",
              "      <td>25</td>\n",
              "      <td>8.83</td>\n",
              "      <td>715151</td>\n",
              "      <td>1</td>\n",
              "      <td>1</td>\n",
              "      <td>0</td>\n",
              "      <td>0</td>\n",
              "      <td>0</td>\n",
              "      <td>0</td>\n",
              "      <td>1</td>\n",
              "      <td>0</td>\n",
              "      <td>0</td>\n",
              "      <td>0</td>\n",
              "      <td>0</td>\n",
              "      <td>0</td>\n",
              "      <td>0</td>\n",
              "      <td>0</td>\n",
              "      <td>1</td>\n",
              "      <td>0</td>\n",
              "      <td>0</td>\n",
              "      <td>0</td>\n",
              "      <td>0</td>\n",
              "      <td>0</td>\n",
              "      <td>0</td>\n",
              "      <td>0</td>\n",
              "      <td>0</td>\n",
              "      <td>0</td>\n",
              "      <td>0</td>\n",
              "      <td>0</td>\n",
              "      <td>1</td>\n",
              "      <td>0</td>\n",
              "      <td>0</td>\n",
              "      <td>0</td>\n",
              "      <td>0</td>\n",
              "      <td>0</td>\n",
              "      <td>0</td>\n",
              "      <td>0</td>\n",
              "      <td>0</td>\n",
              "      <td>0</td>\n",
              "      <td>0</td>\n",
              "      <td>1</td>\n",
              "      <td>0</td>\n",
              "      <td>0</td>\n",
              "      <td>0</td>\n",
              "      <td>0</td>\n",
              "      <td>0</td>\n",
              "      <td>0</td>\n",
              "      <td>1</td>\n",
              "      <td>0</td>\n",
              "      <td>0</td>\n",
              "      <td>0</td>\n",
              "    </tr>\n",
              "    <tr>\n",
              "      <th>3</th>\n",
              "      <td>3</td>\n",
              "      <td>Fate/stay night: Unlimited Blade Works</td>\n",
              "      <td>Action, Fantasy, Magic, Shounen, Supernatural</td>\n",
              "      <td>1</td>\n",
              "      <td>12</td>\n",
              "      <td>8.42</td>\n",
              "      <td>267484</td>\n",
              "      <td>0</td>\n",
              "      <td>0</td>\n",
              "      <td>0</td>\n",
              "      <td>1</td>\n",
              "      <td>0</td>\n",
              "      <td>0</td>\n",
              "      <td>0</td>\n",
              "      <td>1</td>\n",
              "      <td>0</td>\n",
              "      <td>0</td>\n",
              "      <td>0</td>\n",
              "      <td>0</td>\n",
              "      <td>0</td>\n",
              "      <td>0</td>\n",
              "      <td>0</td>\n",
              "      <td>0</td>\n",
              "      <td>0</td>\n",
              "      <td>0</td>\n",
              "      <td>0</td>\n",
              "      <td>0</td>\n",
              "      <td>0</td>\n",
              "      <td>1</td>\n",
              "      <td>0</td>\n",
              "      <td>0</td>\n",
              "      <td>0</td>\n",
              "      <td>0</td>\n",
              "      <td>0</td>\n",
              "      <td>0</td>\n",
              "      <td>0</td>\n",
              "      <td>0</td>\n",
              "      <td>0</td>\n",
              "      <td>0</td>\n",
              "      <td>0</td>\n",
              "      <td>1</td>\n",
              "      <td>0</td>\n",
              "      <td>0</td>\n",
              "      <td>0</td>\n",
              "      <td>1</td>\n",
              "      <td>0</td>\n",
              "      <td>0</td>\n",
              "      <td>0</td>\n",
              "      <td>0</td>\n",
              "      <td>0</td>\n",
              "      <td>0</td>\n",
              "      <td>1</td>\n",
              "      <td>0</td>\n",
              "      <td>0</td>\n",
              "      <td>0</td>\n",
              "    </tr>\n",
              "    <tr>\n",
              "      <th>4</th>\n",
              "      <td>4</td>\n",
              "      <td>Beelzebub: Hirotta Akachan wa Daimaou!?</td>\n",
              "      <td>Action, Comedy, Demons, School, Shounen, Super...</td>\n",
              "      <td>3</td>\n",
              "      <td>1</td>\n",
              "      <td>7.34</td>\n",
              "      <td>21212</td>\n",
              "      <td>0</td>\n",
              "      <td>0</td>\n",
              "      <td>0</td>\n",
              "      <td>1</td>\n",
              "      <td>0</td>\n",
              "      <td>0</td>\n",
              "      <td>1</td>\n",
              "      <td>0</td>\n",
              "      <td>0</td>\n",
              "      <td>0</td>\n",
              "      <td>0</td>\n",
              "      <td>0</td>\n",
              "      <td>0</td>\n",
              "      <td>0</td>\n",
              "      <td>0</td>\n",
              "      <td>0</td>\n",
              "      <td>0</td>\n",
              "      <td>0</td>\n",
              "      <td>0</td>\n",
              "      <td>0</td>\n",
              "      <td>0</td>\n",
              "      <td>0</td>\n",
              "      <td>0</td>\n",
              "      <td>0</td>\n",
              "      <td>0</td>\n",
              "      <td>0</td>\n",
              "      <td>0</td>\n",
              "      <td>0</td>\n",
              "      <td>0</td>\n",
              "      <td>0</td>\n",
              "      <td>1</td>\n",
              "      <td>0</td>\n",
              "      <td>0</td>\n",
              "      <td>1</td>\n",
              "      <td>0</td>\n",
              "      <td>0</td>\n",
              "      <td>0</td>\n",
              "      <td>1</td>\n",
              "      <td>0</td>\n",
              "      <td>0</td>\n",
              "      <td>1</td>\n",
              "      <td>0</td>\n",
              "      <td>0</td>\n",
              "      <td>0</td>\n",
              "      <td>0</td>\n",
              "      <td>0</td>\n",
              "      <td>1</td>\n",
              "      <td>0</td>\n",
              "    </tr>\n",
              "  </tbody>\n",
              "</table>\n",
              "</div>"
            ],
            "text/plain": [
              "   anime_id                                     name  ... Special  ONA\n",
              "0         0      Pokemon: Senritsu no Mirage Pokemon  ...       1    0\n",
              "1         1          Arslan Senki (TV): Fuujin Ranbu  ...       0    0\n",
              "2         2          Code Geass: Hangyaku no Lelouch  ...       0    0\n",
              "3         3   Fate/stay night: Unlimited Blade Works  ...       0    0\n",
              "4         4  Beelzebub: Hirotta Akachan wa Daimaou!?  ...       1    0\n",
              "\n",
              "[5 rows x 55 columns]"
            ]
          },
          "metadata": {
            "tags": []
          },
          "execution_count": 7
        }
      ]
    },
    {
      "cell_type": "code",
      "metadata": {
        "colab": {
          "base_uri": "https://localhost:8080/"
        },
        "id": "JAYXp4Q7KehJ",
        "outputId": "381450e4-ace9-4148-c248-1c2f5c8198ff"
      },
      "source": [
        "genres = set()\n",
        "for gs in anime_df['genre']:\n",
        "  for g in gs.split(', '):\n",
        "    genres.add(g)\n",
        "print(len(genres))"
      ],
      "execution_count": null,
      "outputs": [
        {
          "output_type": "stream",
          "text": [
            "43\n"
          ],
          "name": "stdout"
        }
      ]
    },
    {
      "cell_type": "code",
      "metadata": {
        "id": "u_37TsorCPMg"
      },
      "source": [
        "# onehot encode genre and type\n",
        "for g in genres:\n",
        "  anime_df[g] = anime_df['genre'].apply(lambda x: int(g in x))\n",
        "for t in anime_df['type'].unique():\n",
        "  anime_df[t] = anime_df['type'].apply(lambda x: int(x == t))"
      ],
      "execution_count": null,
      "outputs": []
    },
    {
      "cell_type": "code",
      "metadata": {
        "colab": {
          "base_uri": "https://localhost:8080/"
        },
        "id": "cSzCmB0eWUfT",
        "outputId": "48176e56-ca30-4acb-e233-fce84ed40275"
      },
      "source": [
        "anime_df['rating'].min()"
      ],
      "execution_count": null,
      "outputs": [
        {
          "output_type": "execute_result",
          "data": {
            "text/plain": [
              "1.67"
            ]
          },
          "metadata": {
            "tags": []
          },
          "execution_count": 120
        }
      ]
    },
    {
      "cell_type": "code",
      "metadata": {
        "colab": {
          "base_uri": "https://localhost:8080/",
          "height": 204
        },
        "id": "Yn3ZC4zoDRTv",
        "outputId": "67140deb-dbb8-4e57-ac2f-c2a642a853bc"
      },
      "source": [
        "ratings_df.head()"
      ],
      "execution_count": null,
      "outputs": [
        {
          "output_type": "execute_result",
          "data": {
            "text/html": [
              "<div>\n",
              "<style scoped>\n",
              "    .dataframe tbody tr th:only-of-type {\n",
              "        vertical-align: middle;\n",
              "    }\n",
              "\n",
              "    .dataframe tbody tr th {\n",
              "        vertical-align: top;\n",
              "    }\n",
              "\n",
              "    .dataframe thead th {\n",
              "        text-align: right;\n",
              "    }\n",
              "</style>\n",
              "<table border=\"1\" class=\"dataframe\">\n",
              "  <thead>\n",
              "    <tr style=\"text-align: right;\">\n",
              "      <th></th>\n",
              "      <th>user_id</th>\n",
              "      <th>anime_id</th>\n",
              "      <th>rating</th>\n",
              "    </tr>\n",
              "  </thead>\n",
              "  <tbody>\n",
              "    <tr>\n",
              "      <th>0</th>\n",
              "      <td>1</td>\n",
              "      <td>20</td>\n",
              "      <td>-1</td>\n",
              "    </tr>\n",
              "    <tr>\n",
              "      <th>1</th>\n",
              "      <td>1</td>\n",
              "      <td>24</td>\n",
              "      <td>-1</td>\n",
              "    </tr>\n",
              "    <tr>\n",
              "      <th>2</th>\n",
              "      <td>1</td>\n",
              "      <td>79</td>\n",
              "      <td>-1</td>\n",
              "    </tr>\n",
              "    <tr>\n",
              "      <th>3</th>\n",
              "      <td>1</td>\n",
              "      <td>226</td>\n",
              "      <td>-1</td>\n",
              "    </tr>\n",
              "    <tr>\n",
              "      <th>4</th>\n",
              "      <td>1</td>\n",
              "      <td>241</td>\n",
              "      <td>-1</td>\n",
              "    </tr>\n",
              "  </tbody>\n",
              "</table>\n",
              "</div>"
            ],
            "text/plain": [
              "   user_id  anime_id  rating\n",
              "0        1        20      -1\n",
              "1        1        24      -1\n",
              "2        1        79      -1\n",
              "3        1       226      -1\n",
              "4        1       241      -1"
            ]
          },
          "metadata": {
            "tags": []
          },
          "execution_count": 11
        }
      ]
    },
    {
      "cell_type": "code",
      "metadata": {
        "colab": {
          "base_uri": "https://localhost:8080/",
          "height": 293
        },
        "id": "V2C5fF2dDkex",
        "outputId": "1690d374-0fec-4fa7-e1fc-333278f4dcb0"
      },
      "source": [
        "vc = ratings_df['rating'].value_counts()\n",
        "plt.bar(vc.index, vc.values)"
      ],
      "execution_count": null,
      "outputs": [
        {
          "output_type": "execute_result",
          "data": {
            "text/plain": [
              "<BarContainer object of 11 artists>"
            ]
          },
          "metadata": {
            "tags": []
          },
          "execution_count": 11
        },
        {
          "output_type": "display_data",
          "data": {
            "image/png": "[encoded data removed]",
            "text/plain": [
              "<Figure size 432x288 with 1 Axes>"
            ]
          },
          "metadata": {
            "tags": []
          }
        }
      ]
    },
    {
      "cell_type": "code",
      "metadata": {
        "id": "7-QNGWNrEl4e"
      },
      "source": [
        "ratings = ratings_df.loc[ratings_df['rating'] != -1]"
      ],
      "execution_count": null,
      "outputs": []
    },
    {
      "cell_type": "code",
      "metadata": {
        "colab": {
          "base_uri": "https://localhost:8080/",
          "height": 204
        },
        "id": "dpVSBYewFD3n",
        "outputId": "a6907d39-74c6-4161-ee09-a58094e95cbe"
      },
      "source": [
        "ratings.head()"
      ],
      "execution_count": null,
      "outputs": [
        {
          "output_type": "execute_result",
          "data": {
            "text/html": [
              "<div>\n",
              "<style scoped>\n",
              "    .dataframe tbody tr th:only-of-type {\n",
              "        vertical-align: middle;\n",
              "    }\n",
              "\n",
              "    .dataframe tbody tr th {\n",
              "        vertical-align: top;\n",
              "    }\n",
              "\n",
              "    .dataframe thead th {\n",
              "        text-align: right;\n",
              "    }\n",
              "</style>\n",
              "<table border=\"1\" class=\"dataframe\">\n",
              "  <thead>\n",
              "    <tr style=\"text-align: right;\">\n",
              "      <th></th>\n",
              "      <th>user_id</th>\n",
              "      <th>anime_id</th>\n",
              "      <th>rating</th>\n",
              "    </tr>\n",
              "  </thead>\n",
              "  <tbody>\n",
              "    <tr>\n",
              "      <th>47</th>\n",
              "      <td>1</td>\n",
              "      <td>8074</td>\n",
              "      <td>10</td>\n",
              "    </tr>\n",
              "    <tr>\n",
              "      <th>81</th>\n",
              "      <td>1</td>\n",
              "      <td>11617</td>\n",
              "      <td>10</td>\n",
              "    </tr>\n",
              "    <tr>\n",
              "      <th>83</th>\n",
              "      <td>1</td>\n",
              "      <td>11757</td>\n",
              "      <td>10</td>\n",
              "    </tr>\n",
              "    <tr>\n",
              "      <th>101</th>\n",
              "      <td>1</td>\n",
              "      <td>15451</td>\n",
              "      <td>10</td>\n",
              "    </tr>\n",
              "    <tr>\n",
              "      <th>153</th>\n",
              "      <td>2</td>\n",
              "      <td>11771</td>\n",
              "      <td>10</td>\n",
              "    </tr>\n",
              "  </tbody>\n",
              "</table>\n",
              "</div>"
            ],
            "text/plain": [
              "     user_id  anime_id  rating\n",
              "47         1      8074      10\n",
              "81         1     11617      10\n",
              "83         1     11757      10\n",
              "101        1     15451      10\n",
              "153        2     11771      10"
            ]
          },
          "metadata": {
            "tags": []
          },
          "execution_count": 13
        }
      ]
    },
    {
      "cell_type": "markdown",
      "metadata": {
        "id": "gW36CBTXDpHM"
      },
      "source": [
        "# Collaborative Filtering"
      ]
    },
    {
      "cell_type": "markdown",
      "metadata": {
        "id": "bLVKqmBTdyJe"
      },
      "source": [
        "### Setting up train and test set"
      ]
    },
    {
      "cell_type": "code",
      "metadata": {
        "id": "ssa7nhmuBWKz"
      },
      "source": [
        "from sklearn.neighbors import NearestNeighbors\n",
        "from sklearn.preprocessing import normalize\n",
        "from sklearn.metrics.pairwise import cosine_similarity\n",
        "# from sklearn.metrics import accuracy_score\n",
        "from sklearn.cluster import KMeans\n",
        "from sklearn.decomposition import TruncatedSVD\n"
      ],
      "execution_count": null,
      "outputs": []
    },
    {
      "cell_type": "code",
      "metadata": {
        "id": "_8z-mG0oSVaK"
      },
      "source": [
        "train_length = int(len(ratings_df) * 0.8)\n",
        "test_length = len(ratings_df) - train_length \n",
        "train_df = ratings_df.iloc[:train_length]\n",
        "test_df = ratings_df.iloc[-test_length:]\n",
        "util_mtx = ratings_df.pivot_table(index='user_id',columns='anime_id',values='rating').fillna(0)\n",
        "util_mtx_train  = train_df.pivot_table(index='user_id',columns='anime_id',values='rating').fillna(0)\n",
        "util_mtx_test  = test_df.pivot_table(index='user_id',columns='anime_id',values='rating').fillna(0)"
      ],
      "execution_count": null,
      "outputs": []
    },
    {
      "cell_type": "code",
      "metadata": {
        "colab": {
          "base_uri": "https://localhost:8080/"
        },
        "id": "NC1w8u23Sq3F",
        "outputId": "2f998872-d55b-41e9-d699-bff85952dafa"
      },
      "source": [
        "# find missing anime column in the testing utility matrix\n",
        "missing = np.setdiff1d(util_mtx_train.columns.values,util_mtx_test.columns.values)\n",
        "missing"
      ],
      "execution_count": null,
      "outputs": [
        {
          "output_type": "execute_result",
          "data": {
            "text/plain": [
              "array([ 96, 265, 593, 867])"
            ]
          },
          "metadata": {
            "tags": []
          },
          "execution_count": 6
        }
      ]
    },
    {
      "cell_type": "code",
      "metadata": {
        "id": "7LqJ6HU-U8BX"
      },
      "source": [
        "# recreate utility matrix with no missing anime\n",
        "new_ratings_df = ratings_df.append(pd.concat([pd.DataFrame([[0,i,0]], columns=['user_id','anime_id','rating']) for i in missing]),ignore_index=True)\n",
        "new_test_df = new_ratings_df.iloc[-(len(new_ratings_df)-train_length):]\n",
        "util_mtx_test  = new_test_df.pivot_table(index='user_id',columns='anime_id',values='rating').fillna(0)"
      ],
      "execution_count": null,
      "outputs": []
    },
    {
      "cell_type": "markdown",
      "metadata": {
        "id": "L8dhXrGmbCBa"
      },
      "source": [
        "### Using KNN\n"
      ]
    },
    {
      "cell_type": "code",
      "metadata": {
        "id": "GQikKoKrcFl-"
      },
      "source": [
        "def create_mean_center(sparse):\n",
        "  a = sparse.copy()\n",
        "  shape = sparse.shape\n",
        "  row_sums = np.array(sparse.sum(axis=1))[:,0]\n",
        "  cts=np.diff(sparse.tocsr().indptr)\n",
        "  means=row_sums/cts\n",
        "  mc = np.repeat(means, cts)\n",
        "  a.data = sparse.data- mc\n",
        "  return a.toarray()\n",
        "\n",
        "\n",
        "def mean_rating(user_id,util_mtx):\n",
        "\n",
        "  return np.mean(util_mtx.loc[user_id][util_mtx.loc[user_id]!=0])\n",
        "\n",
        "\n",
        "def nb_weight_rating(neighbor_index,similarities):\n",
        "\n",
        "  nb_mean = np.zeros(shape = (sparse.shape[1]))\n",
        "\n",
        "  for i in range(len(neighbor_index)):\n",
        "    weight = similarities[i]/similarities.sum()\n",
        "    #mean_centered_train are the mean centered ratings in training set\n",
        "    nb_mean += mean_centered_train[neighbor_index[i]]* weight\n",
        "\n",
        "  return nb_mean"
      ],
      "execution_count": null,
      "outputs": []
    },
    {
      "cell_type": "code",
      "metadata": {
        "id": "X-c-J7gDcFl_"
      },
      "source": [
        "def NN_Cluster(rating):\n",
        "  dis, ind =nn.kneighbors(rating)\n",
        "  return ind[0][1:], 1 - dis[0][1:]\n",
        "\n",
        "def prediction_knn(user_id,util_mtx):\n",
        "  \n",
        "  rating = util_mtx.loc[user_id].values.reshape(1,-1)\n",
        "  nb_ind, similarity = NN_Cluster(rating)\n",
        "  # nb_id = util_mtx.iloc[nb_ind.tolist()].index.values\n",
        "  predictions = mean_rating(user_id,util_mtx_train) + nb_weight_rating(nb_ind, similarity)\n",
        "\n",
        "  return  np.around(predictions,3)\n",
        "\n",
        "def recommend(user_id, n):\n",
        "\n",
        "  anime_ind = np.argsort(-prediction_knn(user_id,util_mtx))[:n]\n",
        "  anime_id = util_mtx.iloc[:,anime_ind].columns.values\n",
        "\n",
        "  return anime_id\n",
        "\n",
        "def predict_rating(user_id, anime_id):\n",
        "  ind = util_mtx_train.columns.get_loc(anime_id)\n",
        "  rating = prediction_knn(user_id,util_mtx=util_mtx)[ind]\n",
        "  return rating\n",
        "\n",
        "\n"
      ],
      "execution_count": null,
      "outputs": []
    },
    {
      "cell_type": "code",
      "metadata": {
        "id": "0gbEASv1EG7c"
      },
      "source": [
        "def rmse_train(method):\n",
        "  err_sq = 0\n",
        "  N = len(train_df)\n",
        "  users = set(train_df.user_id)\n",
        "\n",
        "  for user in users:\n",
        "    \n",
        "    animes = train_df[train_df.user_id==user].anime_id\n",
        "\n",
        "    pred = method(user,util_mtx_train)[animes]\n",
        "    true = util_mtx_train.loc[user,animes]\n",
        "\n",
        "    err_sq += np.sum(np.square(true-pred))\n",
        "\n",
        "  return np.sqrt(err_sq/N)\n",
        "\n",
        "def rmse_test(method):\n",
        "  err_sq = 0\n",
        "  N = len(test_df)\n",
        "  users = set(test_df.user_id)\n",
        "\n",
        "  for user in tqdm.tqdm(users):\n",
        "    \n",
        "    animes = test_df[test_df.user_id==user].anime_id\n",
        "\n",
        "    pred = method(user,util_mtx_test)[animes]\n",
        "    true = util_mtx_test.loc[user,animes]\n",
        "\n",
        "    err_sq += np.sum(np.square(true-pred))\n",
        "  \n",
        "\n",
        "\n",
        "  return np.sqrt(err_sq/N)"
      ],
      "execution_count": null,
      "outputs": []
    },
    {
      "cell_type": "code",
      "metadata": {
        "id": "VB96mnYVa4bT"
      },
      "source": [
        "sparse = csr_matrix(util_mtx.values)\n",
        "sparse_train = csr_matrix(util_mtx_train.values)"
      ],
      "execution_count": null,
      "outputs": []
    },
    {
      "cell_type": "code",
      "metadata": {
        "id": "JdtqhJVScp_n"
      },
      "source": [
        "#normalized ratings\n",
        "norm = normalize(sparse, norm='l2', axis=1, copy=True)\n",
        "norm_train = normalize(sparse_train, norm='l2', axis=1, copy=True)\n",
        "norm_test = normalize(csr_matrix(util_mtx_test.values), norm='l2', axis=1, copy=True)"
      ],
      "execution_count": null,
      "outputs": []
    },
    {
      "cell_type": "code",
      "metadata": {
        "colab": {
          "base_uri": "https://localhost:8080/"
        },
        "id": "-G5DPnU1sjHq",
        "outputId": "e6e0d757-a2cd-4d11-d2b5-2596f1fc961d"
      },
      "source": [
        "#use whole dataset\n",
        "nn = NearestNeighbors(metric=\"cosine\",n_neighbors=11,n_jobs=-1)\n",
        "nn.fit(norm_train)\n",
        "mean_centered_train = create_mean_center(sparse_train)\n",
        "recommend(3,5)"
      ],
      "execution_count": null,
      "outputs": [
        {
          "output_type": "execute_result",
          "data": {
            "text/plain": [
              "array([  9,  21, 270, 968, 567])"
            ]
          },
          "metadata": {
            "tags": []
          },
          "execution_count": 13
        }
      ]
    },
    {
      "cell_type": "markdown",
      "metadata": {
        "id": "d7IvjK28cMwu"
      },
      "source": [
        "### Using KMeans"
      ]
    },
    {
      "cell_type": "code",
      "metadata": {
        "id": "gnr10tcMcFmA"
      },
      "source": [
        "svd = TruncatedSVD(n_components=50, n_iter=10, random_state=42)\n",
        "transformed_train = svd.fit_transform(norm_train)\n",
        "transformed_test = svd.transform(norm_test)\n",
        "# transformed_whole = TruncatedSVD(n_components=50, n_iter=10, random_state=42).fit_transform(norm)\n",
        "\n",
        "\n",
        "kmeans = KMeans(n_clusters=50,init='k-means++',n_jobs = -1)\n",
        "cluster_train = kmeans.fit_predict(transformed_train)\n",
        "cluster_test = kmeans.predict(transformed_test)\n",
        "# cluster_whole = KMeans(n_clusters=50,init='k-means++',n_jobs = -1).fit_predict(transformed_whole)\n",
        "\n",
        "\n"
      ],
      "execution_count": null,
      "outputs": []
    },
    {
      "cell_type": "code",
      "metadata": {
        "id": "TxvAVG4acFmA"
      },
      "source": [
        "cluster_df_train = pd.DataFrame( data = {'user_id':util_mtx_train.index.values,'cluster':cluster_train} )\n",
        "cluster_df_test = pd.DataFrame( data = {'user_id':util_mtx_test.index.values,'cluster':cluster_test} )\n",
        "# cluster_df_whole = pd.DataFrame( data = {'user_id':util_mtx.index.values,'cluster':cluster_whole} )\n",
        "# groups = cluster_df.groupby(by = [\"cluster\"])\n",
        "# groups.count()"
      ],
      "execution_count": null,
      "outputs": []
    },
    {
      "cell_type": "code",
      "metadata": {
        "id": "Cm7q1arfcFmA"
      },
      "source": [
        "def prediction_kmeans_test(user_id, cluster_df):\n",
        "\n",
        "  num = cluster_df_test[cluster_df_test.user_id==user_id].cluster.values[0]\n",
        "  group =  cluster_df_test[cluster_df_test.cluster==num]\n",
        "  group_ratings = util_mtx_train.loc[group.user_id]\n",
        "\n",
        "  user_ind = util_mtx_test.index.get_loc(user_id)\n",
        "  # neighbors_id = group.drop(user_id,axis = 0).user_id\n",
        "  neighbors_ind = group.drop(user_ind,axis = 0).index.values\n",
        "  \n",
        "  similarity = cosine_similarity(group_ratings)[0][1:]\n",
        "  predictions = mean_rating(user_id,util_mtx_train) + nb_weight_rating(neighbors_ind, similarity)\n",
        "\n",
        "  return np.around(predictions,3)\n",
        "\n",
        "# def prediction_kmeans(user_id,cluster_df = cluster_df_whole):\n",
        "def prediction_kmeans(user_id,cluster_df):\n",
        "\n",
        "  num = cluster_df[cluster_df.user_id==user_id].cluster.values[0]\n",
        "  group =  cluster_df[cluster_df.cluster==num]\n",
        "  group_ratings = util_mtx.loc[group.user_id]\n",
        "\n",
        "  user_ind = util_mtx.index.get_loc(user_id)\n",
        "  # neighbors_id = group.drop(user_id,axis = 0).user_id\n",
        "  neighbors_ind = group.drop(user_ind,axis = 0).index.values\n",
        "  \n",
        "  similarity = cosine_similarity(group_ratings)[0][1:]\n",
        "  predictions = mean_rating(user_id,util_mtx) + nb_weight_rating(neighbors_ind, similarity)\n",
        "\n",
        "  return np.around(predictions,3)\n",
        "\n",
        "\n",
        "def recommend_kmeans(user_id, n):\n",
        "\n",
        "  anime_ind = np.argsort(-prediction_kmeans(user_id, cluster_df_train))[:n]\n",
        "  anime_id = util_mtx.iloc[:,anime_ind].columns.values\n",
        "\n",
        "  return anime_id\n",
        "\n",
        "def predict_rating_kmeans(user_id, anime_id):\n",
        "  ind = util_mtx.columns.get_loc(anime_id)\n",
        "  rating = prediction_kmeans(user_id, cluster_df_train)[ind]\n",
        "  return rating\n",
        "\n"
      ],
      "execution_count": null,
      "outputs": []
    },
    {
      "cell_type": "code",
      "metadata": {
        "id": "jidUGf-McFmA"
      },
      "source": [
        "def rmse_test_kmeans(method):\n",
        "  err_sq = 0\n",
        "  N = len(test_df)\n",
        "  users = set(test_df.user_id)\n",
        "\n",
        "  for user in tqdm.tqdm(users):\n",
        "    \n",
        "    animes = test_df[test_df.user_id==user].anime_id\n",
        "\n",
        "    pred = method(user,cluster_df_test)[animes]\n",
        "    true = util_mtx_test.loc[user,animes]\n",
        "\n",
        "    err_sq += np.sum(np.square(true-pred))\n",
        "\n",
        "  return np.sqrt(err_sq/N)\n",
        "\n",
        "def rmse_train_kmeans(method):\n",
        "  err_sq = 0\n",
        "  N = len(train_df)\n",
        "  users = set(train_df.user_id)\n",
        "\n",
        "  for user in tqdm.tqdm(users):\n",
        "    animes = train_df[train_df.user_id==user].anime_id\n",
        "\n",
        "    pred = method(user,cluster_df_train)[animes]\n",
        "    true = util_mtx_train.loc[user,animes]\n",
        "\n",
        "    err_sq += np.sum(np.square(true-pred))\n",
        "\n",
        "  return np.sqrt(err_sq/N)\n",
        "\n"
      ],
      "execution_count": null,
      "outputs": []
    },
    {
      "cell_type": "code",
      "metadata": {
        "colab": {
          "base_uri": "https://localhost:8080/"
        },
        "id": "s3G2A2lScFmB",
        "outputId": "cee8f0d9-0cf0-45b7-c84c-70e65d95cf54"
      },
      "source": [
        "# use whole dataset to predict scores\n",
        "prediction_kmeans(0,cluster_df_train)\n",
        "recommend_kmeans(0,5)\n",
        "predict_rating_kmeans(0,19)"
      ],
      "execution_count": null,
      "outputs": [
        {
          "output_type": "execute_result",
          "data": {
            "text/plain": [
              "9.013"
            ]
          },
          "metadata": {
            "tags": []
          },
          "execution_count": 18
        }
      ]
    },
    {
      "cell_type": "markdown",
      "metadata": {
        "id": "csberT4Qd-v4"
      },
      "source": [
        "### RMSE on test dataset"
      ]
    },
    {
      "cell_type": "code",
      "metadata": {
        "id": "uU8vPYsY9muA"
      },
      "source": [
        "import tqdm"
      ],
      "execution_count": null,
      "outputs": []
    },
    {
      "cell_type": "code",
      "metadata": {
        "colab": {
          "base_uri": "https://localhost:8080/"
        },
        "id": "Tf2S1r2kmp_j",
        "outputId": "61397a3a-b876-4d7c-f24d-8102695a60e1"
      },
      "source": [
        "#for testing, using only the training data to predict test data\n",
        "nn = NearestNeighbors(metric=\"cosine\",n_neighbors=11,n_jobs=-1)\n",
        "nn.fit(norm_train)\n",
        "mean_centered_train = create_mean_center(sparse_train)\n",
        "print(rmse_test(prediction_knn))"
      ],
      "execution_count": null,
      "outputs": [
        {
          "output_type": "stream",
          "text": [
            "100%|██████████| 4966/4966 [09:12<00:00,  8.99it/s]"
          ],
          "name": "stderr"
        },
        {
          "output_type": "stream",
          "text": [
            "1.2230122841495883\n"
          ],
          "name": "stdout"
        },
        {
          "output_type": "stream",
          "text": [
            "\n"
          ],
          "name": "stderr"
        }
      ]
    },
    {
      "cell_type": "code",
      "metadata": {
        "colab": {
          "base_uri": "https://localhost:8080/"
        },
        "id": "MlYmBhGJcFmB",
        "outputId": "b00e4d48-00b4-43e9-b0ae-40c3c706518a"
      },
      "source": [
        "# for testing, use training dataset to predict test data\n",
        "print(rmse_test_kmeans(prediction_kmeans_test))"
      ],
      "execution_count": null,
      "outputs": [
        {
          "output_type": "stream",
          "text": [
            "100%|██████████| 4966/4966 [10:33<00:00,  7.83it/s]"
          ],
          "name": "stderr"
        },
        {
          "output_type": "stream",
          "text": [
            "1.2773952713138697\n"
          ],
          "name": "stdout"
        },
        {
          "output_type": "stream",
          "text": [
            "\n"
          ],
          "name": "stderr"
        }
      ]
    },
    {
      "cell_type": "markdown",
      "metadata": {
        "id": "NnAoFNIUD1Km"
      },
      "source": [
        "# Content-based Methods"
      ]
    },
    {
      "cell_type": "markdown",
      "metadata": {
        "id": "PSZGIf3OYNEQ"
      },
      "source": [
        "### cleaning and preprocessing the anime dataset"
      ]
    },
    {
      "cell_type": "code",
      "metadata": {
        "id": "ksR6nhCUEEqc"
      },
      "source": [
        "#import data\n",
        "#anime_df = pd.read_csv('anime.csv')\n",
        "##anime_df['type'] = anime_df['type'].fillna('nan')\n",
        "#drop null values\n",
        "#anime_df.dropna(inplace=True)\n",
        "anime_new_df = anime_df[['anime_id', 'name', 'genre', 'type', 'episodes', 'rating', 'members']].copy()"
      ],
      "execution_count": null,
      "outputs": []
    },
    {
      "cell_type": "code",
      "metadata": {
        "id": "CgC6RpTRYdYi"
      },
      "source": [
        "#replace string features with integers. \n",
        "types = {'Movie':0, 'TV':1, 'OVA':2, 'Special':3, 'Music':4, 'ONA':5}\n",
        "anime_new_df.type = [types[item] for item in anime_df.type]"
      ],
      "execution_count": null,
      "outputs": []
    },
    {
      "cell_type": "code",
      "metadata": {
        "id": "kHNjKTWIYhWl"
      },
      "source": [
        "#convert list of genres to a string\n",
        "anime_new_df['genre'] = anime_new_df['genre'].astype('str')\n",
        "anime_new_df['genre'] = anime_new_df['genre'].str.replace(',', '')"
      ],
      "execution_count": null,
      "outputs": []
    },
    {
      "cell_type": "code",
      "metadata": {
        "colab": {
          "base_uri": "https://localhost:8080/",
          "height": 221
        },
        "id": "vZrXXO8sYh_6",
        "outputId": "2c81eb4d-ce64-42e1-8142-66f3070d2913"
      },
      "source": [
        "anime_new_df.head(5)"
      ],
      "execution_count": null,
      "outputs": [
        {
          "output_type": "execute_result",
          "data": {
            "text/html": [
              "<div>\n",
              "<style scoped>\n",
              "    .dataframe tbody tr th:only-of-type {\n",
              "        vertical-align: middle;\n",
              "    }\n",
              "\n",
              "    .dataframe tbody tr th {\n",
              "        vertical-align: top;\n",
              "    }\n",
              "\n",
              "    .dataframe thead th {\n",
              "        text-align: right;\n",
              "    }\n",
              "</style>\n",
              "<table border=\"1\" class=\"dataframe\">\n",
              "  <thead>\n",
              "    <tr style=\"text-align: right;\">\n",
              "      <th></th>\n",
              "      <th>anime_id</th>\n",
              "      <th>name</th>\n",
              "      <th>genre</th>\n",
              "      <th>type</th>\n",
              "      <th>episodes</th>\n",
              "      <th>rating</th>\n",
              "      <th>members</th>\n",
              "    </tr>\n",
              "  </thead>\n",
              "  <tbody>\n",
              "    <tr>\n",
              "      <th>0</th>\n",
              "      <td>0</td>\n",
              "      <td>Pokemon: Senritsu no Mirage Pokemon</td>\n",
              "      <td>Adventure Comedy Fantasy Kids</td>\n",
              "      <td>3</td>\n",
              "      <td>1</td>\n",
              "      <td>6.57</td>\n",
              "      <td>13040</td>\n",
              "    </tr>\n",
              "    <tr>\n",
              "      <th>1</th>\n",
              "      <td>1</td>\n",
              "      <td>Arslan Senki (TV): Fuujin Ranbu</td>\n",
              "      <td>Action Adventure Drama Fantasy Historical Shou...</td>\n",
              "      <td>1</td>\n",
              "      <td>8</td>\n",
              "      <td>7.70</td>\n",
              "      <td>53577</td>\n",
              "    </tr>\n",
              "    <tr>\n",
              "      <th>2</th>\n",
              "      <td>2</td>\n",
              "      <td>Code Geass: Hangyaku no Lelouch</td>\n",
              "      <td>Action Mecha Military School Sci-Fi Super Power</td>\n",
              "      <td>1</td>\n",
              "      <td>25</td>\n",
              "      <td>8.83</td>\n",
              "      <td>715151</td>\n",
              "    </tr>\n",
              "    <tr>\n",
              "      <th>3</th>\n",
              "      <td>3</td>\n",
              "      <td>Fate/stay night: Unlimited Blade Works</td>\n",
              "      <td>Action Fantasy Magic Shounen Supernatural</td>\n",
              "      <td>1</td>\n",
              "      <td>12</td>\n",
              "      <td>8.42</td>\n",
              "      <td>267484</td>\n",
              "    </tr>\n",
              "    <tr>\n",
              "      <th>4</th>\n",
              "      <td>4</td>\n",
              "      <td>Beelzebub: Hirotta Akachan wa Daimaou!?</td>\n",
              "      <td>Action Comedy Demons School Shounen Supernatural</td>\n",
              "      <td>3</td>\n",
              "      <td>1</td>\n",
              "      <td>7.34</td>\n",
              "      <td>21212</td>\n",
              "    </tr>\n",
              "  </tbody>\n",
              "</table>\n",
              "</div>"
            ],
            "text/plain": [
              "   anime_id                                     name  ... rating  members\n",
              "0         0      Pokemon: Senritsu no Mirage Pokemon  ...   6.57    13040\n",
              "1         1          Arslan Senki (TV): Fuujin Ranbu  ...   7.70    53577\n",
              "2         2          Code Geass: Hangyaku no Lelouch  ...   8.83   715151\n",
              "3         3   Fate/stay night: Unlimited Blade Works  ...   8.42   267484\n",
              "4         4  Beelzebub: Hirotta Akachan wa Daimaou!?  ...   7.34    21212\n",
              "\n",
              "[5 rows x 7 columns]"
            ]
          },
          "metadata": {
            "tags": []
          },
          "execution_count": 69
        }
      ]
    },
    {
      "cell_type": "code",
      "metadata": {
        "colab": {
          "base_uri": "https://localhost:8080/",
          "height": 450
        },
        "id": "wsfh4QAYJuE0",
        "outputId": "631fb837-7253-4ed7-eeba-1e23904b9b99"
      },
      "source": [
        "ave_rating_df = ratings_df.copy()\n",
        "ave_rating_df = ave_rating_df.drop(columns=['anime_id'])\n",
        "ave_rating_df = ave_rating_df.groupby('user_id').mean()\n",
        "ave_rating_df.rename(columns = {'rating': 'ave_rating'}, inplace = False)"
      ],
      "execution_count": null,
      "outputs": [
        {
          "output_type": "execute_result",
          "data": {
            "text/html": [
              "<div>\n",
              "<style scoped>\n",
              "    .dataframe tbody tr th:only-of-type {\n",
              "        vertical-align: middle;\n",
              "    }\n",
              "\n",
              "    .dataframe tbody tr th {\n",
              "        vertical-align: top;\n",
              "    }\n",
              "\n",
              "    .dataframe thead th {\n",
              "        text-align: right;\n",
              "    }\n",
              "</style>\n",
              "<table border=\"1\" class=\"dataframe\">\n",
              "  <thead>\n",
              "    <tr style=\"text-align: right;\">\n",
              "      <th></th>\n",
              "      <th>ave_rating</th>\n",
              "    </tr>\n",
              "    <tr>\n",
              "      <th>user_id</th>\n",
              "      <th></th>\n",
              "    </tr>\n",
              "  </thead>\n",
              "  <tbody>\n",
              "    <tr>\n",
              "      <th>0</th>\n",
              "      <td>9.014286</td>\n",
              "    </tr>\n",
              "    <tr>\n",
              "      <th>1</th>\n",
              "      <td>7.808511</td>\n",
              "    </tr>\n",
              "    <tr>\n",
              "      <th>2</th>\n",
              "      <td>7.227642</td>\n",
              "    </tr>\n",
              "    <tr>\n",
              "      <th>3</th>\n",
              "      <td>7.913043</td>\n",
              "    </tr>\n",
              "    <tr>\n",
              "      <th>4</th>\n",
              "      <td>7.891304</td>\n",
              "    </tr>\n",
              "    <tr>\n",
              "      <th>...</th>\n",
              "      <td>...</td>\n",
              "    </tr>\n",
              "    <tr>\n",
              "      <th>4995</th>\n",
              "      <td>8.629630</td>\n",
              "    </tr>\n",
              "    <tr>\n",
              "      <th>4996</th>\n",
              "      <td>7.300000</td>\n",
              "    </tr>\n",
              "    <tr>\n",
              "      <th>4997</th>\n",
              "      <td>8.091603</td>\n",
              "    </tr>\n",
              "    <tr>\n",
              "      <th>4998</th>\n",
              "      <td>7.219178</td>\n",
              "    </tr>\n",
              "    <tr>\n",
              "      <th>4999</th>\n",
              "      <td>7.988235</td>\n",
              "    </tr>\n",
              "  </tbody>\n",
              "</table>\n",
              "<p>4998 rows × 1 columns</p>\n",
              "</div>"
            ],
            "text/plain": [
              "         ave_rating\n",
              "user_id            \n",
              "0          9.014286\n",
              "1          7.808511\n",
              "2          7.227642\n",
              "3          7.913043\n",
              "4          7.891304\n",
              "...             ...\n",
              "4995       8.629630\n",
              "4996       7.300000\n",
              "4997       8.091603\n",
              "4998       7.219178\n",
              "4999       7.988235\n",
              "\n",
              "[4998 rows x 1 columns]"
            ]
          },
          "metadata": {
            "tags": []
          },
          "execution_count": 70
        }
      ]
    },
    {
      "cell_type": "code",
      "metadata": {
        "id": "woEgOsAyL7w1"
      },
      "source": [
        "ratings_df = ratings_df.merge(ave_rating_df, on='user_id', how='inner')\n",
        "ratings_df.rename(columns = {'rating_x': 'user_rating', 'rating_y': 'average'}, inplace = True)"
      ],
      "execution_count": null,
      "outputs": []
    },
    {
      "cell_type": "markdown",
      "metadata": {
        "id": "NUKgHOpZYxOm"
      },
      "source": [
        "### Recommend top animes that are most similar to the given anime"
      ]
    },
    {
      "cell_type": "code",
      "metadata": {
        "colab": {
          "base_uri": "https://localhost:8080/"
        },
        "id": "9zTBP9SiYy-D",
        "outputId": "10e2ef91-9297-4ff5-a6f8-d170136ff985"
      },
      "source": [
        "#using sklearn CountVextorizer package\n",
        "from sklearn.metrics.pairwise import cosine_similarity\n",
        "from sklearn.feature_extraction.text import CountVectorizer\n",
        "count = CountVectorizer()\n",
        "count_matrix = count.fit_transform(anime_df['genre'])\n",
        "cosine_sim = cosine_similarity(count_matrix, count_matrix)\n",
        "print(cosine_sim)"
      ],
      "execution_count": null,
      "outputs": [
        {
          "output_type": "stream",
          "text": [
            "[[1.         0.37796447 0.         ... 0.         0.4472136  0.25      ]\n",
            " [0.37796447 1.         0.13363062 ... 0.37796447 0.6761234  0.        ]\n",
            " [0.         0.13363062 1.         ... 0.53033009 0.15811388 0.        ]\n",
            " ...\n",
            " [0.         0.37796447 0.53033009 ... 1.         0.2236068  0.        ]\n",
            " [0.4472136  0.6761234  0.15811388 ... 0.2236068  1.         0.        ]\n",
            " [0.25       0.         0.         ... 0.         0.         1.        ]]\n"
          ],
          "name": "stdout"
        }
      ]
    },
    {
      "cell_type": "code",
      "metadata": {
        "id": "D2E1DQLqZC0R"
      },
      "source": [
        "#get top 10 recommendations\n",
        "def get_recommendations(name, cosine_sim=cosine_sim):\n",
        "  idx = index[name]\n",
        "  sim_scores = list(enumerate(cosine_sim[idx]))\n",
        "  sim_scores = sorted(sim_scores, key=lambda x: x[1], reverse=True)\n",
        "  sim_scores = sim_scores[1:11]\n",
        "  anime_idx = [i[0] for i in sim_scores]\n",
        "  return anime_df['name'].iloc[anime_idx]"
      ],
      "execution_count": null,
      "outputs": []
    },
    {
      "cell_type": "code",
      "metadata": {
        "colab": {
          "base_uri": "https://localhost:8080/"
        },
        "id": "bIe7mxrgZOsU",
        "outputId": "a769078d-4049-49eb-fd7f-97559322068a"
      },
      "source": [
        "index = pd.Series(anime_df.index, index=anime_df['name']).drop_duplicates()\n",
        "get_recommendations('Gintama')"
      ],
      "execution_count": null,
      "outputs": [
        {
          "output_type": "execute_result",
          "data": {
            "text/plain": [
              "775                         Gintama&#039;: Enchousen\n",
              "792                                          Gintama\n",
              "874                       Gintama: Shiroyasha Koutan\n",
              "983                                  Super Milk-chan\n",
              "391                                 Samurai Champloo\n",
              "39                            Haiyore! Nyaruko-san W\n",
              "289                                           Trigun\n",
              "597                          Trigun: Badlands Rumble\n",
              "653    Darker than Black: Kuro no Keiyakusha Special\n",
              "840                            Tetsuwan Birdy Decode\n",
              "Name: name, dtype: object"
            ]
          },
          "metadata": {
            "tags": []
          },
          "execution_count": 74
        }
      ]
    },
    {
      "cell_type": "markdown",
      "metadata": {
        "id": "aOxlyhNVZst3"
      },
      "source": [
        "### Use TF-IDF of anime genres together with other features to preict rating bsed on anime ids"
      ]
    },
    {
      "cell_type": "code",
      "metadata": {
        "colab": {
          "base_uri": "https://localhost:8080/"
        },
        "id": "Nhtj47WnZsED",
        "outputId": "8747e4f5-0932-42ba-852c-a7410cca7602"
      },
      "source": [
        "#calculating TF-IDF score\n",
        "from sklearn.feature_extraction.text import TfidfVectorizer\n",
        "anime_new_df['content'] = anime_new_df['genre'] + anime_new_df['name'].astype(str)\n",
        "anime_new_df['content'].str.lower()\n",
        "tfidf = TfidfVectorizer(min_df=0, stop_words='english')\n",
        "X = tfidf.fit_transform(anime_new_df['content'])\n",
        "print(X.shape)"
      ],
      "execution_count": null,
      "outputs": [
        {
          "output_type": "stream",
          "text": [
            "(1000, 2062)\n"
          ],
          "name": "stdout"
        }
      ]
    },
    {
      "cell_type": "code",
      "metadata": {
        "colab": {
          "base_uri": "https://localhost:8080/",
          "height": 253
        },
        "id": "poXJCU2JguBD",
        "outputId": "7417e476-17a9-4330-c65a-364f6ba17dda"
      },
      "source": [
        "#reduce the dimension since the shape of X is very big\n",
        "from sklearn.decomposition import TruncatedSVD\n",
        "tsvd = TruncatedSVD(100)\n",
        "reduced_feature = tsvd.fit_transform(X)\n",
        "reduced_feature_df = pd.DataFrame(reduced_feature, columns=[f\"feature{i}\" for i in range(100)])\n",
        "reduced_feature_df.head(5)"
      ],
      "execution_count": null,
      "outputs": [
        {
          "output_type": "execute_result",
          "data": {
            "text/html": [
              "<div>\n",
              "<style scoped>\n",
              "    .dataframe tbody tr th:only-of-type {\n",
              "        vertical-align: middle;\n",
              "    }\n",
              "\n",
              "    .dataframe tbody tr th {\n",
              "        vertical-align: top;\n",
              "    }\n",
              "\n",
              "    .dataframe thead th {\n",
              "        text-align: right;\n",
              "    }\n",
              "</style>\n",
              "<table border=\"1\" class=\"dataframe\">\n",
              "  <thead>\n",
              "    <tr style=\"text-align: right;\">\n",
              "      <th></th>\n",
              "      <th>feature0</th>\n",
              "      <th>feature1</th>\n",
              "      <th>feature2</th>\n",
              "      <th>feature3</th>\n",
              "      <th>feature4</th>\n",
              "      <th>feature5</th>\n",
              "      <th>feature6</th>\n",
              "      <th>feature7</th>\n",
              "      <th>feature8</th>\n",
              "      <th>feature9</th>\n",
              "      <th>feature10</th>\n",
              "      <th>feature11</th>\n",
              "      <th>feature12</th>\n",
              "      <th>feature13</th>\n",
              "      <th>feature14</th>\n",
              "      <th>feature15</th>\n",
              "      <th>feature16</th>\n",
              "      <th>feature17</th>\n",
              "      <th>feature18</th>\n",
              "      <th>feature19</th>\n",
              "      <th>feature20</th>\n",
              "      <th>feature21</th>\n",
              "      <th>feature22</th>\n",
              "      <th>feature23</th>\n",
              "      <th>feature24</th>\n",
              "      <th>feature25</th>\n",
              "      <th>feature26</th>\n",
              "      <th>feature27</th>\n",
              "      <th>feature28</th>\n",
              "      <th>feature29</th>\n",
              "      <th>feature30</th>\n",
              "      <th>feature31</th>\n",
              "      <th>feature32</th>\n",
              "      <th>feature33</th>\n",
              "      <th>feature34</th>\n",
              "      <th>feature35</th>\n",
              "      <th>feature36</th>\n",
              "      <th>feature37</th>\n",
              "      <th>feature38</th>\n",
              "      <th>feature39</th>\n",
              "      <th>...</th>\n",
              "      <th>feature60</th>\n",
              "      <th>feature61</th>\n",
              "      <th>feature62</th>\n",
              "      <th>feature63</th>\n",
              "      <th>feature64</th>\n",
              "      <th>feature65</th>\n",
              "      <th>feature66</th>\n",
              "      <th>feature67</th>\n",
              "      <th>feature68</th>\n",
              "      <th>feature69</th>\n",
              "      <th>feature70</th>\n",
              "      <th>feature71</th>\n",
              "      <th>feature72</th>\n",
              "      <th>feature73</th>\n",
              "      <th>feature74</th>\n",
              "      <th>feature75</th>\n",
              "      <th>feature76</th>\n",
              "      <th>feature77</th>\n",
              "      <th>feature78</th>\n",
              "      <th>feature79</th>\n",
              "      <th>feature80</th>\n",
              "      <th>feature81</th>\n",
              "      <th>feature82</th>\n",
              "      <th>feature83</th>\n",
              "      <th>feature84</th>\n",
              "      <th>feature85</th>\n",
              "      <th>feature86</th>\n",
              "      <th>feature87</th>\n",
              "      <th>feature88</th>\n",
              "      <th>feature89</th>\n",
              "      <th>feature90</th>\n",
              "      <th>feature91</th>\n",
              "      <th>feature92</th>\n",
              "      <th>feature93</th>\n",
              "      <th>feature94</th>\n",
              "      <th>feature95</th>\n",
              "      <th>feature96</th>\n",
              "      <th>feature97</th>\n",
              "      <th>feature98</th>\n",
              "      <th>feature99</th>\n",
              "    </tr>\n",
              "  </thead>\n",
              "  <tbody>\n",
              "    <tr>\n",
              "      <th>0</th>\n",
              "      <td>0.151309</td>\n",
              "      <td>-0.053404</td>\n",
              "      <td>0.176245</td>\n",
              "      <td>0.064324</td>\n",
              "      <td>-0.113598</td>\n",
              "      <td>-0.029384</td>\n",
              "      <td>-0.095216</td>\n",
              "      <td>-0.032773</td>\n",
              "      <td>-0.114587</td>\n",
              "      <td>-0.023930</td>\n",
              "      <td>-0.108353</td>\n",
              "      <td>-0.042193</td>\n",
              "      <td>-0.056393</td>\n",
              "      <td>-0.015648</td>\n",
              "      <td>-0.012104</td>\n",
              "      <td>0.052308</td>\n",
              "      <td>-0.022783</td>\n",
              "      <td>0.026677</td>\n",
              "      <td>-0.072537</td>\n",
              "      <td>0.046666</td>\n",
              "      <td>0.033340</td>\n",
              "      <td>-0.061935</td>\n",
              "      <td>0.086962</td>\n",
              "      <td>-0.010790</td>\n",
              "      <td>-0.005309</td>\n",
              "      <td>-0.009466</td>\n",
              "      <td>-0.020120</td>\n",
              "      <td>-0.049396</td>\n",
              "      <td>-0.085930</td>\n",
              "      <td>0.016918</td>\n",
              "      <td>-0.035567</td>\n",
              "      <td>-0.032321</td>\n",
              "      <td>0.056109</td>\n",
              "      <td>0.011329</td>\n",
              "      <td>-0.055238</td>\n",
              "      <td>0.027355</td>\n",
              "      <td>0.011520</td>\n",
              "      <td>-0.026888</td>\n",
              "      <td>0.058544</td>\n",
              "      <td>0.049646</td>\n",
              "      <td>...</td>\n",
              "      <td>-0.002548</td>\n",
              "      <td>0.001073</td>\n",
              "      <td>0.043419</td>\n",
              "      <td>0.033673</td>\n",
              "      <td>0.005218</td>\n",
              "      <td>0.001338</td>\n",
              "      <td>-0.025147</td>\n",
              "      <td>0.053102</td>\n",
              "      <td>-0.018450</td>\n",
              "      <td>-0.020616</td>\n",
              "      <td>-0.008884</td>\n",
              "      <td>0.002546</td>\n",
              "      <td>0.020092</td>\n",
              "      <td>-0.032719</td>\n",
              "      <td>-0.055060</td>\n",
              "      <td>-0.002284</td>\n",
              "      <td>-0.008792</td>\n",
              "      <td>-0.009029</td>\n",
              "      <td>0.007354</td>\n",
              "      <td>-0.006196</td>\n",
              "      <td>-0.000786</td>\n",
              "      <td>-0.026390</td>\n",
              "      <td>-0.013452</td>\n",
              "      <td>-0.001268</td>\n",
              "      <td>0.011302</td>\n",
              "      <td>0.005134</td>\n",
              "      <td>0.001687</td>\n",
              "      <td>-0.000636</td>\n",
              "      <td>0.000946</td>\n",
              "      <td>-0.005741</td>\n",
              "      <td>0.003890</td>\n",
              "      <td>-0.015057</td>\n",
              "      <td>0.026942</td>\n",
              "      <td>0.000146</td>\n",
              "      <td>-0.001765</td>\n",
              "      <td>-0.021618</td>\n",
              "      <td>0.025218</td>\n",
              "      <td>0.009560</td>\n",
              "      <td>0.005860</td>\n",
              "      <td>-0.007965</td>\n",
              "    </tr>\n",
              "    <tr>\n",
              "      <th>1</th>\n",
              "      <td>0.221611</td>\n",
              "      <td>-0.100113</td>\n",
              "      <td>0.162756</td>\n",
              "      <td>0.126100</td>\n",
              "      <td>-0.006237</td>\n",
              "      <td>-0.034433</td>\n",
              "      <td>0.056916</td>\n",
              "      <td>0.046970</td>\n",
              "      <td>-0.071073</td>\n",
              "      <td>0.125567</td>\n",
              "      <td>-0.009187</td>\n",
              "      <td>0.022882</td>\n",
              "      <td>0.081484</td>\n",
              "      <td>-0.074316</td>\n",
              "      <td>0.035803</td>\n",
              "      <td>0.005396</td>\n",
              "      <td>0.018078</td>\n",
              "      <td>0.014596</td>\n",
              "      <td>0.009504</td>\n",
              "      <td>0.082608</td>\n",
              "      <td>-0.078827</td>\n",
              "      <td>0.066618</td>\n",
              "      <td>-0.062251</td>\n",
              "      <td>-0.043404</td>\n",
              "      <td>-0.057348</td>\n",
              "      <td>0.092333</td>\n",
              "      <td>-0.035114</td>\n",
              "      <td>0.066219</td>\n",
              "      <td>-0.101805</td>\n",
              "      <td>0.007473</td>\n",
              "      <td>-0.036946</td>\n",
              "      <td>0.015546</td>\n",
              "      <td>-0.066106</td>\n",
              "      <td>-0.054354</td>\n",
              "      <td>-0.009005</td>\n",
              "      <td>0.004875</td>\n",
              "      <td>0.002544</td>\n",
              "      <td>0.221041</td>\n",
              "      <td>-0.057831</td>\n",
              "      <td>-0.051473</td>\n",
              "      <td>...</td>\n",
              "      <td>0.003334</td>\n",
              "      <td>0.007560</td>\n",
              "      <td>-0.007598</td>\n",
              "      <td>-0.037547</td>\n",
              "      <td>-0.028001</td>\n",
              "      <td>-0.017956</td>\n",
              "      <td>0.007144</td>\n",
              "      <td>-0.034954</td>\n",
              "      <td>0.011065</td>\n",
              "      <td>0.009725</td>\n",
              "      <td>-0.005656</td>\n",
              "      <td>0.028568</td>\n",
              "      <td>-0.003102</td>\n",
              "      <td>0.011323</td>\n",
              "      <td>0.012814</td>\n",
              "      <td>0.020518</td>\n",
              "      <td>-0.031173</td>\n",
              "      <td>-0.064297</td>\n",
              "      <td>-0.005833</td>\n",
              "      <td>0.022521</td>\n",
              "      <td>0.020540</td>\n",
              "      <td>-0.018472</td>\n",
              "      <td>-0.001169</td>\n",
              "      <td>-0.025136</td>\n",
              "      <td>-0.004313</td>\n",
              "      <td>-0.029246</td>\n",
              "      <td>0.027989</td>\n",
              "      <td>0.004365</td>\n",
              "      <td>-0.018519</td>\n",
              "      <td>-0.010813</td>\n",
              "      <td>-0.017078</td>\n",
              "      <td>-0.024365</td>\n",
              "      <td>0.016750</td>\n",
              "      <td>0.018255</td>\n",
              "      <td>-0.015303</td>\n",
              "      <td>-0.033475</td>\n",
              "      <td>0.029974</td>\n",
              "      <td>0.046267</td>\n",
              "      <td>0.036818</td>\n",
              "      <td>0.012863</td>\n",
              "    </tr>\n",
              "    <tr>\n",
              "      <th>2</th>\n",
              "      <td>0.251446</td>\n",
              "      <td>-0.202291</td>\n",
              "      <td>-0.210146</td>\n",
              "      <td>-0.179153</td>\n",
              "      <td>0.001434</td>\n",
              "      <td>-0.126989</td>\n",
              "      <td>0.031203</td>\n",
              "      <td>0.054378</td>\n",
              "      <td>0.190333</td>\n",
              "      <td>-0.003097</td>\n",
              "      <td>-0.035699</td>\n",
              "      <td>0.033162</td>\n",
              "      <td>-0.019961</td>\n",
              "      <td>0.019870</td>\n",
              "      <td>-0.005295</td>\n",
              "      <td>0.030573</td>\n",
              "      <td>-0.001849</td>\n",
              "      <td>-0.007184</td>\n",
              "      <td>-0.164552</td>\n",
              "      <td>-0.099341</td>\n",
              "      <td>-0.016966</td>\n",
              "      <td>0.032863</td>\n",
              "      <td>0.073792</td>\n",
              "      <td>0.008234</td>\n",
              "      <td>-0.015415</td>\n",
              "      <td>0.038171</td>\n",
              "      <td>-0.004614</td>\n",
              "      <td>0.094617</td>\n",
              "      <td>-0.059719</td>\n",
              "      <td>-0.034403</td>\n",
              "      <td>0.017529</td>\n",
              "      <td>0.019038</td>\n",
              "      <td>-0.006220</td>\n",
              "      <td>0.029122</td>\n",
              "      <td>-0.012885</td>\n",
              "      <td>-0.008271</td>\n",
              "      <td>0.018227</td>\n",
              "      <td>0.005748</td>\n",
              "      <td>-0.018719</td>\n",
              "      <td>-0.012657</td>\n",
              "      <td>...</td>\n",
              "      <td>0.036854</td>\n",
              "      <td>-0.032612</td>\n",
              "      <td>0.030884</td>\n",
              "      <td>0.152045</td>\n",
              "      <td>-0.011392</td>\n",
              "      <td>-0.013651</td>\n",
              "      <td>-0.044363</td>\n",
              "      <td>0.014742</td>\n",
              "      <td>0.020469</td>\n",
              "      <td>0.049143</td>\n",
              "      <td>0.023729</td>\n",
              "      <td>-0.028524</td>\n",
              "      <td>-0.058164</td>\n",
              "      <td>0.072603</td>\n",
              "      <td>0.018417</td>\n",
              "      <td>-0.061907</td>\n",
              "      <td>0.089382</td>\n",
              "      <td>0.003577</td>\n",
              "      <td>-0.031522</td>\n",
              "      <td>-0.016442</td>\n",
              "      <td>-0.010831</td>\n",
              "      <td>-0.018042</td>\n",
              "      <td>-0.073201</td>\n",
              "      <td>-0.098293</td>\n",
              "      <td>0.042548</td>\n",
              "      <td>-0.017119</td>\n",
              "      <td>-0.007104</td>\n",
              "      <td>0.039527</td>\n",
              "      <td>-0.007746</td>\n",
              "      <td>0.098989</td>\n",
              "      <td>0.073752</td>\n",
              "      <td>0.041676</td>\n",
              "      <td>0.173227</td>\n",
              "      <td>0.027482</td>\n",
              "      <td>-0.047652</td>\n",
              "      <td>-0.086525</td>\n",
              "      <td>-0.044558</td>\n",
              "      <td>0.025986</td>\n",
              "      <td>-0.066511</td>\n",
              "      <td>-0.036124</td>\n",
              "    </tr>\n",
              "    <tr>\n",
              "      <th>3</th>\n",
              "      <td>0.178146</td>\n",
              "      <td>-0.095783</td>\n",
              "      <td>0.248249</td>\n",
              "      <td>0.042498</td>\n",
              "      <td>-0.045092</td>\n",
              "      <td>0.038713</td>\n",
              "      <td>0.003773</td>\n",
              "      <td>0.211054</td>\n",
              "      <td>0.211235</td>\n",
              "      <td>-0.125399</td>\n",
              "      <td>0.290423</td>\n",
              "      <td>0.033126</td>\n",
              "      <td>0.099410</td>\n",
              "      <td>0.047222</td>\n",
              "      <td>-0.050034</td>\n",
              "      <td>-0.163696</td>\n",
              "      <td>-0.086384</td>\n",
              "      <td>-0.311160</td>\n",
              "      <td>0.046014</td>\n",
              "      <td>0.062376</td>\n",
              "      <td>0.053433</td>\n",
              "      <td>0.043629</td>\n",
              "      <td>-0.099461</td>\n",
              "      <td>-0.206085</td>\n",
              "      <td>-0.225761</td>\n",
              "      <td>0.019908</td>\n",
              "      <td>-0.008071</td>\n",
              "      <td>0.075788</td>\n",
              "      <td>-0.056778</td>\n",
              "      <td>0.150451</td>\n",
              "      <td>-0.267462</td>\n",
              "      <td>0.143083</td>\n",
              "      <td>0.302966</td>\n",
              "      <td>-0.104058</td>\n",
              "      <td>0.026825</td>\n",
              "      <td>0.345739</td>\n",
              "      <td>0.078229</td>\n",
              "      <td>-0.139443</td>\n",
              "      <td>0.056377</td>\n",
              "      <td>0.042828</td>\n",
              "      <td>...</td>\n",
              "      <td>0.005962</td>\n",
              "      <td>0.000465</td>\n",
              "      <td>0.017426</td>\n",
              "      <td>-0.001252</td>\n",
              "      <td>-0.006920</td>\n",
              "      <td>0.008339</td>\n",
              "      <td>0.001035</td>\n",
              "      <td>-0.018161</td>\n",
              "      <td>0.000955</td>\n",
              "      <td>-0.007418</td>\n",
              "      <td>0.008775</td>\n",
              "      <td>-0.012634</td>\n",
              "      <td>0.009987</td>\n",
              "      <td>-0.020901</td>\n",
              "      <td>0.011441</td>\n",
              "      <td>-0.010165</td>\n",
              "      <td>-0.015516</td>\n",
              "      <td>0.043323</td>\n",
              "      <td>0.002098</td>\n",
              "      <td>-0.023409</td>\n",
              "      <td>-0.009692</td>\n",
              "      <td>0.003411</td>\n",
              "      <td>-0.020831</td>\n",
              "      <td>-0.012066</td>\n",
              "      <td>0.017272</td>\n",
              "      <td>-0.025413</td>\n",
              "      <td>-0.008650</td>\n",
              "      <td>0.013795</td>\n",
              "      <td>0.009193</td>\n",
              "      <td>0.028341</td>\n",
              "      <td>0.001183</td>\n",
              "      <td>-0.003707</td>\n",
              "      <td>0.021083</td>\n",
              "      <td>0.004655</td>\n",
              "      <td>-0.005178</td>\n",
              "      <td>-0.004133</td>\n",
              "      <td>-0.005900</td>\n",
              "      <td>0.002315</td>\n",
              "      <td>0.012327</td>\n",
              "      <td>-0.004287</td>\n",
              "    </tr>\n",
              "    <tr>\n",
              "      <th>4</th>\n",
              "      <td>0.196004</td>\n",
              "      <td>0.065593</td>\n",
              "      <td>0.088292</td>\n",
              "      <td>-0.042113</td>\n",
              "      <td>0.102105</td>\n",
              "      <td>-0.080160</td>\n",
              "      <td>-0.042313</td>\n",
              "      <td>0.216011</td>\n",
              "      <td>0.006701</td>\n",
              "      <td>0.094651</td>\n",
              "      <td>0.040976</td>\n",
              "      <td>0.065879</td>\n",
              "      <td>0.066468</td>\n",
              "      <td>-0.078908</td>\n",
              "      <td>0.025404</td>\n",
              "      <td>0.053164</td>\n",
              "      <td>0.096437</td>\n",
              "      <td>0.001612</td>\n",
              "      <td>-0.062505</td>\n",
              "      <td>-0.066259</td>\n",
              "      <td>0.087166</td>\n",
              "      <td>0.050044</td>\n",
              "      <td>-0.062350</td>\n",
              "      <td>0.174965</td>\n",
              "      <td>0.015272</td>\n",
              "      <td>-0.029196</td>\n",
              "      <td>0.042398</td>\n",
              "      <td>-0.099956</td>\n",
              "      <td>0.054230</td>\n",
              "      <td>-0.008584</td>\n",
              "      <td>0.054142</td>\n",
              "      <td>0.108090</td>\n",
              "      <td>0.044265</td>\n",
              "      <td>-0.008839</td>\n",
              "      <td>-0.040750</td>\n",
              "      <td>-0.014088</td>\n",
              "      <td>0.095296</td>\n",
              "      <td>0.013201</td>\n",
              "      <td>0.086539</td>\n",
              "      <td>0.068586</td>\n",
              "      <td>...</td>\n",
              "      <td>0.029428</td>\n",
              "      <td>0.032633</td>\n",
              "      <td>-0.019358</td>\n",
              "      <td>0.010280</td>\n",
              "      <td>0.011492</td>\n",
              "      <td>-0.081314</td>\n",
              "      <td>-0.007083</td>\n",
              "      <td>-0.007914</td>\n",
              "      <td>-0.035510</td>\n",
              "      <td>0.026209</td>\n",
              "      <td>-0.013428</td>\n",
              "      <td>-0.053386</td>\n",
              "      <td>0.010953</td>\n",
              "      <td>-0.043706</td>\n",
              "      <td>0.041248</td>\n",
              "      <td>-0.042317</td>\n",
              "      <td>-0.012380</td>\n",
              "      <td>0.017066</td>\n",
              "      <td>-0.031649</td>\n",
              "      <td>0.040769</td>\n",
              "      <td>-0.028673</td>\n",
              "      <td>-0.018888</td>\n",
              "      <td>-0.024027</td>\n",
              "      <td>-0.025086</td>\n",
              "      <td>-0.028143</td>\n",
              "      <td>0.059293</td>\n",
              "      <td>-0.002103</td>\n",
              "      <td>-0.033222</td>\n",
              "      <td>-0.025987</td>\n",
              "      <td>-0.025991</td>\n",
              "      <td>-0.032650</td>\n",
              "      <td>-0.027522</td>\n",
              "      <td>-0.009168</td>\n",
              "      <td>-0.024545</td>\n",
              "      <td>-0.001800</td>\n",
              "      <td>0.060601</td>\n",
              "      <td>-0.023238</td>\n",
              "      <td>0.064556</td>\n",
              "      <td>0.008459</td>\n",
              "      <td>0.065422</td>\n",
              "    </tr>\n",
              "  </tbody>\n",
              "</table>\n",
              "<p>5 rows × 100 columns</p>\n",
              "</div>"
            ],
            "text/plain": [
              "   feature0  feature1  feature2  ...  feature97  feature98  feature99\n",
              "0  0.151309 -0.053404  0.176245  ...   0.009560   0.005860  -0.007965\n",
              "1  0.221611 -0.100113  0.162756  ...   0.046267   0.036818   0.012863\n",
              "2  0.251446 -0.202291 -0.210146  ...   0.025986  -0.066511  -0.036124\n",
              "3  0.178146 -0.095783  0.248249  ...   0.002315   0.012327  -0.004287\n",
              "4  0.196004  0.065593  0.088292  ...   0.064556   0.008459   0.065422\n",
              "\n",
              "[5 rows x 100 columns]"
            ]
          },
          "metadata": {
            "tags": []
          },
          "execution_count": 76
        }
      ]
    },
    {
      "cell_type": "code",
      "metadata": {
        "id": "L7WOnS4R1jRK"
      },
      "source": [
        "feature_df = anime_new_df[['anime_id', 'type']]\n",
        "label = anime_new_df['rating']\n",
        "feature_df = feature_df.reset_index().drop(columns=['index']).join(reduced_feature_df)"
      ],
      "execution_count": null,
      "outputs": []
    },
    {
      "cell_type": "code",
      "metadata": {
        "id": "Wm1UmYINmvNr"
      },
      "source": [
        "#split train dataset and test dataset\n",
        "train_length = int(len(feature_df) * 0.8)\n",
        "test_length = int(len(feature_df) * 0.2)\n",
        "\n",
        "train_x = feature_df.iloc[:train_length]\n",
        "test_x = feature_df.iloc[-test_length:]\n",
        "\n",
        "train_y = label.iloc[:train_length]\n",
        "test_y = label.iloc[-test_length:]"
      ],
      "execution_count": null,
      "outputs": []
    },
    {
      "cell_type": "code",
      "metadata": {
        "id": "wOqWrTdNqfTM"
      },
      "source": [
        "class LinearReg:\n",
        "\n",
        "    def __init__(self, init_theta=None, alpha=0.01, n_iter=100):\n",
        "        self.alpha = alpha\n",
        "        self.n_iter = n_iter\n",
        "        self.theta = init_theta\n",
        "        self.JHist = None\n",
        "    \n",
        "\n",
        "    def gradientDescent(self, X, y, theta):\n",
        "        n,d = X.shape\n",
        "        self.JHist = []\n",
        "        for i in range(self.n_iter):\n",
        "            self.JHist.append( (self.computeCost(X, y, theta), theta) )\n",
        "            #print(\"Iteration: \", i+1, \" Cost: \", self.JHist[i][0], \" Theta.T: \", theta.T)\n",
        "            yhat = X*theta\n",
        "            theta = theta -  (X.T * (yhat - y)) * (self.alpha / n)\n",
        "        return theta\n",
        "    \n",
        "\n",
        "    def computeCost(self, X, y, theta):\n",
        "        n,d = X.shape\n",
        "        # print(X.shape)\n",
        "        yhat = np.dot(X,theta)\n",
        "        # print(yhat.shape)\n",
        "        J =  (yhat-y).T * (yhat-y) / n\n",
        "        # print(J.shape)\n",
        "        J_scalar = J.tolist()[0][0]  # convert matrix to scalar\n",
        "        return J_scalar\n",
        "    \n",
        "\n",
        "    def fit(self, X, y):\n",
        "        n = len(y)\n",
        "        X = X.to_numpy()\n",
        "        X = np.c_[np.ones((n,1)), X]     # Add a row of ones for the bias term\n",
        "\n",
        "        y = y.to_numpy()\n",
        "        n,d = X.shape\n",
        "        y = y.reshape(n,1)\n",
        "\n",
        "        if self.theta is None:\n",
        "            self.theta = np.matrix(np.zeros((d,1)))\n",
        "\n",
        "        self.theta = self.gradientDescent(X,y,self.theta)   \n",
        "\n",
        "\n",
        "    def predict(self, X):\n",
        "        X = X.to_numpy()\n",
        "        X = np.c_[np.ones((n,1)), X]     # Add a row of ones for the bias term\n",
        "        return pd.DataFrame(X*self.theta)"
      ],
      "execution_count": null,
      "outputs": []
    },
    {
      "cell_type": "code",
      "metadata": {
        "id": "gBJ9YuvrU6hP"
      },
      "source": [
        "X = train_x\n",
        "y = train_y\n",
        "\n",
        "n,d = X.shape\n",
        "\n",
        "    # # Standardize features\n",
        "from sklearn.preprocessing import StandardScaler\n",
        "standardizer = StandardScaler()\n",
        "X = pd.DataFrame(standardizer.fit_transform(X))  # compute mean and stdev on training set for standardization\n",
        "\n",
        "    # # initialize the model\n",
        "init_theta = np.matrix(np.random.randn((d+1))).T\n",
        "alpha = 0.01\n",
        "\n",
        "    # # Train the model\n",
        "lr_model = LinearReg(init_theta = init_theta, alpha = alpha, n_iter = 2000)\n",
        "lr_model.fit(X,y)"
      ],
      "execution_count": null,
      "outputs": []
    },
    {
      "cell_type": "code",
      "metadata": {
        "colab": {
          "base_uri": "https://localhost:8080/",
          "height": 419
        },
        "id": "g7vYrahkVIQ4",
        "outputId": "762dc818-ab88-4024-d621-a37f9c290331"
      },
      "source": [
        "#test the model\n",
        "X = test_x\n",
        "y = test_y\n",
        "n,d = X.shape\n",
        "# Standardize features\n",
        "from sklearn.preprocessing import StandardScaler\n",
        "standardizer = StandardScaler()\n",
        "X = pd.DataFrame(standardizer.fit_transform(X))\n",
        "lr_model.predict(X)"
      ],
      "execution_count": null,
      "outputs": [
        {
          "output_type": "execute_result",
          "data": {
            "text/html": [
              "<div>\n",
              "<style scoped>\n",
              "    .dataframe tbody tr th:only-of-type {\n",
              "        vertical-align: middle;\n",
              "    }\n",
              "\n",
              "    .dataframe tbody tr th {\n",
              "        vertical-align: top;\n",
              "    }\n",
              "\n",
              "    .dataframe thead th {\n",
              "        text-align: right;\n",
              "    }\n",
              "</style>\n",
              "<table border=\"1\" class=\"dataframe\">\n",
              "  <thead>\n",
              "    <tr style=\"text-align: right;\">\n",
              "      <th></th>\n",
              "      <th>0</th>\n",
              "    </tr>\n",
              "  </thead>\n",
              "  <tbody>\n",
              "    <tr>\n",
              "      <th>0</th>\n",
              "      <td>8.332550</td>\n",
              "    </tr>\n",
              "    <tr>\n",
              "      <th>1</th>\n",
              "      <td>7.780926</td>\n",
              "    </tr>\n",
              "    <tr>\n",
              "      <th>2</th>\n",
              "      <td>7.529374</td>\n",
              "    </tr>\n",
              "    <tr>\n",
              "      <th>3</th>\n",
              "      <td>7.989367</td>\n",
              "    </tr>\n",
              "    <tr>\n",
              "      <th>4</th>\n",
              "      <td>7.647536</td>\n",
              "    </tr>\n",
              "    <tr>\n",
              "      <th>...</th>\n",
              "      <td>...</td>\n",
              "    </tr>\n",
              "    <tr>\n",
              "      <th>195</th>\n",
              "      <td>7.060738</td>\n",
              "    </tr>\n",
              "    <tr>\n",
              "      <th>196</th>\n",
              "      <td>7.626190</td>\n",
              "    </tr>\n",
              "    <tr>\n",
              "      <th>197</th>\n",
              "      <td>7.427086</td>\n",
              "    </tr>\n",
              "    <tr>\n",
              "      <th>198</th>\n",
              "      <td>7.670070</td>\n",
              "    </tr>\n",
              "    <tr>\n",
              "      <th>199</th>\n",
              "      <td>7.486452</td>\n",
              "    </tr>\n",
              "  </tbody>\n",
              "</table>\n",
              "<p>200 rows × 1 columns</p>\n",
              "</div>"
            ],
            "text/plain": [
              "            0\n",
              "0    8.332550\n",
              "1    7.780926\n",
              "2    7.529374\n",
              "3    7.989367\n",
              "4    7.647536\n",
              "..        ...\n",
              "195  7.060738\n",
              "196  7.626190\n",
              "197  7.427086\n",
              "198  7.670070\n",
              "199  7.486452\n",
              "\n",
              "[200 rows x 1 columns]"
            ]
          },
          "metadata": {
            "tags": []
          },
          "execution_count": 18
        }
      ]
    },
    {
      "cell_type": "code",
      "metadata": {
        "colab": {
          "base_uri": "https://localhost:8080/"
        },
        "id": "Ufqo_WHWVUhW",
        "outputId": "72be4fe2-cd53-4f97-a79e-f123535ccfd9"
      },
      "source": [
        "#calculate mean square root error\n",
        "reset_test = test_y.reset_index(drop = True)\n",
        "#print(reset_test)\n",
        "test_pred = lr_model.predict(X)\n",
        "test_pred = test_pred[0]\n",
        "#print(test_pred)\n",
        "np.sqrt(np.mean(np.power(test_pred - reset_test, 2)))"
      ],
      "execution_count": null,
      "outputs": [
        {
          "output_type": "execute_result",
          "data": {
            "text/plain": [
              "0.6483836361599775"
            ]
          },
          "metadata": {
            "tags": []
          },
          "execution_count": 19
        }
      ]
    },
    {
      "cell_type": "code",
      "metadata": {
        "colab": {
          "base_uri": "https://localhost:8080/"
        },
        "id": "tv5f163tLM1J",
        "outputId": "9872a79e-6d1d-4588-f73b-9fed18156d49"
      },
      "source": [
        "test_pred"
      ],
      "execution_count": null,
      "outputs": [
        {
          "output_type": "execute_result",
          "data": {
            "text/plain": [
              "0      8.332550\n",
              "1      7.780926\n",
              "2      7.529374\n",
              "3      7.989367\n",
              "4      7.647536\n",
              "         ...   \n",
              "195    7.060738\n",
              "196    7.626190\n",
              "197    7.427086\n",
              "198    7.670070\n",
              "199    7.486452\n",
              "Name: 0, Length: 200, dtype: float64"
            ]
          },
          "metadata": {
            "tags": []
          },
          "execution_count": 20
        }
      ]
    },
    {
      "cell_type": "markdown",
      "metadata": {
        "id": "ht4AMpQWzPtP"
      },
      "source": [
        "### Combined with user information"
      ]
    },
    {
      "cell_type": "code",
      "metadata": {
        "colab": {
          "base_uri": "https://localhost:8080/",
          "height": 204
        },
        "id": "GJjeo7qX3U0h",
        "outputId": "39304141-baee-4750-af48-59996ad1dab0"
      },
      "source": [
        "#ratings_df = pd.read_csv('ratings_subset.csv')\n",
        "ratings_df.head(5)"
      ],
      "execution_count": null,
      "outputs": [
        {
          "output_type": "execute_result",
          "data": {
            "text/html": [
              "<div>\n",
              "<style scoped>\n",
              "    .dataframe tbody tr th:only-of-type {\n",
              "        vertical-align: middle;\n",
              "    }\n",
              "\n",
              "    .dataframe tbody tr th {\n",
              "        vertical-align: top;\n",
              "    }\n",
              "\n",
              "    .dataframe thead th {\n",
              "        text-align: right;\n",
              "    }\n",
              "</style>\n",
              "<table border=\"1\" class=\"dataframe\">\n",
              "  <thead>\n",
              "    <tr style=\"text-align: right;\">\n",
              "      <th></th>\n",
              "      <th>user_id</th>\n",
              "      <th>anime_id</th>\n",
              "      <th>user_rating</th>\n",
              "      <th>average</th>\n",
              "    </tr>\n",
              "  </thead>\n",
              "  <tbody>\n",
              "    <tr>\n",
              "      <th>0</th>\n",
              "      <td>0</td>\n",
              "      <td>0</td>\n",
              "      <td>9</td>\n",
              "      <td>9.014286</td>\n",
              "    </tr>\n",
              "    <tr>\n",
              "      <th>1</th>\n",
              "      <td>0</td>\n",
              "      <td>163</td>\n",
              "      <td>9</td>\n",
              "      <td>9.014286</td>\n",
              "    </tr>\n",
              "    <tr>\n",
              "      <th>2</th>\n",
              "      <td>0</td>\n",
              "      <td>557</td>\n",
              "      <td>9</td>\n",
              "      <td>9.014286</td>\n",
              "    </tr>\n",
              "    <tr>\n",
              "      <th>3</th>\n",
              "      <td>0</td>\n",
              "      <td>658</td>\n",
              "      <td>9</td>\n",
              "      <td>9.014286</td>\n",
              "    </tr>\n",
              "    <tr>\n",
              "      <th>4</th>\n",
              "      <td>0</td>\n",
              "      <td>835</td>\n",
              "      <td>9</td>\n",
              "      <td>9.014286</td>\n",
              "    </tr>\n",
              "  </tbody>\n",
              "</table>\n",
              "</div>"
            ],
            "text/plain": [
              "   user_id  anime_id  user_rating   average\n",
              "0        0         0            9  9.014286\n",
              "1        0       163            9  9.014286\n",
              "2        0       557            9  9.014286\n",
              "3        0       658            9  9.014286\n",
              "4        0       835            9  9.014286"
            ]
          },
          "metadata": {
            "tags": []
          },
          "execution_count": 78
        }
      ]
    },
    {
      "cell_type": "code",
      "metadata": {
        "colab": {
          "base_uri": "https://localhost:8080/",
          "height": 224
        },
        "id": "CBGH8t_ozPKk",
        "outputId": "f0800386-219d-4bf9-f130-ab92ce5c98be"
      },
      "source": [
        "#merge the user information and anime information together\n",
        "final_df = ratings_df.merge(anime_new_df, on='anime_id', how='inner')\n",
        "#get tfidf score and reduce dimensinos\n",
        "tfidf = TfidfVectorizer(min_df=0, stop_words='english')\n",
        "X = tfidf.fit_transform(final_df['content'])\n",
        "tsvd = TruncatedSVD(20)\n",
        "content_features_lr = tsvd.fit_transform(X)\n",
        "lst = np.cumsum(tsvd.explained_variance_ratio_)\n",
        "content_feats_df = pd.DataFrame(content_features_lr, columns=[f\"desc{i}\" for i in range(20)])\n",
        "content_feats_df.head(5)"
      ],
      "execution_count": null,
      "outputs": [
        {
          "output_type": "execute_result",
          "data": {
            "text/html": [
              "<div>\n",
              "<style scoped>\n",
              "    .dataframe tbody tr th:only-of-type {\n",
              "        vertical-align: middle;\n",
              "    }\n",
              "\n",
              "    .dataframe tbody tr th {\n",
              "        vertical-align: top;\n",
              "    }\n",
              "\n",
              "    .dataframe thead th {\n",
              "        text-align: right;\n",
              "    }\n",
              "</style>\n",
              "<table border=\"1\" class=\"dataframe\">\n",
              "  <thead>\n",
              "    <tr style=\"text-align: right;\">\n",
              "      <th></th>\n",
              "      <th>desc0</th>\n",
              "      <th>desc1</th>\n",
              "      <th>desc2</th>\n",
              "      <th>desc3</th>\n",
              "      <th>desc4</th>\n",
              "      <th>desc5</th>\n",
              "      <th>desc6</th>\n",
              "      <th>desc7</th>\n",
              "      <th>desc8</th>\n",
              "      <th>desc9</th>\n",
              "      <th>desc10</th>\n",
              "      <th>desc11</th>\n",
              "      <th>desc12</th>\n",
              "      <th>desc13</th>\n",
              "      <th>desc14</th>\n",
              "      <th>desc15</th>\n",
              "      <th>desc16</th>\n",
              "      <th>desc17</th>\n",
              "      <th>desc18</th>\n",
              "      <th>desc19</th>\n",
              "    </tr>\n",
              "  </thead>\n",
              "  <tbody>\n",
              "    <tr>\n",
              "      <th>0</th>\n",
              "      <td>0.113187</td>\n",
              "      <td>-0.055956</td>\n",
              "      <td>-0.114027</td>\n",
              "      <td>0.042792</td>\n",
              "      <td>-0.04304</td>\n",
              "      <td>-0.017661</td>\n",
              "      <td>0.067114</td>\n",
              "      <td>-0.026598</td>\n",
              "      <td>0.000461</td>\n",
              "      <td>0.020018</td>\n",
              "      <td>-0.011703</td>\n",
              "      <td>-0.038441</td>\n",
              "      <td>0.034109</td>\n",
              "      <td>-0.019803</td>\n",
              "      <td>0.005226</td>\n",
              "      <td>-0.039558</td>\n",
              "      <td>0.025108</td>\n",
              "      <td>-0.025933</td>\n",
              "      <td>0.002823</td>\n",
              "      <td>-0.021766</td>\n",
              "    </tr>\n",
              "    <tr>\n",
              "      <th>1</th>\n",
              "      <td>0.113187</td>\n",
              "      <td>-0.055956</td>\n",
              "      <td>-0.114027</td>\n",
              "      <td>0.042792</td>\n",
              "      <td>-0.04304</td>\n",
              "      <td>-0.017661</td>\n",
              "      <td>0.067114</td>\n",
              "      <td>-0.026598</td>\n",
              "      <td>0.000461</td>\n",
              "      <td>0.020018</td>\n",
              "      <td>-0.011703</td>\n",
              "      <td>-0.038441</td>\n",
              "      <td>0.034109</td>\n",
              "      <td>-0.019803</td>\n",
              "      <td>0.005226</td>\n",
              "      <td>-0.039558</td>\n",
              "      <td>0.025108</td>\n",
              "      <td>-0.025933</td>\n",
              "      <td>0.002823</td>\n",
              "      <td>-0.021766</td>\n",
              "    </tr>\n",
              "    <tr>\n",
              "      <th>2</th>\n",
              "      <td>0.113187</td>\n",
              "      <td>-0.055956</td>\n",
              "      <td>-0.114027</td>\n",
              "      <td>0.042792</td>\n",
              "      <td>-0.04304</td>\n",
              "      <td>-0.017661</td>\n",
              "      <td>0.067114</td>\n",
              "      <td>-0.026598</td>\n",
              "      <td>0.000461</td>\n",
              "      <td>0.020018</td>\n",
              "      <td>-0.011703</td>\n",
              "      <td>-0.038441</td>\n",
              "      <td>0.034109</td>\n",
              "      <td>-0.019803</td>\n",
              "      <td>0.005226</td>\n",
              "      <td>-0.039558</td>\n",
              "      <td>0.025108</td>\n",
              "      <td>-0.025933</td>\n",
              "      <td>0.002823</td>\n",
              "      <td>-0.021766</td>\n",
              "    </tr>\n",
              "    <tr>\n",
              "      <th>3</th>\n",
              "      <td>0.113187</td>\n",
              "      <td>-0.055956</td>\n",
              "      <td>-0.114027</td>\n",
              "      <td>0.042792</td>\n",
              "      <td>-0.04304</td>\n",
              "      <td>-0.017661</td>\n",
              "      <td>0.067114</td>\n",
              "      <td>-0.026598</td>\n",
              "      <td>0.000461</td>\n",
              "      <td>0.020018</td>\n",
              "      <td>-0.011703</td>\n",
              "      <td>-0.038441</td>\n",
              "      <td>0.034109</td>\n",
              "      <td>-0.019803</td>\n",
              "      <td>0.005226</td>\n",
              "      <td>-0.039558</td>\n",
              "      <td>0.025108</td>\n",
              "      <td>-0.025933</td>\n",
              "      <td>0.002823</td>\n",
              "      <td>-0.021766</td>\n",
              "    </tr>\n",
              "    <tr>\n",
              "      <th>4</th>\n",
              "      <td>0.113187</td>\n",
              "      <td>-0.055956</td>\n",
              "      <td>-0.114027</td>\n",
              "      <td>0.042792</td>\n",
              "      <td>-0.04304</td>\n",
              "      <td>-0.017661</td>\n",
              "      <td>0.067114</td>\n",
              "      <td>-0.026598</td>\n",
              "      <td>0.000461</td>\n",
              "      <td>0.020018</td>\n",
              "      <td>-0.011703</td>\n",
              "      <td>-0.038441</td>\n",
              "      <td>0.034109</td>\n",
              "      <td>-0.019803</td>\n",
              "      <td>0.005226</td>\n",
              "      <td>-0.039558</td>\n",
              "      <td>0.025108</td>\n",
              "      <td>-0.025933</td>\n",
              "      <td>0.002823</td>\n",
              "      <td>-0.021766</td>\n",
              "    </tr>\n",
              "  </tbody>\n",
              "</table>\n",
              "</div>"
            ],
            "text/plain": [
              "      desc0     desc1     desc2  ...    desc17    desc18    desc19\n",
              "0  0.113187 -0.055956 -0.114027  ... -0.025933  0.002823 -0.021766\n",
              "1  0.113187 -0.055956 -0.114027  ... -0.025933  0.002823 -0.021766\n",
              "2  0.113187 -0.055956 -0.114027  ... -0.025933  0.002823 -0.021766\n",
              "3  0.113187 -0.055956 -0.114027  ... -0.025933  0.002823 -0.021766\n",
              "4  0.113187 -0.055956 -0.114027  ... -0.025933  0.002823 -0.021766\n",
              "\n",
              "[5 rows x 20 columns]"
            ]
          },
          "metadata": {
            "tags": []
          },
          "execution_count": 79
        }
      ]
    },
    {
      "cell_type": "code",
      "metadata": {
        "id": "o9t2P1XfzlHc"
      },
      "source": [
        "#get features\n",
        "feature_df = final_df.reset_index().drop(columns=['index']).join(content_feats_df)\n",
        "feature_df = feature_df.drop(columns=['rating', 'user_rating','genre', 'name', 'episodes', 'members', 'content', 'anime_id', 'user_id'])\n",
        "#get label\n",
        "label = final_df[['user_rating']]"
      ],
      "execution_count": null,
      "outputs": []
    },
    {
      "cell_type": "code",
      "metadata": {
        "colab": {
          "base_uri": "https://localhost:8080/",
          "height": 224
        },
        "id": "36oZ1hsw3q52",
        "outputId": "ac928349-8c8b-4213-f6f0-4eb42573e4e8"
      },
      "source": [
        "feature_df.head(5)"
      ],
      "execution_count": null,
      "outputs": [
        {
          "output_type": "execute_result",
          "data": {
            "text/html": [
              "<div>\n",
              "<style scoped>\n",
              "    .dataframe tbody tr th:only-of-type {\n",
              "        vertical-align: middle;\n",
              "    }\n",
              "\n",
              "    .dataframe tbody tr th {\n",
              "        vertical-align: top;\n",
              "    }\n",
              "\n",
              "    .dataframe thead th {\n",
              "        text-align: right;\n",
              "    }\n",
              "</style>\n",
              "<table border=\"1\" class=\"dataframe\">\n",
              "  <thead>\n",
              "    <tr style=\"text-align: right;\">\n",
              "      <th></th>\n",
              "      <th>average</th>\n",
              "      <th>type</th>\n",
              "      <th>desc0</th>\n",
              "      <th>desc1</th>\n",
              "      <th>desc2</th>\n",
              "      <th>desc3</th>\n",
              "      <th>desc4</th>\n",
              "      <th>desc5</th>\n",
              "      <th>desc6</th>\n",
              "      <th>desc7</th>\n",
              "      <th>desc8</th>\n",
              "      <th>desc9</th>\n",
              "      <th>desc10</th>\n",
              "      <th>desc11</th>\n",
              "      <th>desc12</th>\n",
              "      <th>desc13</th>\n",
              "      <th>desc14</th>\n",
              "      <th>desc15</th>\n",
              "      <th>desc16</th>\n",
              "      <th>desc17</th>\n",
              "      <th>desc18</th>\n",
              "      <th>desc19</th>\n",
              "    </tr>\n",
              "  </thead>\n",
              "  <tbody>\n",
              "    <tr>\n",
              "      <th>0</th>\n",
              "      <td>9.014286</td>\n",
              "      <td>3</td>\n",
              "      <td>0.113187</td>\n",
              "      <td>-0.055956</td>\n",
              "      <td>-0.114027</td>\n",
              "      <td>0.042792</td>\n",
              "      <td>-0.04304</td>\n",
              "      <td>-0.017661</td>\n",
              "      <td>0.067114</td>\n",
              "      <td>-0.026598</td>\n",
              "      <td>0.000461</td>\n",
              "      <td>0.020018</td>\n",
              "      <td>-0.011703</td>\n",
              "      <td>-0.038441</td>\n",
              "      <td>0.034109</td>\n",
              "      <td>-0.019803</td>\n",
              "      <td>0.005226</td>\n",
              "      <td>-0.039558</td>\n",
              "      <td>0.025108</td>\n",
              "      <td>-0.025933</td>\n",
              "      <td>0.002823</td>\n",
              "      <td>-0.021766</td>\n",
              "    </tr>\n",
              "    <tr>\n",
              "      <th>1</th>\n",
              "      <td>7.585799</td>\n",
              "      <td>3</td>\n",
              "      <td>0.113187</td>\n",
              "      <td>-0.055956</td>\n",
              "      <td>-0.114027</td>\n",
              "      <td>0.042792</td>\n",
              "      <td>-0.04304</td>\n",
              "      <td>-0.017661</td>\n",
              "      <td>0.067114</td>\n",
              "      <td>-0.026598</td>\n",
              "      <td>0.000461</td>\n",
              "      <td>0.020018</td>\n",
              "      <td>-0.011703</td>\n",
              "      <td>-0.038441</td>\n",
              "      <td>0.034109</td>\n",
              "      <td>-0.019803</td>\n",
              "      <td>0.005226</td>\n",
              "      <td>-0.039558</td>\n",
              "      <td>0.025108</td>\n",
              "      <td>-0.025933</td>\n",
              "      <td>0.002823</td>\n",
              "      <td>-0.021766</td>\n",
              "    </tr>\n",
              "    <tr>\n",
              "      <th>2</th>\n",
              "      <td>7.319797</td>\n",
              "      <td>3</td>\n",
              "      <td>0.113187</td>\n",
              "      <td>-0.055956</td>\n",
              "      <td>-0.114027</td>\n",
              "      <td>0.042792</td>\n",
              "      <td>-0.04304</td>\n",
              "      <td>-0.017661</td>\n",
              "      <td>0.067114</td>\n",
              "      <td>-0.026598</td>\n",
              "      <td>0.000461</td>\n",
              "      <td>0.020018</td>\n",
              "      <td>-0.011703</td>\n",
              "      <td>-0.038441</td>\n",
              "      <td>0.034109</td>\n",
              "      <td>-0.019803</td>\n",
              "      <td>0.005226</td>\n",
              "      <td>-0.039558</td>\n",
              "      <td>0.025108</td>\n",
              "      <td>-0.025933</td>\n",
              "      <td>0.002823</td>\n",
              "      <td>-0.021766</td>\n",
              "    </tr>\n",
              "    <tr>\n",
              "      <th>3</th>\n",
              "      <td>6.377224</td>\n",
              "      <td>3</td>\n",
              "      <td>0.113187</td>\n",
              "      <td>-0.055956</td>\n",
              "      <td>-0.114027</td>\n",
              "      <td>0.042792</td>\n",
              "      <td>-0.04304</td>\n",
              "      <td>-0.017661</td>\n",
              "      <td>0.067114</td>\n",
              "      <td>-0.026598</td>\n",
              "      <td>0.000461</td>\n",
              "      <td>0.020018</td>\n",
              "      <td>-0.011703</td>\n",
              "      <td>-0.038441</td>\n",
              "      <td>0.034109</td>\n",
              "      <td>-0.019803</td>\n",
              "      <td>0.005226</td>\n",
              "      <td>-0.039558</td>\n",
              "      <td>0.025108</td>\n",
              "      <td>-0.025933</td>\n",
              "      <td>0.002823</td>\n",
              "      <td>-0.021766</td>\n",
              "    </tr>\n",
              "    <tr>\n",
              "      <th>4</th>\n",
              "      <td>7.891892</td>\n",
              "      <td>3</td>\n",
              "      <td>0.113187</td>\n",
              "      <td>-0.055956</td>\n",
              "      <td>-0.114027</td>\n",
              "      <td>0.042792</td>\n",
              "      <td>-0.04304</td>\n",
              "      <td>-0.017661</td>\n",
              "      <td>0.067114</td>\n",
              "      <td>-0.026598</td>\n",
              "      <td>0.000461</td>\n",
              "      <td>0.020018</td>\n",
              "      <td>-0.011703</td>\n",
              "      <td>-0.038441</td>\n",
              "      <td>0.034109</td>\n",
              "      <td>-0.019803</td>\n",
              "      <td>0.005226</td>\n",
              "      <td>-0.039558</td>\n",
              "      <td>0.025108</td>\n",
              "      <td>-0.025933</td>\n",
              "      <td>0.002823</td>\n",
              "      <td>-0.021766</td>\n",
              "    </tr>\n",
              "  </tbody>\n",
              "</table>\n",
              "</div>"
            ],
            "text/plain": [
              "    average  type     desc0     desc1  ...    desc16    desc17    desc18    desc19\n",
              "0  9.014286     3  0.113187 -0.055956  ...  0.025108 -0.025933  0.002823 -0.021766\n",
              "1  7.585799     3  0.113187 -0.055956  ...  0.025108 -0.025933  0.002823 -0.021766\n",
              "2  7.319797     3  0.113187 -0.055956  ...  0.025108 -0.025933  0.002823 -0.021766\n",
              "3  6.377224     3  0.113187 -0.055956  ...  0.025108 -0.025933  0.002823 -0.021766\n",
              "4  7.891892     3  0.113187 -0.055956  ...  0.025108 -0.025933  0.002823 -0.021766\n",
              "\n",
              "[5 rows x 22 columns]"
            ]
          },
          "metadata": {
            "tags": []
          },
          "execution_count": 84
        }
      ]
    },
    {
      "cell_type": "code",
      "metadata": {
        "colab": {
          "base_uri": "https://localhost:8080/",
          "height": 204
        },
        "id": "5pjMAQRY3lOZ",
        "outputId": "5a2756ea-a1fe-430e-ce35-b0b0f0138fde"
      },
      "source": [
        "label.head(5)"
      ],
      "execution_count": null,
      "outputs": [
        {
          "output_type": "execute_result",
          "data": {
            "text/html": [
              "<div>\n",
              "<style scoped>\n",
              "    .dataframe tbody tr th:only-of-type {\n",
              "        vertical-align: middle;\n",
              "    }\n",
              "\n",
              "    .dataframe tbody tr th {\n",
              "        vertical-align: top;\n",
              "    }\n",
              "\n",
              "    .dataframe thead th {\n",
              "        text-align: right;\n",
              "    }\n",
              "</style>\n",
              "<table border=\"1\" class=\"dataframe\">\n",
              "  <thead>\n",
              "    <tr style=\"text-align: right;\">\n",
              "      <th></th>\n",
              "      <th>user_rating</th>\n",
              "    </tr>\n",
              "  </thead>\n",
              "  <tbody>\n",
              "    <tr>\n",
              "      <th>0</th>\n",
              "      <td>9</td>\n",
              "    </tr>\n",
              "    <tr>\n",
              "      <th>1</th>\n",
              "      <td>7</td>\n",
              "    </tr>\n",
              "    <tr>\n",
              "      <th>2</th>\n",
              "      <td>6</td>\n",
              "    </tr>\n",
              "    <tr>\n",
              "      <th>3</th>\n",
              "      <td>3</td>\n",
              "    </tr>\n",
              "    <tr>\n",
              "      <th>4</th>\n",
              "      <td>8</td>\n",
              "    </tr>\n",
              "  </tbody>\n",
              "</table>\n",
              "</div>"
            ],
            "text/plain": [
              "   user_rating\n",
              "0            9\n",
              "1            7\n",
              "2            6\n",
              "3            3\n",
              "4            8"
            ]
          },
          "metadata": {
            "tags": []
          },
          "execution_count": 85
        }
      ]
    },
    {
      "cell_type": "code",
      "metadata": {
        "id": "jNPKyrevz4h_"
      },
      "source": [
        "#split dataset\n",
        "train_length = int(len(feature_df) * 0.8)\n",
        "test_length = int(len(feature_df) * 0.2)\n",
        "\n",
        "train_x = feature_df.iloc[:train_length]\n",
        "test_x = feature_df.iloc[-test_length:]\n",
        "\n",
        "train_y = label.iloc[:train_length]\n",
        "#valid_y = label.iloc[train_length:train_length+valid_length]\n",
        "test_y = label.iloc[-test_length:]"
      ],
      "execution_count": null,
      "outputs": []
    },
    {
      "cell_type": "code",
      "metadata": {
        "id": "z_D5nKWZjZhp"
      },
      "source": [
        "test_feature = ratings_df.iloc[-test_length:]\n",
        "test_feature = test_feature.reset_index(drop = True)"
      ],
      "execution_count": null,
      "outputs": []
    },
    {
      "cell_type": "code",
      "metadata": {
        "id": "zgpzT7yx0Fx1"
      },
      "source": [
        "#train_model\n",
        "X = train_x\n",
        "y = train_y\n",
        "n,d = X.shape\n",
        "# # Standardize features\n",
        "from sklearn.preprocessing import StandardScaler\n",
        "standardizer = StandardScaler()\n",
        "X = pd.DataFrame(standardizer.fit_transform(X))  # compute mean and stdev on training set for standardization\n",
        "# # initialize the model\n",
        "init_theta = np.matrix(np.random.randn((d+1))).T\n",
        "alpha = 0.01\n",
        "# # Train the model\n",
        "lr_model = LinearReg(init_theta = init_theta, alpha = alpha, n_iter = 2000)\n",
        "lr_model.fit(X,y)"
      ],
      "execution_count": null,
      "outputs": []
    },
    {
      "cell_type": "code",
      "metadata": {
        "colab": {
          "base_uri": "https://localhost:8080/",
          "height": 419
        },
        "id": "GMAg6wa_0KTS",
        "outputId": "d51b4586-5b63-4fa5-a08c-efe9567b9939"
      },
      "source": [
        "#test model\n",
        "X = test_x\n",
        "y = test_y\n",
        "n,d = X.shape\n",
        "# Standardize features\n",
        "from sklearn.preprocessing import StandardScaler\n",
        "standardizer = StandardScaler()\n",
        "X = pd.DataFrame(standardizer.fit_transform(X))\n",
        "lr_model.predict(X)"
      ],
      "execution_count": null,
      "outputs": [
        {
          "output_type": "execute_result",
          "data": {
            "text/html": [
              "<div>\n",
              "<style scoped>\n",
              "    .dataframe tbody tr th:only-of-type {\n",
              "        vertical-align: middle;\n",
              "    }\n",
              "\n",
              "    .dataframe tbody tr th {\n",
              "        vertical-align: top;\n",
              "    }\n",
              "\n",
              "    .dataframe thead th {\n",
              "        text-align: right;\n",
              "    }\n",
              "</style>\n",
              "<table border=\"1\" class=\"dataframe\">\n",
              "  <thead>\n",
              "    <tr style=\"text-align: right;\">\n",
              "      <th></th>\n",
              "      <th>0</th>\n",
              "    </tr>\n",
              "  </thead>\n",
              "  <tbody>\n",
              "    <tr>\n",
              "      <th>0</th>\n",
              "      <td>7.678888</td>\n",
              "    </tr>\n",
              "    <tr>\n",
              "      <th>1</th>\n",
              "      <td>8.568655</td>\n",
              "    </tr>\n",
              "    <tr>\n",
              "      <th>2</th>\n",
              "      <td>8.740484</td>\n",
              "    </tr>\n",
              "    <tr>\n",
              "      <th>3</th>\n",
              "      <td>5.724967</td>\n",
              "    </tr>\n",
              "    <tr>\n",
              "      <th>4</th>\n",
              "      <td>8.898945</td>\n",
              "    </tr>\n",
              "    <tr>\n",
              "      <th>...</th>\n",
              "      <td>...</td>\n",
              "    </tr>\n",
              "    <tr>\n",
              "      <th>134838</th>\n",
              "      <td>8.577571</td>\n",
              "    </tr>\n",
              "    <tr>\n",
              "      <th>134839</th>\n",
              "      <td>8.285168</td>\n",
              "    </tr>\n",
              "    <tr>\n",
              "      <th>134840</th>\n",
              "      <td>7.265767</td>\n",
              "    </tr>\n",
              "    <tr>\n",
              "      <th>134841</th>\n",
              "      <td>8.947463</td>\n",
              "    </tr>\n",
              "    <tr>\n",
              "      <th>134842</th>\n",
              "      <td>7.533724</td>\n",
              "    </tr>\n",
              "  </tbody>\n",
              "</table>\n",
              "<p>134843 rows × 1 columns</p>\n",
              "</div>"
            ],
            "text/plain": [
              "               0\n",
              "0       7.678888\n",
              "1       8.568655\n",
              "2       8.740484\n",
              "3       5.724967\n",
              "4       8.898945\n",
              "...          ...\n",
              "134838  8.577571\n",
              "134839  8.285168\n",
              "134840  7.265767\n",
              "134841  8.947463\n",
              "134842  7.533724\n",
              "\n",
              "[134843 rows x 1 columns]"
            ]
          },
          "metadata": {
            "tags": []
          },
          "execution_count": 88
        }
      ]
    },
    {
      "cell_type": "code",
      "metadata": {
        "colab": {
          "base_uri": "https://localhost:8080/"
        },
        "id": "9W3HW9rI0V3N",
        "outputId": "cc94d707-ae60-45e0-c46e-f27e54bb70ae"
      },
      "source": [
        "#calculate mean square root error\n",
        "reset_test = test_y.reset_index(drop = True)\n",
        "reset_test = reset_test['user_rating']\n",
        "#print(reset_test)\n",
        "test_pred = lr_model.predict(X)\n",
        "test_pred = test_pred[0]\n",
        "#print(test_pred)\n",
        "np.sqrt(np.mean(np.power(test_pred - reset_test, 2)))"
      ],
      "execution_count": null,
      "outputs": [
        {
          "output_type": "execute_result",
          "data": {
            "text/plain": [
              "1.354307615801732"
            ]
          },
          "metadata": {
            "tags": []
          },
          "execution_count": 90
        }
      ]
    },
    {
      "cell_type": "code",
      "metadata": {
        "id": "zfd7BQ2-Qj4u"
      },
      "source": [
        "#print(test_pred)\n",
        "test_res = test_pred.to_frame()\n",
        "test_res.columns = ['pred_score']"
      ],
      "execution_count": null,
      "outputs": []
    },
    {
      "cell_type": "code",
      "metadata": {
        "id": "SYtI9b_AkEvc"
      },
      "source": [
        "test_result = test_feature.join(test_res)\n",
        "test_result = test_result.drop(columns=['user_rating', 'average'])"
      ],
      "execution_count": null,
      "outputs": []
    },
    {
      "cell_type": "code",
      "metadata": {
        "colab": {
          "base_uri": "https://localhost:8080/",
          "height": 419
        },
        "id": "Zj9Nf7KFlKt1",
        "outputId": "062a6052-aa36-41c9-ff6e-6f189da0befe"
      },
      "source": [
        "test_result.to_csv('content_test.csv')\n",
        "test_result"
      ],
      "execution_count": null,
      "outputs": [
        {
          "output_type": "execute_result",
          "data": {
            "text/html": [
              "<div>\n",
              "<style scoped>\n",
              "    .dataframe tbody tr th:only-of-type {\n",
              "        vertical-align: middle;\n",
              "    }\n",
              "\n",
              "    .dataframe tbody tr th {\n",
              "        vertical-align: top;\n",
              "    }\n",
              "\n",
              "    .dataframe thead th {\n",
              "        text-align: right;\n",
              "    }\n",
              "</style>\n",
              "<table border=\"1\" class=\"dataframe\">\n",
              "  <thead>\n",
              "    <tr style=\"text-align: right;\">\n",
              "      <th></th>\n",
              "      <th>user_id</th>\n",
              "      <th>anime_id</th>\n",
              "      <th>pred_score</th>\n",
              "    </tr>\n",
              "  </thead>\n",
              "  <tbody>\n",
              "    <tr>\n",
              "      <th>0</th>\n",
              "      <td>2982</td>\n",
              "      <td>61</td>\n",
              "      <td>7.678888</td>\n",
              "    </tr>\n",
              "    <tr>\n",
              "      <th>1</th>\n",
              "      <td>2982</td>\n",
              "      <td>588</td>\n",
              "      <td>8.568655</td>\n",
              "    </tr>\n",
              "    <tr>\n",
              "      <th>2</th>\n",
              "      <td>2982</td>\n",
              "      <td>649</td>\n",
              "      <td>8.740484</td>\n",
              "    </tr>\n",
              "    <tr>\n",
              "      <th>3</th>\n",
              "      <td>2982</td>\n",
              "      <td>316</td>\n",
              "      <td>5.724967</td>\n",
              "    </tr>\n",
              "    <tr>\n",
              "      <th>4</th>\n",
              "      <td>2982</td>\n",
              "      <td>343</td>\n",
              "      <td>8.898945</td>\n",
              "    </tr>\n",
              "    <tr>\n",
              "      <th>...</th>\n",
              "      <td>...</td>\n",
              "      <td>...</td>\n",
              "      <td>...</td>\n",
              "    </tr>\n",
              "    <tr>\n",
              "      <th>134838</th>\n",
              "      <td>3429</td>\n",
              "      <td>34</td>\n",
              "      <td>8.577571</td>\n",
              "    </tr>\n",
              "    <tr>\n",
              "      <th>134839</th>\n",
              "      <td>3429</td>\n",
              "      <td>282</td>\n",
              "      <td>8.285168</td>\n",
              "    </tr>\n",
              "    <tr>\n",
              "      <th>134840</th>\n",
              "      <td>3429</td>\n",
              "      <td>29</td>\n",
              "      <td>7.265767</td>\n",
              "    </tr>\n",
              "    <tr>\n",
              "      <th>134841</th>\n",
              "      <td>3429</td>\n",
              "      <td>32</td>\n",
              "      <td>8.947463</td>\n",
              "    </tr>\n",
              "    <tr>\n",
              "      <th>134842</th>\n",
              "      <td>3429</td>\n",
              "      <td>233</td>\n",
              "      <td>7.533724</td>\n",
              "    </tr>\n",
              "  </tbody>\n",
              "</table>\n",
              "<p>134843 rows × 3 columns</p>\n",
              "</div>"
            ],
            "text/plain": [
              "        user_id  anime_id  pred_score\n",
              "0          2982        61    7.678888\n",
              "1          2982       588    8.568655\n",
              "2          2982       649    8.740484\n",
              "3          2982       316    5.724967\n",
              "4          2982       343    8.898945\n",
              "...         ...       ...         ...\n",
              "134838     3429        34    8.577571\n",
              "134839     3429       282    8.285168\n",
              "134840     3429        29    7.265767\n",
              "134841     3429        32    8.947463\n",
              "134842     3429       233    7.533724\n",
              "\n",
              "[134843 rows x 3 columns]"
            ]
          },
          "metadata": {
            "tags": []
          },
          "execution_count": 115
        }
      ]
    },
    {
      "cell_type": "markdown",
      "metadata": {
        "id": "uVpTJIpwU7i3"
      },
      "source": [
        "# Matrix Factorization Models"
      ]
    },
    {
      "cell_type": "code",
      "metadata": {
        "id": "rXcYFPx-Xjkf"
      },
      "source": [
        "type_dic = {'Movie':0, 'TV':1, 'OVA':2, 'Special':3, 'Music':4, 'ONA':5}\n",
        "anime_df['type_id'] = anime_df['type'].apply(lambda x: type_dic[x])"
      ],
      "execution_count": null,
      "outputs": []
    },
    {
      "cell_type": "code",
      "metadata": {
        "id": "sStIhIpGYqbp"
      },
      "source": [
        "anime_df['members_bin'] = pd.qcut(anime_df['members'], q=[0.1*i for i in range(11)], labels=list(range(10)))\n",
        "anime_df['rating_bin'] = pd.qcut(anime_df['rating'], q=[0.1*i for i in range(11)], labels=list(range(10)))"
      ],
      "execution_count": null,
      "outputs": []
    },
    {
      "cell_type": "code",
      "metadata": {
        "id": "hZbkuC9SY94q"
      },
      "source": [
        "anime_df_bin = anime_df.set_index('anime_id')"
      ],
      "execution_count": null,
      "outputs": []
    },
    {
      "cell_type": "code",
      "metadata": {
        "colab": {
          "base_uri": "https://localhost:8080/"
        },
        "id": "-gK5HVKHom8a",
        "outputId": "8e0a7cdf-0315-4a4e-e2e4-32730b12ba53"
      },
      "source": [
        "ratings_subset = ratings_df.copy()\n",
        "ratings_subset.shape"
      ],
      "execution_count": null,
      "outputs": [
        {
          "output_type": "execute_result",
          "data": {
            "text/plain": [
              "(674215, 3)"
            ]
          },
          "metadata": {
            "tags": []
          },
          "execution_count": 46
        }
      ]
    },
    {
      "cell_type": "code",
      "metadata": {
        "id": "cVWQwG-iZ1HJ"
      },
      "source": [
        "ratings_subset['type_id'] = ratings_subset['anime_id'].apply(lambda x: anime_df_bin.loc[x, 'type_id'])\n",
        "ratings_subset['rating_bin'] = ratings_subset['anime_id'].apply(lambda x: anime_df_bin.loc[x, 'rating_bin'])\n",
        "ratings_subset['members_bin'] = ratings_subset['anime_id'].apply(lambda x: anime_df_bin.loc[x, 'members_bin'])"
      ],
      "execution_count": null,
      "outputs": []
    },
    {
      "cell_type": "code",
      "metadata": {
        "id": "ay6OHtD1aG4I"
      },
      "source": [
        "ratings_subset = ratings_subset[['user_id',\t'anime_id',\t'type_id',\t'rating_bin',\t'members_bin',\t'rating']]"
      ],
      "execution_count": null,
      "outputs": []
    },
    {
      "cell_type": "code",
      "metadata": {
        "colab": {
          "base_uri": "https://localhost:8080/",
          "height": 204
        },
        "id": "xTkPs--sbpq3",
        "outputId": "6ad960c7-9aa8-4635-a4f8-c75c4025f666"
      },
      "source": [
        "ratings_subset.head()"
      ],
      "execution_count": null,
      "outputs": [
        {
          "output_type": "execute_result",
          "data": {
            "text/html": [
              "<div>\n",
              "<style scoped>\n",
              "    .dataframe tbody tr th:only-of-type {\n",
              "        vertical-align: middle;\n",
              "    }\n",
              "\n",
              "    .dataframe tbody tr th {\n",
              "        vertical-align: top;\n",
              "    }\n",
              "\n",
              "    .dataframe thead th {\n",
              "        text-align: right;\n",
              "    }\n",
              "</style>\n",
              "<table border=\"1\" class=\"dataframe\">\n",
              "  <thead>\n",
              "    <tr style=\"text-align: right;\">\n",
              "      <th></th>\n",
              "      <th>user_id</th>\n",
              "      <th>anime_id</th>\n",
              "      <th>type_id</th>\n",
              "      <th>rating_bin</th>\n",
              "      <th>members_bin</th>\n",
              "      <th>rating</th>\n",
              "    </tr>\n",
              "  </thead>\n",
              "  <tbody>\n",
              "    <tr>\n",
              "      <th>0</th>\n",
              "      <td>0</td>\n",
              "      <td>0</td>\n",
              "      <td>3</td>\n",
              "      <td>0</td>\n",
              "      <td>1</td>\n",
              "      <td>9</td>\n",
              "    </tr>\n",
              "    <tr>\n",
              "      <th>1</th>\n",
              "      <td>1</td>\n",
              "      <td>1</td>\n",
              "      <td>1</td>\n",
              "      <td>5</td>\n",
              "      <td>3</td>\n",
              "      <td>8</td>\n",
              "    </tr>\n",
              "    <tr>\n",
              "      <th>2</th>\n",
              "      <td>2</td>\n",
              "      <td>2</td>\n",
              "      <td>1</td>\n",
              "      <td>9</td>\n",
              "      <td>9</td>\n",
              "      <td>9</td>\n",
              "    </tr>\n",
              "    <tr>\n",
              "      <th>3</th>\n",
              "      <td>3</td>\n",
              "      <td>3</td>\n",
              "      <td>1</td>\n",
              "      <td>9</td>\n",
              "      <td>8</td>\n",
              "      <td>9</td>\n",
              "    </tr>\n",
              "    <tr>\n",
              "      <th>4</th>\n",
              "      <td>4</td>\n",
              "      <td>4</td>\n",
              "      <td>3</td>\n",
              "      <td>3</td>\n",
              "      <td>1</td>\n",
              "      <td>7</td>\n",
              "    </tr>\n",
              "  </tbody>\n",
              "</table>\n",
              "</div>"
            ],
            "text/plain": [
              "   user_id  anime_id  type_id  rating_bin  members_bin  rating\n",
              "0        0         0        3           0            1       9\n",
              "1        1         1        1           5            3       8\n",
              "2        2         2        1           9            9       9\n",
              "3        3         3        1           9            8       9\n",
              "4        4         4        3           3            1       7"
            ]
          },
          "metadata": {
            "tags": []
          },
          "execution_count": 49
        }
      ]
    },
    {
      "cell_type": "code",
      "metadata": {
        "id": "46_6Ie4Pnmt_"
      },
      "source": [
        "train_length = int(len(ratings_subset) * 0.8)\n",
        "valid_length = int(len(ratings_subset) * 0.1)\n",
        "test_length = len(ratings_subset) - train_length - valid_length\n",
        "\n",
        "train_ratings = ratings_subset.iloc[:train_length]\n",
        "valid_ratings = ratings_subset.iloc[train_length:train_length+valid_length]\n",
        "test_ratings = ratings_subset.iloc[-test_length:]"
      ],
      "execution_count": null,
      "outputs": []
    },
    {
      "cell_type": "code",
      "metadata": {
        "colab": {
          "base_uri": "https://localhost:8080/"
        },
        "id": "E0ncACte5fmb",
        "outputId": "89175a8f-74d9-4da5-c6b5-c839ca135e94"
      },
      "source": [
        "train_ratings.shape"
      ],
      "execution_count": null,
      "outputs": [
        {
          "output_type": "execute_result",
          "data": {
            "text/plain": [
              "(539372, 6)"
            ]
          },
          "metadata": {
            "tags": []
          },
          "execution_count": 12
        }
      ]
    },
    {
      "cell_type": "code",
      "metadata": {
        "id": "JXIb90Je1ytU"
      },
      "source": [
        ""
      ],
      "execution_count": null,
      "outputs": []
    },
    {
      "cell_type": "markdown",
      "metadata": {
        "id": "aQuZ89Zw1zhN"
      },
      "source": [
        "## Matrix Factorization"
      ]
    },
    {
      "cell_type": "code",
      "metadata": {
        "id": "J8C1QzOmJwR_"
      },
      "source": [
        "num_users = 5000\n",
        "num_animes = 1000\n",
        "R_train = np.zeros((num_users, num_animes))\n",
        "\n",
        "for row in train_ratings.values:\n",
        "  R_train[row[0], row[1]] = row[-1]"
      ],
      "execution_count": null,
      "outputs": []
    },
    {
      "cell_type": "code",
      "metadata": {
        "id": "aJwGh3g1EX0N"
      },
      "source": [
        "def matrix_factorization(R, P, Q, K, steps=5000, alpha=0.0002, beta=0.02):\n",
        "    '''\n",
        "    R: rating matrix\n",
        "    P: |U| * K (User features matrix)\n",
        "    Q: |D| * K (Item features matrix)\n",
        "    K: latent features\n",
        "    steps: iterations\n",
        "    alpha: learning rate\n",
        "    beta: regularization parameter'''\n",
        "    Q = Q.T\n",
        "\n",
        "    for step in range(steps):\n",
        "        print('step', step)\n",
        "        # eR = np.dot(P,Q)\n",
        "        for i in range(len(R)):\n",
        "            for j in range(len(R[i])):\n",
        "                if R[i][j] > 0:\n",
        "                    # calculate error\n",
        "                    eij = R[i,j] - np.dot(P[i,:],Q[:,j])\n",
        "\n",
        "                    P[i] = P[i] + alpha * (2 * eij * Q[:,j] - beta * P[i])\n",
        "                    Q[:,j] = Q[:,j] + alpha * (2 * eij * P[i] - beta * Q[:,j])\n",
        "                    # for k in range(K):\n",
        "                    #     # calculate gradient with a and beta parameter\n",
        "                    #     P[i][k] = P[i][k] + alpha * (2 * eij * Q[k][j] - beta * P[i][k])\n",
        "                    #     Q[k][j] = Q[k][j] + alpha * (2 * eij * P[i][k] - beta * Q[k][j])\n",
        "\n",
        "        eR = np.dot(P,Q)\n",
        "        mse = 0\n",
        "        count = 0\n",
        "        for row in train_ratings.values:\n",
        "          mse += (eR[row[0]][row[1]] - row[-1])**2\n",
        "          count += 1\n",
        "        print('training mse:', np.sqrt(mse / count))\n",
        "        mse = 0\n",
        "        count = 0\n",
        "        for row in valid_ratings.values:\n",
        "          mse += (eR[row[0]][row[1]] - row[-1])**2\n",
        "          count += 1\n",
        "        print('validation mse:', np.sqrt(mse / count))\n",
        "\n",
        "    return P, Q.T"
      ],
      "execution_count": null,
      "outputs": []
    },
    {
      "cell_type": "code",
      "metadata": {
        "id": "edd3UAJGHL5g"
      },
      "source": [
        "K = 100\n",
        "P = np.random.normal(size=(num_users, K))\n",
        "Q = np.random.normal(size=(num_animes, K))"
      ],
      "execution_count": null,
      "outputs": []
    },
    {
      "cell_type": "code",
      "metadata": {
        "id": "01LS8rIq5ZRd"
      },
      "source": [
        "# np.save(f\"drive/MyDrive/CIS 519 Project/P_K{K}.npy\", P)\n",
        "# np.save(f\"drive/MyDrive/CIS 519 Project/Q_K{K}.npy\", Q)\n",
        "P = np.load(f\"drive/MyDrive/CIS 519 Project/P_K{K}.npy\")\n",
        "Q = np.load(f\"drive/MyDrive/CIS 519 Project/Q_K{K}.npy\")"
      ],
      "execution_count": null,
      "outputs": []
    },
    {
      "cell_type": "code",
      "metadata": {
        "id": "SqBf5Opb_oPy"
      },
      "source": [
        ""
      ],
      "execution_count": null,
      "outputs": []
    },
    {
      "cell_type": "code",
      "metadata": {
        "colab": {
          "base_uri": "https://localhost:8080/",
          "height": 1000
        },
        "id": "X9QR7ucHNZCX",
        "outputId": "08263696-c62b-412b-d9c1-3316a8a6031f"
      },
      "source": [
        "P, Q = matrix_factorization(R_train, P, Q, K, steps=50, alpha=0.001)\n",
        "# np.save(f\"drive/MyDrive/CIS 519 Project/P_K{K}.npy\", P)\n",
        "# np.save(f\"drive/MyDrive/CIS 519 Project/Q_K{K}.npy\", Q)"
      ],
      "execution_count": null,
      "outputs": [
        {
          "output_type": "stream",
          "text": [
            "step 0\n",
            "training mse: 0.53594319078236\n",
            "validation mse: 1.4981963438329995\n",
            "step 1\n",
            "training mse: 0.5350457555254873\n",
            "validation mse: 1.498107466093339\n",
            "step 2\n",
            "training mse: 0.5341528328690983\n",
            "validation mse: 1.4980190215169673\n",
            "step 3\n",
            "training mse: 0.5332644032374134\n",
            "validation mse: 1.4979309891577322\n",
            "step 4\n",
            "training mse: 0.532380447065262\n",
            "validation mse: 1.4978433483979152\n",
            "step 5\n",
            "training mse: 0.5315009447990606\n",
            "validation mse: 1.497756078947007\n",
            "step 6\n",
            "training mse: 0.5306258768979476\n",
            "validation mse: 1.4976691608404664\n",
            "step 7\n",
            "training mse: 0.529755223834749\n",
            "validation mse: 1.4975825744383737\n",
            "step 8\n",
            "training mse: 0.5288889660970725\n",
            "validation mse: 1.4974963004240485\n",
            "step 9\n",
            "training mse: 0.5280270841883771\n",
            "validation mse: 1.4974103198027675\n",
            "step 10\n",
            "training mse: 0.5271695586289312\n",
            "validation mse: 1.4973246139002323\n",
            "step 11\n",
            "training mse: 0.5263163699569738\n",
            "validation mse: 1.4972391643611043\n",
            "step 12\n",
            "training mse: 0.5254674987295744\n",
            "validation mse: 1.497153953147588\n",
            "step 13\n",
            "training mse: 0.5246229255238338\n",
            "validation mse: 1.4970689625377216\n",
            "step 14\n",
            "training mse: 0.5237826309378045\n",
            "validation mse: 1.4969841751239366\n",
            "step 15\n",
            "training mse: 0.5229465955915155\n",
            "validation mse: 1.4968995738112807\n",
            "step 16\n",
            "training mse: 0.5221148001280033\n",
            "validation mse: 1.4968151418158329\n",
            "step 17\n",
            "training mse: 0.5212872252143277\n",
            "validation mse: 1.4967308626629228\n",
            "step 18\n",
            "training mse: 0.5204638515425446\n",
            "validation mse: 1.4966467201853921\n",
            "step 19\n",
            "training mse: 0.5196446598306863\n",
            "validation mse: 1.4965626985218052\n",
            "step 20\n",
            "training mse: 0.5188296308238215\n",
            "validation mse: 1.496478782114502\n",
            "step 21\n",
            "training mse: 0.5180187452949288\n",
            "validation mse: 1.496394955707827\n",
            "step 22\n",
            "training mse: 0.5172119840459894\n",
            "validation mse: 1.4963112043461224\n",
            "step 23\n",
            "training mse: 0.5164093279088267\n",
            "validation mse: 1.4962275133717817\n",
            "step 24\n",
            "training mse: 0.5156107577461316\n",
            "validation mse: 1.4961438684232136\n",
            "step 25\n",
            "training mse: 0.5148162544524596\n",
            "validation mse: 1.4960602554328184\n",
            "step 26\n",
            "training mse: 0.5140257989550308\n",
            "validation mse: 1.4959766606248617\n",
            "step 27\n",
            "training mse: 0.5132393722147979\n",
            "validation mse: 1.4958930705133453\n",
            "step 28\n",
            "training mse: 0.5124569552272616\n",
            "validation mse: 1.495809471899875\n",
            "step 29\n",
            "training mse: 0.5116785290234687\n",
            "validation mse: 1.4957258518714167\n",
            "step 30\n",
            "training mse: 0.5109040746708469\n",
            "validation mse: 1.4956421977980627\n",
            "step 31\n",
            "training mse: 0.5101335732741293\n",
            "validation mse: 1.4955584973307279\n",
            "step 32\n",
            "training mse: 0.509367005976192\n",
            "validation mse: 1.4954747383988785\n",
            "step 33\n",
            "training mse: 0.5086043539589703\n",
            "validation mse: 1.4953909092081166\n",
            "step 34\n"
          ],
          "name": "stdout"
        },
        {
          "output_type": "error",
          "ename": "KeyboardInterrupt",
          "evalue": "ignored",
          "traceback": [
            "\u001b[0;31m---------------------------------------------------------------------------\u001b[0m",
            "\u001b[0;31mKeyboardInterrupt\u001b[0m                         Traceback (most recent call last)",
            "\u001b[0;32m<ipython-input-55-cd15ffa88b4f>\u001b[0m in \u001b[0;36m<module>\u001b[0;34m()\u001b[0m\n\u001b[0;32m----> 1\u001b[0;31m \u001b[0mP\u001b[0m\u001b[0;34m,\u001b[0m \u001b[0mQ\u001b[0m \u001b[0;34m=\u001b[0m \u001b[0mmatrix_factorization\u001b[0m\u001b[0;34m(\u001b[0m\u001b[0mR_train\u001b[0m\u001b[0;34m,\u001b[0m \u001b[0mP\u001b[0m\u001b[0;34m,\u001b[0m \u001b[0mQ\u001b[0m\u001b[0;34m,\u001b[0m \u001b[0mK\u001b[0m\u001b[0;34m,\u001b[0m \u001b[0msteps\u001b[0m\u001b[0;34m=\u001b[0m\u001b[0;36m50\u001b[0m\u001b[0;34m,\u001b[0m \u001b[0malpha\u001b[0m\u001b[0;34m=\u001b[0m\u001b[0;36m0.001\u001b[0m\u001b[0;34m)\u001b[0m\u001b[0;34m\u001b[0m\u001b[0;34m\u001b[0m\u001b[0m\n\u001b[0m\u001b[1;32m      2\u001b[0m \u001b[0;31m# np.save(f\"drive/MyDrive/CIS 519 Project/P_K{K}.npy\", P)\u001b[0m\u001b[0;34m\u001b[0m\u001b[0;34m\u001b[0m\u001b[0;34m\u001b[0m\u001b[0m\n\u001b[1;32m      3\u001b[0m \u001b[0;31m# np.save(f\"drive/MyDrive/CIS 519 Project/Q_K{K}.npy\", Q)\u001b[0m\u001b[0;34m\u001b[0m\u001b[0;34m\u001b[0m\u001b[0;34m\u001b[0m\u001b[0m\n",
            "\u001b[0;32m<ipython-input-54-50c878c4858c>\u001b[0m in \u001b[0;36mmatrix_factorization\u001b[0;34m(R, P, Q, K, steps, alpha, beta)\u001b[0m\n\u001b[1;32m     19\u001b[0m                     \u001b[0meij\u001b[0m \u001b[0;34m=\u001b[0m \u001b[0mR\u001b[0m\u001b[0;34m[\u001b[0m\u001b[0mi\u001b[0m\u001b[0;34m,\u001b[0m\u001b[0mj\u001b[0m\u001b[0;34m]\u001b[0m \u001b[0;34m-\u001b[0m \u001b[0mnp\u001b[0m\u001b[0;34m.\u001b[0m\u001b[0mdot\u001b[0m\u001b[0;34m(\u001b[0m\u001b[0mP\u001b[0m\u001b[0;34m[\u001b[0m\u001b[0mi\u001b[0m\u001b[0;34m,\u001b[0m\u001b[0;34m:\u001b[0m\u001b[0;34m]\u001b[0m\u001b[0;34m,\u001b[0m\u001b[0mQ\u001b[0m\u001b[0;34m[\u001b[0m\u001b[0;34m:\u001b[0m\u001b[0;34m,\u001b[0m\u001b[0mj\u001b[0m\u001b[0;34m]\u001b[0m\u001b[0;34m)\u001b[0m\u001b[0;34m\u001b[0m\u001b[0;34m\u001b[0m\u001b[0m\n\u001b[1;32m     20\u001b[0m \u001b[0;34m\u001b[0m\u001b[0m\n\u001b[0;32m---> 21\u001b[0;31m                     \u001b[0mP\u001b[0m\u001b[0;34m[\u001b[0m\u001b[0mi\u001b[0m\u001b[0;34m]\u001b[0m \u001b[0;34m=\u001b[0m \u001b[0mP\u001b[0m\u001b[0;34m[\u001b[0m\u001b[0mi\u001b[0m\u001b[0;34m]\u001b[0m \u001b[0;34m+\u001b[0m \u001b[0malpha\u001b[0m \u001b[0;34m*\u001b[0m \u001b[0;34m(\u001b[0m\u001b[0;36m2\u001b[0m \u001b[0;34m*\u001b[0m \u001b[0meij\u001b[0m \u001b[0;34m*\u001b[0m \u001b[0mQ\u001b[0m\u001b[0;34m[\u001b[0m\u001b[0;34m:\u001b[0m\u001b[0;34m,\u001b[0m\u001b[0mj\u001b[0m\u001b[0;34m]\u001b[0m \u001b[0;34m-\u001b[0m \u001b[0mbeta\u001b[0m \u001b[0;34m*\u001b[0m \u001b[0mP\u001b[0m\u001b[0;34m[\u001b[0m\u001b[0mi\u001b[0m\u001b[0;34m]\u001b[0m\u001b[0;34m)\u001b[0m\u001b[0;34m\u001b[0m\u001b[0;34m\u001b[0m\u001b[0m\n\u001b[0m\u001b[1;32m     22\u001b[0m                     \u001b[0mQ\u001b[0m\u001b[0;34m[\u001b[0m\u001b[0;34m:\u001b[0m\u001b[0;34m,\u001b[0m\u001b[0mj\u001b[0m\u001b[0;34m]\u001b[0m \u001b[0;34m=\u001b[0m \u001b[0mQ\u001b[0m\u001b[0;34m[\u001b[0m\u001b[0;34m:\u001b[0m\u001b[0;34m,\u001b[0m\u001b[0mj\u001b[0m\u001b[0;34m]\u001b[0m \u001b[0;34m+\u001b[0m \u001b[0malpha\u001b[0m \u001b[0;34m*\u001b[0m \u001b[0;34m(\u001b[0m\u001b[0;36m2\u001b[0m \u001b[0;34m*\u001b[0m \u001b[0meij\u001b[0m \u001b[0;34m*\u001b[0m \u001b[0mP\u001b[0m\u001b[0;34m[\u001b[0m\u001b[0mi\u001b[0m\u001b[0;34m]\u001b[0m \u001b[0;34m-\u001b[0m \u001b[0mbeta\u001b[0m \u001b[0;34m*\u001b[0m \u001b[0mQ\u001b[0m\u001b[0;34m[\u001b[0m\u001b[0;34m:\u001b[0m\u001b[0;34m,\u001b[0m\u001b[0mj\u001b[0m\u001b[0;34m]\u001b[0m\u001b[0;34m)\u001b[0m\u001b[0;34m\u001b[0m\u001b[0;34m\u001b[0m\u001b[0m\n\u001b[1;32m     23\u001b[0m                     \u001b[0;31m# for k in range(K):\u001b[0m\u001b[0;34m\u001b[0m\u001b[0;34m\u001b[0m\u001b[0;34m\u001b[0m\u001b[0m\n",
            "\u001b[0;31mKeyboardInterrupt\u001b[0m: "
          ]
        }
      ]
    },
    {
      "cell_type": "code",
      "metadata": {
        "id": "er6BdI3iKX6D"
      },
      "source": [
        ""
      ],
      "execution_count": null,
      "outputs": []
    },
    {
      "cell_type": "code",
      "metadata": {
        "colab": {
          "base_uri": "https://localhost:8080/"
        },
        "id": "G7cQmMewlaCs",
        "outputId": "60d31e50-1792-4c68-e601-83bfba47e7bb"
      },
      "source": [
        "P.shape, Q.shape"
      ],
      "execution_count": null,
      "outputs": [
        {
          "output_type": "execute_result",
          "data": {
            "text/plain": [
              "((5000, 100), (1000, 100))"
            ]
          },
          "metadata": {
            "tags": []
          },
          "execution_count": 55
        }
      ]
    },
    {
      "cell_type": "code",
      "metadata": {
        "id": "AtPNuZhOlfcD"
      },
      "source": [
        ""
      ],
      "execution_count": null,
      "outputs": []
    },
    {
      "cell_type": "code",
      "metadata": {
        "id": "ELNvgsISl8Dv"
      },
      "source": [
        ""
      ],
      "execution_count": null,
      "outputs": []
    },
    {
      "cell_type": "code",
      "metadata": {
        "colab": {
          "base_uri": "https://localhost:8080/"
        },
        "id": "jTxcsrBFln8q",
        "outputId": "ffd02e59-2066-4d18-fb48-766d2f3839b9"
      },
      "source": [
        "mse = 0\n",
        "count = 0\n",
        "for i in range(num_users):\n",
        "  for j in range(num_animes):\n",
        "    if R_train[i][j] > 0:\n",
        "      mse += abs(R_pred[i][j] - R_train[i][j])**2\n",
        "      count += 1\n",
        "print('training mse:', np.sqrt(mse / count))"
      ],
      "execution_count": null,
      "outputs": [
        {
          "output_type": "stream",
          "text": [
            "training mse: 0.5881541172306441\n"
          ],
          "name": "stdout"
        }
      ]
    },
    {
      "cell_type": "code",
      "metadata": {
        "id": "BhK7JPR0mHun"
      },
      "source": [
        "R_pred = np.dot(P, Q.T)"
      ],
      "execution_count": null,
      "outputs": []
    },
    {
      "cell_type": "code",
      "metadata": {
        "colab": {
          "base_uri": "https://localhost:8080/"
        },
        "id": "m24jgJalrJbn",
        "outputId": "f69883b2-0bd5-446c-9070-473d562a2a00"
      },
      "source": [
        "mse = 0\n",
        "count = 0\n",
        "for row in train_ratings.values:\n",
        "  mse += (R_pred[row[0]][row[1]] - row[-1])**2\n",
        "  count += 1\n",
        "print('training mse:', np.sqrt(mse / count))"
      ],
      "execution_count": null,
      "outputs": [
        {
          "output_type": "stream",
          "text": [
            "training mse: 0.1856313764409453\n"
          ],
          "name": "stdout"
        }
      ]
    },
    {
      "cell_type": "code",
      "metadata": {
        "colab": {
          "base_uri": "https://localhost:8080/"
        },
        "id": "SUxQnXLe_UOR",
        "outputId": "4c77fdf8-b7f3-4bcd-8eb2-4c05d20df64e"
      },
      "source": [
        "mse = 0\n",
        "count = 0\n",
        "for row in valid_ratings.values:\n",
        "  mse += (R_pred[row[0]][row[1]] - row[-1])**2\n",
        "  count += 1\n",
        "print('validation mse:', np.sqrt(mse / count))"
      ],
      "execution_count": null,
      "outputs": [
        {
          "output_type": "stream",
          "text": [
            "validation mse: 1.4128378445068341\n"
          ],
          "name": "stdout"
        }
      ]
    },
    {
      "cell_type": "code",
      "metadata": {
        "colab": {
          "base_uri": "https://localhost:8080/"
        },
        "id": "kyJ0iVHB_bVU",
        "outputId": "724dd291-d027-4297-e6a2-9ff74b0a9b38"
      },
      "source": [
        "mse = 0\n",
        "count = 0\n",
        "preds = []\n",
        "for row in test_ratings.values:\n",
        "  mse += (R_pred[row[0]][row[1]] - row[-1])**2\n",
        "  preds.append(R_pred[row[0]][row[1]])\n",
        "  count += 1\n",
        "print('test mse:', np.sqrt(mse / count))"
      ],
      "execution_count": null,
      "outputs": [
        {
          "output_type": "stream",
          "text": [
            "test mse: 1.4127472115196444\n"
          ],
          "name": "stdout"
        }
      ]
    },
    {
      "cell_type": "code",
      "metadata": {
        "id": "y-iOyWvd_hAw"
      },
      "source": [
        ""
      ],
      "execution_count": null,
      "outputs": []
    },
    {
      "cell_type": "code",
      "metadata": {
        "id": "rRZvMUm-mMOD"
      },
      "source": [
        "from sklearn.utils.extmath import randomized_svd\n",
        "U, S, V = randomized_svd(R_train, n_components=100)"
      ],
      "execution_count": null,
      "outputs": []
    },
    {
      "cell_type": "code",
      "metadata": {
        "colab": {
          "base_uri": "https://localhost:8080/"
        },
        "id": "_5A8WxRkmhM0",
        "outputId": "b0805d78-eec9-4d0f-f0a3-2817052e02d3"
      },
      "source": [
        "U.shape, S.shape, V.shape"
      ],
      "execution_count": null,
      "outputs": [
        {
          "output_type": "execute_result",
          "data": {
            "text/plain": [
              "((5000, 100), (100,), (100, 1000))"
            ]
          },
          "metadata": {
            "tags": []
          },
          "execution_count": 39
        }
      ]
    },
    {
      "cell_type": "code",
      "metadata": {
        "id": "bXKYlJhlmt4b"
      },
      "source": [
        "R_pred = np.dot(np.dot(U, np.diag(S)), V)"
      ],
      "execution_count": null,
      "outputs": []
    },
    {
      "cell_type": "code",
      "metadata": {
        "colab": {
          "base_uri": "https://localhost:8080/"
        },
        "id": "8upaWaTom3i0",
        "outputId": "8f85cc3b-6bf5-4428-ace3-73759cb69de3"
      },
      "source": [
        "mse = 0\n",
        "count = 0\n",
        "for row in train_ratings.values:\n",
        "  mse += (R_pred[row[0]][row[1]] - row[-1])**2\n",
        "  count += 1\n",
        "print('training mse:', np.sqrt(mse / count))"
      ],
      "execution_count": null,
      "outputs": [
        {
          "output_type": "stream",
          "text": [
            "training mse: 3.9761786802995136\n"
          ],
          "name": "stdout"
        }
      ]
    },
    {
      "cell_type": "code",
      "metadata": {
        "colab": {
          "base_uri": "https://localhost:8080/"
        },
        "id": "KmxfwfrirXSK",
        "outputId": "e08590b3-1b43-42a2-97f5-58b7c18ce6ae"
      },
      "source": [
        "mse = 0\n",
        "count = 0\n",
        "for row in valid_ratings.values:\n",
        "  mse += (R_pred[row[0]][row[1]] - row[-1])**2\n",
        "  count += 1\n",
        "print('training mse:', np.sqrt(mse / count))"
      ],
      "execution_count": null,
      "outputs": [
        {
          "output_type": "stream",
          "text": [
            "training mse: 5.769849446328882\n"
          ],
          "name": "stdout"
        }
      ]
    },
    {
      "cell_type": "code",
      "metadata": {
        "colab": {
          "base_uri": "https://localhost:8080/"
        },
        "id": "eHgtE-_lm62j",
        "outputId": "f0bfc560-0b42-4d4c-bd51-43dd23905de0"
      },
      "source": [
        "mse = 0\n",
        "count = 0\n",
        "for row in test_ratings.values:\n",
        "  mse += (R_pred[row[0]][row[1]] - row[-1])**2\n",
        "  count += 1\n",
        "print('training mse:', np.sqrt(mse / count))"
      ],
      "execution_count": null,
      "outputs": [
        {
          "output_type": "stream",
          "text": [
            "training mse: 5.783207169571769\n"
          ],
          "name": "stdout"
        }
      ]
    },
    {
      "cell_type": "code",
      "metadata": {
        "colab": {
          "base_uri": "https://localhost:8080/"
        },
        "id": "AqTz98XlA23J",
        "outputId": "7cc89b33-9462-4aea-e801-69e8088ac79d"
      },
      "source": [
        ""
      ],
      "execution_count": null,
      "outputs": [
        {
          "output_type": "stream",
          "text": [
            "Mounted at /content/drive\n"
          ],
          "name": "stdout"
        }
      ]
    },
    {
      "cell_type": "code",
      "metadata": {
        "colab": {
          "base_uri": "https://localhost:8080/"
        },
        "id": "DULC2yTUA5li",
        "outputId": "f019ac3e-9474-4efa-8274-1211164c0e07"
      },
      "source": [
        "mse = 0\n",
        "count = 0\n",
        "for i in range(10000):\n",
        "  for j in range(1000):\n",
        "    if R[i][j] > 0:\n",
        "      mse += abs(anime_mean[j] - R[i][j])\n",
        "      count += 1\n",
        "mse / count"
      ],
      "execution_count": null,
      "outputs": [
        {
          "output_type": "execute_result",
          "data": {
            "text/plain": [
              "7.043071321781626"
            ]
          },
          "metadata": {
            "tags": []
          },
          "execution_count": 60
        }
      ]
    },
    {
      "cell_type": "markdown",
      "metadata": {
        "id": "_klJ7SU6157V"
      },
      "source": [
        "## Factoization Machine & DeepFM"
      ]
    },
    {
      "cell_type": "code",
      "metadata": {
        "colab": {
          "base_uri": "https://localhost:8080/"
        },
        "id": "e-uRz5udqWC3",
        "outputId": "ce6d7882-ccd3-47fa-dacf-8ea42bff7be8"
      },
      "source": [
        "!pip install torchfm"
      ],
      "execution_count": null,
      "outputs": [
        {
          "output_type": "stream",
          "text": [
            "Collecting torchfm\n",
            "  Downloading https://files.pythonhosted.org/packages/ff/4b/1814b23bed7642d102f0906f7919f0378a05a1b9d2d53c6d5506af20a505/torchfm-0.7.0.tar.gz\n",
            "Building wheels for collected packages: torchfm\n",
            "  Building wheel for torchfm (setup.py) ... \u001b[?25l\u001b[?25hdone\n",
            "  Created wheel for torchfm: filename=torchfm-0.7.0-cp37-none-any.whl size=18355 sha256=350d908b70c7e905651912c55ae45aad05ee81d47add50afc084d90c11298dfa\n",
            "  Stored in directory: /root/.cache/pip/wheels/a8/5c/a7/ba70166196acb8e9f09c8ad6d152500cd4ba1bfb30ce462963\n",
            "Successfully built torchfm\n",
            "Installing collected packages: torchfm\n",
            "Successfully installed torchfm-0.7.0\n"
          ],
          "name": "stdout"
        }
      ]
    },
    {
      "cell_type": "code",
      "metadata": {
        "id": "3TiVfypVnJDo"
      },
      "source": [
        "import torchfm\n",
        "from torchfm.dataset.movielens import MovieLens1MDataset, MovieLens20MDataset\n",
        "from torchfm.model.fm import FactorizationMachineModel\n",
        "from torchfm.model.nfm import NeuralFactorizationMachineModel\n",
        "\n",
        "import torch\n",
        "import tqdm\n",
        "from sklearn.metrics import roc_auc_score\n",
        "from torch.utils.data import DataLoader"
      ],
      "execution_count": null,
      "outputs": []
    },
    {
      "cell_type": "code",
      "metadata": {
        "id": "XI3ZtlxP3VqD"
      },
      "source": [
        ""
      ],
      "execution_count": null,
      "outputs": []
    },
    {
      "cell_type": "code",
      "metadata": {
        "id": "hbtRKkD74oyV"
      },
      "source": [
        "class EarlyStopper(object):\n",
        "\n",
        "    def __init__(self, num_trials, save_path):\n",
        "        self.num_trials = num_trials\n",
        "        self.trial_counter = 0\n",
        "        self.best_accuracy = -float(\"inf\")\n",
        "        self.save_path = save_path\n",
        "\n",
        "    def is_continuable(self, model, accuracy, metric):\n",
        "        if metric == 'loss':\n",
        "            accuracy = - accuracy\n",
        "        if accuracy > self.best_accuracy:\n",
        "            self.best_accuracy = accuracy\n",
        "            self.trial_counter = 0\n",
        "            torch.save(model, self.save_path)\n",
        "            return True\n",
        "        elif self.trial_counter + 1 < self.num_trials:\n",
        "            self.trial_counter += 1\n",
        "            return True\n",
        "        else:\n",
        "            return False\n",
        "\n",
        "\n",
        "def train(model, optimizer, data_loader, criterion, device, log_interval=100):\n",
        "    model.train()\n",
        "    total_loss = 0\n",
        "    tk0 = data_loader #data_loader #tqdm.tqdm(data_loader, smoothing=0, mininterval=1.0)\n",
        "    for i, (fields, target) in enumerate(tk0):\n",
        "        fields, target = fields.to(device), target.to(device)\n",
        "        y = model(fields)\n",
        "        # print(y)\n",
        "        # print(target)\n",
        "        # loss = criterion(y, target.float())\n",
        "        loss = criterion(y, target)\n",
        "        model.zero_grad()\n",
        "        loss.backward()\n",
        "        optimizer.step()\n",
        "        total_loss += loss.item()\n",
        "        if (i + 1) % log_interval == 0:\n",
        "            # tk0.set_postfix(loss=total_loss / log_interval)\n",
        "            total_loss = 0\n",
        "\n",
        "def test(model, data_loader, criterion, device):\n",
        "    model.eval()\n",
        "    targets, predicts = list(), list()\n",
        "    loss = 0\n",
        "    batches = 0\n",
        "    with torch.no_grad():\n",
        "        for fields, target in tqdm.tqdm(data_loader, smoothing=0, mininterval=1.0):\n",
        "            fields, target = fields.to(device), target.to(device)\n",
        "            y = model(fields)\n",
        "            loss+=criterion(y, target).item()\n",
        "            batches+=1\n",
        "            targets.extend(target.tolist())\n",
        "            predicts.extend(y.tolist())\n",
        "    return loss/batches# roc_auc_score(targets, predicts)\n",
        "\n",
        "def test_multiclass(model, data_loader, criterion, device):\n",
        "    model.eval()\n",
        "    targets, predicts = list(), list()\n",
        "    loss = 0\n",
        "    batches = 0\n",
        "    with torch.no_grad():\n",
        "        for fields, target in tqdm.tqdm(data_loader, smoothing=0, mininterval=1.0):\n",
        "            fields, target = fields.to(device), target.to(device)\n",
        "            target = target * 9 + 1\n",
        "            y = model(fields) * 9 + 1\n",
        "            y = torch.round(y)\n",
        "            loss+=criterion(y, target).item()\n",
        "            batches+=1\n",
        "            targets.extend(target.tolist())\n",
        "            predicts.extend(y.tolist())\n",
        "    return np.sqrt(loss/batches)# roc_auc_score(targets, predicts)"
      ],
      "execution_count": null,
      "outputs": []
    },
    {
      "cell_type": "code",
      "metadata": {
        "id": "D7vevs7mAvGs"
      },
      "source": [
        "class AnimeDataset(torch.utils.data.Dataset):\n",
        "    \"\"\"\n",
        "    MovieLens 20M Dataset\n",
        "    Data preparation\n",
        "        treat samples with a rating less than 3 as negative samples\n",
        "    :param dataset_path: MovieLens dataset path\n",
        "    Reference:\n",
        "        https://grouplens.org/datasets/movielens\n",
        "    \"\"\"\n",
        "\n",
        "    def __init__(self, data):\n",
        "        self.items = data[:, :5].astype(np.int) # -1 because ID begins from 1\n",
        "        self.targets = (data[:, 5].astype(np.float32) - 1)/9 #self.__preprocess_target(data[:, 2]).astype(np.float32)\n",
        "        self.field_dims = np.max(self.items, axis=0) + 1\n",
        "        self.user_field_idx = np.array((0, ), dtype=np.long)\n",
        "        self.item_field_idx = np.array((1,), dtype=np.long)\n",
        "\n",
        "    def __len__(self):\n",
        "        return self.targets.shape[0]\n",
        "\n",
        "    def __getitem__(self, index):\n",
        "        return self.items[index], self.targets[index]"
      ],
      "execution_count": null,
      "outputs": []
    },
    {
      "cell_type": "code",
      "metadata": {
        "id": "bsFRH-34JQfr"
      },
      "source": [
        "batch_size=128\n",
        "learning_rate=0.0001\n",
        "# weight_decay=1e-5\n",
        "save_dir='drive/MyDrive/CIS 519 Project'\n",
        "model_name='fm'\n",
        "epoch=50\n",
        "device ='cpu'\n",
        "embed_dim=128\n",
        "mlp_dims=(128,)\n",
        "dropouts=(0.8, 0.8)"
      ],
      "execution_count": null,
      "outputs": []
    },
    {
      "cell_type": "code",
      "metadata": {
        "id": "Ac-lqgS_Kv7_"
      },
      "source": [
        "train_dataset = AnimeDataset(train_ratings.values)\n",
        "valid_dataset = AnimeDataset(valid_ratings.values)\n",
        "test_dataset = AnimeDataset(test_ratings.values)\n",
        "train_data_loader = DataLoader(train_dataset, batch_size=batch_size, num_workers=2)\n",
        "valid_data_loader = DataLoader(valid_dataset, batch_size=batch_size, num_workers=2)\n",
        "test_data_loader = DataLoader(test_dataset, batch_size=batch_size, num_workers=2)"
      ],
      "execution_count": null,
      "outputs": []
    },
    {
      "cell_type": "code",
      "metadata": {
        "colab": {
          "base_uri": "https://localhost:8080/"
        },
        "id": "uBtafjxQ5D0j",
        "outputId": "8ce51c51-4d2b-4d8a-9fbc-102aa2984a45"
      },
      "source": [
        "assert model_name in ['fm', 'dfm']\n",
        "best_mse = float(\"inf\")\n",
        "if model_name == 'dfm':\n",
        "  model = NeuralFactorizationMachineModel(train_dataset.field_dims, embed_dim=embed_dim, mlp_dims=mlp_dims, dropouts=dropouts) \n",
        "else:\n",
        "  model = FactorizationMachineModel(train_dataset.field_dims, embed_dim=embed_dim)\n",
        "\n",
        "criterion = torch.nn.MSELoss()  #BCELoss()\n",
        "optimizer = torch.optim.Adam(params=model.parameters(), lr=learning_rate)\n",
        "early_stopper = EarlyStopper(num_trials=2, save_path=f'{save_dir}/{model_name}.pt')\n",
        "for epoch_i in range(epoch):\n",
        "    train(model, optimizer, train_data_loader, criterion, device)\n",
        "    mse = test_multiclass(model, valid_data_loader, criterion, device)\n",
        "    print('epoch:', epoch_i, 'validation: mse:', mse)\n",
        "    if mse < best_mse:\n",
        "      if model_name == 'dfm':\n",
        "        torch.save(model, os.path.join(save_dir, model_name)+f\"_{learning_rate}_{embed_dim}_{mlp_dims[0]}_{dropouts[0]}.pt\")\n",
        "      else:\n",
        "        torch.save(model, os.path.join(save_dir, model_name)+f\"_{learning_rate}_{embed_dim}.pt\")\n",
        "      best_mse = mse\n"
      ],
      "execution_count": null,
      "outputs": [
        {
          "output_type": "stream",
          "text": [
            "\n",
            "\n",
            "\n",
            "\n",
            "  0%|          | 0/527 [00:00<?, ?it/s]\u001b[A\u001b[A\u001b[A\u001b[A\n",
            "\n",
            "\n",
            "\n",
            "100%|██████████| 527/527 [00:01<00:00, 296.05it/s]"
          ],
          "name": "stderr"
        },
        {
          "output_type": "stream",
          "text": [
            "epoch: 0 validation: mse: 1.8037553114049576\n"
          ],
          "name": "stdout"
        },
        {
          "output_type": "stream",
          "text": [
            "\n",
            "\n",
            "\n",
            "\n",
            "\n",
            "  0%|          | 0/527 [00:00<?, ?it/s]\u001b[A\u001b[A\u001b[A\u001b[A\n",
            "\n",
            "\n",
            "\n",
            "100%|██████████| 527/527 [00:01<00:00, 296.50it/s]"
          ],
          "name": "stderr"
        },
        {
          "output_type": "stream",
          "text": [
            "epoch: 1 validation: mse: 1.5518552277527\n"
          ],
          "name": "stdout"
        },
        {
          "output_type": "stream",
          "text": [
            "\n",
            "\n",
            "\n",
            "\n",
            "\n",
            "  0%|          | 0/527 [00:00<?, ?it/s]\u001b[A\u001b[A\u001b[A\u001b[A\n",
            "\n",
            "\n",
            "\n",
            "100%|██████████| 527/527 [00:01<00:00, 299.26it/s]"
          ],
          "name": "stderr"
        },
        {
          "output_type": "stream",
          "text": [
            "epoch: 2 validation: mse: 1.5135095628434385\n"
          ],
          "name": "stdout"
        },
        {
          "output_type": "stream",
          "text": [
            "\n",
            "\n",
            "\n",
            "\n",
            "\n",
            "  0%|          | 0/527 [00:00<?, ?it/s]\u001b[A\u001b[A\u001b[A\u001b[A\n",
            "\n",
            "\n",
            "\n",
            "100%|██████████| 527/527 [00:01<00:00, 298.10it/s]"
          ],
          "name": "stderr"
        },
        {
          "output_type": "stream",
          "text": [
            "epoch: 3 validation: mse: 1.4932593256517877\n"
          ],
          "name": "stdout"
        },
        {
          "output_type": "stream",
          "text": [
            "\n",
            "\n",
            "\n",
            "\n",
            "\n",
            "  0%|          | 0/527 [00:00<?, ?it/s]\u001b[A\u001b[A\u001b[A\u001b[A\n",
            "\n",
            "\n",
            "\n",
            "100%|██████████| 527/527 [00:01<00:00, 304.31it/s]"
          ],
          "name": "stderr"
        },
        {
          "output_type": "stream",
          "text": [
            "epoch: 4 validation: mse: 1.4759813167112377\n"
          ],
          "name": "stdout"
        },
        {
          "output_type": "stream",
          "text": [
            "\n",
            "\n",
            "\n",
            "\n",
            "\n",
            "  0%|          | 0/527 [00:00<?, ?it/s]\u001b[A\u001b[A\u001b[A\u001b[A\n",
            "\n",
            "\n",
            "\n",
            "100%|██████████| 527/527 [00:01<00:00, 294.30it/s]"
          ],
          "name": "stderr"
        },
        {
          "output_type": "stream",
          "text": [
            "epoch: 5 validation: mse: 1.4612049782751182\n"
          ],
          "name": "stdout"
        },
        {
          "output_type": "stream",
          "text": [
            "\n",
            "\n",
            "\n",
            "\n",
            "\n",
            "  0%|          | 0/527 [00:00<?, ?it/s]\u001b[A\u001b[A\u001b[A\u001b[A\n",
            "\n",
            "\n",
            "\n",
            "100%|██████████| 527/527 [00:01<00:00, 304.14it/s]"
          ],
          "name": "stderr"
        },
        {
          "output_type": "stream",
          "text": [
            "epoch: 6 validation: mse: 1.4491767473872292\n"
          ],
          "name": "stdout"
        },
        {
          "output_type": "stream",
          "text": [
            "\n",
            "\n",
            "\n",
            "\n",
            "\n",
            "  0%|          | 0/527 [00:00<?, ?it/s]\u001b[A\u001b[A\u001b[A\u001b[A\n",
            "\n",
            "\n",
            "\n",
            "100%|██████████| 527/527 [00:01<00:00, 302.33it/s]"
          ],
          "name": "stderr"
        },
        {
          "output_type": "stream",
          "text": [
            "epoch: 7 validation: mse: 1.4384863856169032\n"
          ],
          "name": "stdout"
        },
        {
          "output_type": "stream",
          "text": [
            "\n",
            "\n",
            "\n",
            "\n",
            "\n",
            "  0%|          | 0/527 [00:00<?, ?it/s]\u001b[A\u001b[A\u001b[A\u001b[A\n",
            "\n",
            "\n",
            "\n",
            "100%|██████████| 527/527 [00:01<00:00, 305.85it/s]"
          ],
          "name": "stderr"
        },
        {
          "output_type": "stream",
          "text": [
            "epoch: 8 validation: mse: 1.4305701142696547\n"
          ],
          "name": "stdout"
        },
        {
          "output_type": "stream",
          "text": [
            "\n",
            "\n",
            "\n",
            "\n",
            "\n",
            "  0%|          | 0/527 [00:00<?, ?it/s]\u001b[A\u001b[A\u001b[A\u001b[A\n",
            "\n",
            "\n",
            "\n",
            "100%|██████████| 527/527 [00:01<00:00, 301.69it/s]"
          ],
          "name": "stderr"
        },
        {
          "output_type": "stream",
          "text": [
            "epoch: 9 validation: mse: 1.4223850895376766\n"
          ],
          "name": "stdout"
        },
        {
          "output_type": "stream",
          "text": [
            "\n",
            "\n",
            "\n",
            "\n",
            "\n",
            "  0%|          | 0/527 [00:00<?, ?it/s]\u001b[A\u001b[A\u001b[A\u001b[A\n",
            "\n",
            "\n",
            "\n",
            "100%|██████████| 527/527 [00:01<00:00, 309.35it/s]"
          ],
          "name": "stderr"
        },
        {
          "output_type": "stream",
          "text": [
            "epoch: 10 validation: mse: 1.4147911311553145\n"
          ],
          "name": "stdout"
        },
        {
          "output_type": "stream",
          "text": [
            "\n",
            "\n",
            "\n",
            "\n",
            "\n",
            "  0%|          | 0/527 [00:00<?, ?it/s]\u001b[A\u001b[A\u001b[A\u001b[A\n",
            "\n",
            "\n",
            "\n",
            "100%|██████████| 527/527 [00:01<00:00, 290.06it/s]"
          ],
          "name": "stderr"
        },
        {
          "output_type": "stream",
          "text": [
            "epoch: 11 validation: mse: 1.408816866449432\n"
          ],
          "name": "stdout"
        },
        {
          "output_type": "stream",
          "text": [
            "\n",
            "\n",
            "\n",
            "\n",
            "\n",
            "  0%|          | 0/527 [00:00<?, ?it/s]\u001b[A\u001b[A\u001b[A\u001b[A\n",
            "\n",
            "\n",
            "\n",
            "100%|██████████| 527/527 [00:01<00:00, 303.38it/s]"
          ],
          "name": "stderr"
        },
        {
          "output_type": "stream",
          "text": [
            "epoch: 12 validation: mse: 1.4045547491232855\n"
          ],
          "name": "stdout"
        },
        {
          "output_type": "stream",
          "text": [
            "\n",
            "\n",
            "\n",
            "\n",
            "\n",
            "  0%|          | 0/527 [00:00<?, ?it/s]\u001b[A\u001b[A\u001b[A\u001b[A\n",
            "\n",
            "\n",
            "\n",
            "100%|██████████| 527/527 [00:01<00:00, 310.54it/s]"
          ],
          "name": "stderr"
        },
        {
          "output_type": "stream",
          "text": [
            "epoch: 13 validation: mse: 1.4002945448008615\n"
          ],
          "name": "stdout"
        },
        {
          "output_type": "stream",
          "text": [
            "\n",
            "\n",
            "\n",
            "\n",
            "\n",
            "  0%|          | 0/527 [00:00<?, ?it/s]\u001b[A\u001b[A\u001b[A\u001b[A\n",
            "\n",
            "\n",
            "\n",
            "100%|██████████| 527/527 [00:01<00:00, 298.26it/s]"
          ],
          "name": "stderr"
        },
        {
          "output_type": "stream",
          "text": [
            "epoch: 14 validation: mse: 1.3973076515451102\n"
          ],
          "name": "stdout"
        },
        {
          "output_type": "stream",
          "text": [
            "\n",
            "\n",
            "\n",
            "\n",
            "\n",
            "  0%|          | 0/527 [00:00<?, ?it/s]\u001b[A\u001b[A\u001b[A\u001b[A\n",
            "\n",
            "\n",
            "\n",
            "100%|██████████| 527/527 [00:01<00:00, 296.16it/s]"
          ],
          "name": "stderr"
        },
        {
          "output_type": "stream",
          "text": [
            "epoch: 15 validation: mse: 1.3941796866494744\n"
          ],
          "name": "stdout"
        },
        {
          "output_type": "stream",
          "text": [
            "\n",
            "\n",
            "\n",
            "\n",
            "\n",
            "  0%|          | 0/527 [00:00<?, ?it/s]\u001b[A\u001b[A\u001b[A\u001b[A\n",
            "\n",
            "\n",
            "\n",
            "100%|██████████| 527/527 [00:01<00:00, 311.01it/s]"
          ],
          "name": "stderr"
        },
        {
          "output_type": "stream",
          "text": [
            "epoch: 16 validation: mse: 1.3912519320591126\n"
          ],
          "name": "stdout"
        },
        {
          "output_type": "stream",
          "text": [
            "\n",
            "\n",
            "\n",
            "\n",
            "\n",
            "  0%|          | 0/527 [00:00<?, ?it/s]\u001b[A\u001b[A\u001b[A\u001b[A\n",
            "\n",
            "\n",
            "\n",
            "100%|██████████| 527/527 [00:01<00:00, 311.30it/s]"
          ],
          "name": "stderr"
        },
        {
          "output_type": "stream",
          "text": [
            "epoch: 17 validation: mse: 1.3870825873832775\n"
          ],
          "name": "stdout"
        },
        {
          "output_type": "stream",
          "text": [
            "\n",
            "\n",
            "\n",
            "\n",
            "\n",
            "  0%|          | 0/527 [00:00<?, ?it/s]\u001b[A\u001b[A\u001b[A\u001b[A\n",
            "\n",
            "\n",
            "\n",
            "100%|██████████| 527/527 [00:01<00:00, 287.41it/s]"
          ],
          "name": "stderr"
        },
        {
          "output_type": "stream",
          "text": [
            "epoch: 18 validation: mse: 1.3849403704366376\n"
          ],
          "name": "stdout"
        },
        {
          "output_type": "stream",
          "text": [
            "\n",
            "\n",
            "\n",
            "\n",
            "\n",
            "  0%|          | 0/527 [00:00<?, ?it/s]\u001b[A\u001b[A\u001b[A\u001b[A\n",
            "\n",
            "\n",
            "\n",
            "100%|██████████| 527/527 [00:01<00:00, 311.40it/s]"
          ],
          "name": "stderr"
        },
        {
          "output_type": "stream",
          "text": [
            "epoch: 19 validation: mse: 1.383937885005741\n"
          ],
          "name": "stdout"
        },
        {
          "output_type": "stream",
          "text": [
            "\n",
            "\n",
            "\n",
            "\n",
            "\n",
            "  0%|          | 0/527 [00:00<?, ?it/s]\u001b[A\u001b[A\u001b[A\u001b[A\n",
            "\n",
            "\n",
            "\n",
            "100%|██████████| 527/527 [00:01<00:00, 307.30it/s]"
          ],
          "name": "stderr"
        },
        {
          "output_type": "stream",
          "text": [
            "epoch: 20 validation: mse: 1.3840360772677571\n"
          ],
          "name": "stdout"
        },
        {
          "output_type": "stream",
          "text": [
            "\n",
            "\n",
            "\n",
            "\n",
            "\n",
            "  0%|          | 0/527 [00:00<?, ?it/s]\u001b[A\u001b[A\u001b[A\u001b[A\n",
            "\n",
            "\n",
            "\n",
            "100%|██████████| 527/527 [00:01<00:00, 302.00it/s]"
          ],
          "name": "stderr"
        },
        {
          "output_type": "stream",
          "text": [
            "epoch: 21 validation: mse: 1.3820977369341045\n"
          ],
          "name": "stdout"
        },
        {
          "output_type": "stream",
          "text": [
            "\n",
            "\n",
            "\n",
            "\n",
            "\n",
            "  0%|          | 0/527 [00:00<?, ?it/s]\u001b[A\u001b[A\u001b[A\u001b[A\n",
            "\n",
            "\n",
            "\n",
            "100%|██████████| 527/527 [00:01<00:00, 309.69it/s]"
          ],
          "name": "stderr"
        },
        {
          "output_type": "stream",
          "text": [
            "epoch: 22 validation: mse: 1.383111380535466\n"
          ],
          "name": "stdout"
        },
        {
          "output_type": "stream",
          "text": [
            "\n",
            "\n",
            "\n",
            "\n",
            "\n",
            "  0%|          | 0/527 [00:00<?, ?it/s]\u001b[A\u001b[A\u001b[A\u001b[A\n",
            "\n",
            "\n",
            "\n",
            "100%|██████████| 527/527 [00:01<00:00, 302.45it/s]"
          ],
          "name": "stderr"
        },
        {
          "output_type": "stream",
          "text": [
            "epoch: 23 validation: mse: 1.3845863364905515\n"
          ],
          "name": "stdout"
        },
        {
          "output_type": "stream",
          "text": [
            "\n"
          ],
          "name": "stderr"
        }
      ]
    },
    {
      "cell_type": "code",
      "metadata": {
        "colab": {
          "base_uri": "https://localhost:8080/"
        },
        "id": "SwzFPWyb6Hyg",
        "outputId": "45d2b860-0866-496b-d6aa-8d2311a29334"
      },
      "source": [
        "best_model = torch.load(os.path.join(save_dir, model_name)+f\"_{learning_rate}_{embed_dim}.pt\")\n",
        "mse = test_multiclass(best_model, test_data_loader, criterion, device)\n",
        "print(f'test mse: {mse}')"
      ],
      "execution_count": null,
      "outputs": [
        {
          "output_type": "stream",
          "text": [
            "100%|██████████| 527/527 [00:02<00:00, 247.91it/s]"
          ],
          "name": "stderr"
        },
        {
          "output_type": "stream",
          "text": [
            "test mse: 1.4282198766603416\n"
          ],
          "name": "stdout"
        },
        {
          "output_type": "stream",
          "text": [
            "\n"
          ],
          "name": "stderr"
        }
      ]
    },
    {
      "cell_type": "code",
      "metadata": {
        "id": "dj5pkfg2-RTA",
        "colab": {
          "base_uri": "https://localhost:8080/"
        },
        "outputId": "ba463559-3c97-42c0-a4e2-843e2cd273d3"
      },
      "source": [
        "for embed_dim in [32, 64, 128]:\n",
        "  # model = FactorizationMachineModel(train_dataset.field_dims, embed_dim=embed_dim)\n",
        "  model = torch.load(os.path.join(save_dir, model_name)+f\"_{learning_rate}_{embed_dim}.pt\")\n",
        "  criterion = torch.nn.MSELoss()  #BCELoss()\n",
        "  print('training mse: ', test_multiclass(model, train_data_loader, criterion, 'cpu'))\n",
        "  print('test mse: ', test_multiclass(model, test_data_loader, criterion, 'cpu'))\n"
      ],
      "execution_count": null,
      "outputs": [
        {
          "output_type": "stream",
          "text": [
            "\n",
            "\n",
            "\n",
            "  0%|          | 0/4214 [00:00<?, ?it/s]\u001b[A\u001b[A\u001b[A\n",
            "\n",
            "\n",
            "  7%|▋         | 281/4214 [00:01<00:14, 279.50it/s]\u001b[A\u001b[A\u001b[A\n",
            "\n",
            "\n",
            " 14%|█▎        | 571/4214 [00:02<00:12, 284.67it/s]\u001b[A\u001b[A\u001b[A\n",
            "\n",
            "\n",
            " 20%|██        | 861/4214 [00:03<00:11, 285.62it/s]\u001b[A\u001b[A\u001b[A\n",
            "\n",
            "\n",
            " 28%|██▊       | 1159/4214 [00:04<00:10, 288.59it/s]\u001b[A\u001b[A\u001b[A\n",
            "\n",
            "\n",
            " 35%|███▍      | 1457/4214 [00:05<00:09, 290.23it/s]\u001b[A\u001b[A\u001b[A\n",
            "\n",
            "\n",
            " 42%|████▏     | 1755/4214 [00:06<00:08, 291.20it/s]\u001b[A\u001b[A\u001b[A\n",
            "\n",
            "\n",
            " 49%|████▉     | 2057/4214 [00:07<00:07, 292.63it/s]\u001b[A\u001b[A\u001b[A\n",
            "\n",
            "\n",
            " 56%|█████▌    | 2359/4214 [00:08<00:06, 293.66it/s]\u001b[A\u001b[A\u001b[A\n",
            "\n",
            "\n",
            " 63%|██████▎   | 2661/4214 [00:09<00:05, 293.74it/s]\u001b[A\u001b[A\u001b[A\n",
            "\n",
            "\n",
            " 70%|███████   | 2964/4214 [00:10<00:04, 294.55it/s]\u001b[A\u001b[A\u001b[A\n",
            "\n",
            "\n",
            " 78%|███████▊  | 3267/4214 [00:11<00:03, 295.09it/s]\u001b[A\u001b[A\u001b[A\n",
            "\n",
            "\n",
            " 85%|████████▍ | 3570/4214 [00:12<00:02, 295.64it/s]\u001b[A\u001b[A\u001b[A\n",
            "\n",
            "\n",
            " 92%|█████████▏| 3874/4214 [00:13<00:01, 296.24it/s]\u001b[A\u001b[A\u001b[A\n",
            "\n",
            "\n",
            "100%|██████████| 4214/4214 [00:14<00:00, 296.13it/s]\n",
            "\n",
            "\n",
            "\n",
            "  0%|          | 0/527 [00:00<?, ?it/s]\u001b[A\u001b[A\u001b[A"
          ],
          "name": "stderr"
        },
        {
          "output_type": "stream",
          "text": [
            "training mse:  1.6061561494627212\n"
          ],
          "name": "stdout"
        },
        {
          "output_type": "stream",
          "text": [
            "\n",
            "\n",
            "\n",
            "100%|██████████| 527/527 [00:01<00:00, 303.77it/s]\n",
            "\n",
            "\n",
            "\n",
            "  0%|          | 0/4214 [00:00<?, ?it/s]\u001b[A\u001b[A\u001b[A"
          ],
          "name": "stderr"
        },
        {
          "output_type": "stream",
          "text": [
            "test mse:  1.6561096406752063\n"
          ],
          "name": "stdout"
        },
        {
          "output_type": "stream",
          "text": [
            "\n",
            "\n",
            "\n",
            "  7%|▋         | 291/4214 [00:01<00:13, 289.43it/s]\u001b[A\u001b[A\u001b[A\n",
            "\n",
            "\n",
            " 14%|█▍        | 582/4214 [00:02<00:12, 289.90it/s]\u001b[A\u001b[A\u001b[A\n",
            "\n",
            "\n",
            " 21%|██        | 873/4214 [00:03<00:11, 288.53it/s]\u001b[A\u001b[A\u001b[A\n",
            "\n",
            "\n",
            " 28%|██▊       | 1164/4214 [00:04<00:10, 287.36it/s]\u001b[A\u001b[A\u001b[A\n",
            "\n",
            "\n",
            " 35%|███▍      | 1455/4214 [00:05<00:09, 287.78it/s]\u001b[A\u001b[A\u001b[A\n",
            "\n",
            "\n",
            " 41%|████▏     | 1746/4214 [00:06<00:08, 287.67it/s]\u001b[A\u001b[A\u001b[A\n",
            "\n",
            "\n",
            " 48%|████▊     | 2037/4214 [00:07<00:07, 286.87it/s]\u001b[A\u001b[A\u001b[A\n",
            "\n",
            "\n",
            " 55%|█████▌    | 2328/4214 [00:08<00:06, 286.41it/s]\u001b[A\u001b[A\u001b[A\n",
            "\n",
            "\n",
            " 62%|██████▏   | 2631/4214 [00:09<00:05, 288.17it/s]\u001b[A\u001b[A\u001b[A\n",
            "\n",
            "\n",
            " 70%|██████▉   | 2934/4214 [00:10<00:04, 288.92it/s]\u001b[A\u001b[A\u001b[A\n",
            "\n",
            "\n",
            " 77%|███████▋  | 3237/4214 [00:11<00:03, 288.96it/s]\u001b[A\u001b[A\u001b[A\n",
            "\n",
            "\n",
            " 84%|████████▍ | 3540/4214 [00:12<00:02, 288.67it/s]\u001b[A\u001b[A\u001b[A\n",
            "\n",
            "\n",
            " 91%|█████████ | 3843/4214 [00:13<00:01, 289.15it/s]\u001b[A\u001b[A\u001b[A\n",
            "\n",
            "\n",
            "100%|██████████| 4214/4214 [00:14<00:00, 288.67it/s]\n",
            "\n",
            "\n",
            "\n",
            "  0%|          | 0/527 [00:00<?, ?it/s]\u001b[A\u001b[A\u001b[A"
          ],
          "name": "stderr"
        },
        {
          "output_type": "stream",
          "text": [
            "training mse:  1.3228696315391515\n"
          ],
          "name": "stdout"
        },
        {
          "output_type": "stream",
          "text": [
            "\n",
            "\n",
            "\n",
            "100%|██████████| 527/527 [00:01<00:00, 281.50it/s]\n",
            "\n",
            "\n",
            "\n",
            "  0%|          | 0/4214 [00:00<?, ?it/s]\u001b[A\u001b[A\u001b[A"
          ],
          "name": "stderr"
        },
        {
          "output_type": "stream",
          "text": [
            "test mse:  1.4282198766603416\n"
          ],
          "name": "stdout"
        },
        {
          "output_type": "stream",
          "text": [
            "\n",
            "\n",
            "\n",
            "  6%|▋         | 268/4214 [00:01<00:14, 266.62it/s]\u001b[A\u001b[A\u001b[A\n",
            "\n",
            "\n",
            " 13%|█▎        | 545/4214 [00:02<00:13, 271.67it/s]\u001b[A\u001b[A\u001b[A\n",
            "\n",
            "\n",
            " 20%|█▉        | 824/4214 [00:03<00:12, 273.93it/s]\u001b[A\u001b[A\u001b[A\n",
            "\n",
            "\n",
            " 26%|██▋       | 1107/4214 [00:04<00:11, 276.01it/s]\u001b[A\u001b[A\u001b[A\n",
            "\n",
            "\n",
            " 33%|███▎      | 1390/4214 [00:05<00:10, 274.50it/s]\u001b[A\u001b[A\u001b[A\n",
            "\n",
            "\n",
            " 40%|███▉      | 1673/4214 [00:06<00:09, 275.16it/s]\u001b[A\u001b[A\u001b[A\n",
            "\n",
            "\n",
            " 46%|████▋     | 1956/4214 [00:07<00:08, 273.04it/s]\u001b[A\u001b[A\u001b[A\n",
            "\n",
            "\n",
            " 53%|█████▎    | 2239/4214 [00:08<00:07, 271.10it/s]\u001b[A\u001b[A\u001b[A\n",
            "\n",
            "\n",
            " 60%|█████▉    | 2522/4214 [00:09<00:06, 270.91it/s]\u001b[A\u001b[A\u001b[A\n",
            "\n",
            "\n",
            " 67%|██████▋   | 2805/4214 [00:10<00:05, 270.31it/s]\u001b[A\u001b[A\u001b[A\n",
            "\n",
            "\n",
            " 73%|███████▎  | 3088/4214 [00:11<00:04, 269.16it/s]\u001b[A\u001b[A\u001b[A\n",
            "\n",
            "\n",
            " 80%|███████▉  | 3371/4214 [00:12<00:03, 268.82it/s]\u001b[A\u001b[A\u001b[A\n",
            "\n",
            "\n",
            " 87%|████████▋ | 3654/4214 [00:13<00:02, 268.12it/s]\u001b[A\u001b[A\u001b[A\n",
            "\n",
            "\n",
            "100%|██████████| 4214/4214 [00:15<00:00, 266.20it/s]\n",
            "\n",
            "\n",
            "\n",
            "  0%|          | 0/527 [00:00<?, ?it/s]\u001b[A\u001b[A\u001b[A"
          ],
          "name": "stderr"
        },
        {
          "output_type": "stream",
          "text": [
            "training mse:  0.9988118995972929\n"
          ],
          "name": "stdout"
        },
        {
          "output_type": "stream",
          "text": [
            "\n",
            "\n",
            "\n",
            "100%|██████████| 527/527 [00:01<00:00, 273.85it/s]"
          ],
          "name": "stderr"
        },
        {
          "output_type": "stream",
          "text": [
            "test mse:  1.2694803105359738\n"
          ],
          "name": "stdout"
        },
        {
          "output_type": "stream",
          "text": [
            "\n"
          ],
          "name": "stderr"
        }
      ]
    },
    {
      "cell_type": "code",
      "metadata": {
        "id": "SzZKBF2sFy9W",
        "colab": {
          "base_uri": "https://localhost:8080/"
        },
        "outputId": "338df186-a1fb-488a-a2c4-df4da90b37f0"
      },
      "source": [
        "for embed_dim in [32, 64, 128]:\n",
        "  # model = NeuralFactorizationMachineModel(train_dataset.field_dims, embed_dim=embed_dim, mlp_dims=mlp_dims, dropouts=dropouts) \n",
        "  model = torch.load(os.path.join(save_dir, 'dfm')+f\"_{learning_rate}_{embed_dim}_128_0.8.pt\")\n",
        "  criterion = torch.nn.MSELoss()  #BCELoss()\n",
        "  print('training mse: ', test_multiclass(model, train_data_loader, criterion, 'cpu'))\n",
        "  print('test mse: ', test_multiclass(model, test_data_loader, criterion, 'cpu'))\n"
      ],
      "execution_count": null,
      "outputs": [
        {
          "output_type": "stream",
          "text": [
            "\n",
            "\n",
            "\n",
            "\n",
            "  0%|          | 0/4214 [00:00<?, ?it/s]\u001b[A\u001b[A\u001b[A\u001b[A\n",
            "\n",
            "\n",
            "\n",
            "  7%|▋         | 294/4214 [00:01<00:13, 292.28it/s]\u001b[A\u001b[A\u001b[A\u001b[A\n",
            "\n",
            "\n",
            "\n",
            " 14%|█▍        | 593/4214 [00:02<00:12, 295.89it/s]\u001b[A\u001b[A\u001b[A\u001b[A\n",
            "\n",
            "\n",
            "\n",
            " 21%|██▏       | 896/4214 [00:03<00:11, 297.74it/s]\u001b[A\u001b[A\u001b[A\u001b[A\n",
            "\n",
            "\n",
            "\n",
            " 28%|██▊       | 1199/4214 [00:04<00:10, 297.87it/s]\u001b[A\u001b[A\u001b[A\u001b[A\n",
            "\n",
            "\n",
            "\n",
            " 36%|███▌      | 1502/4214 [00:05<00:09, 295.65it/s]\u001b[A\u001b[A\u001b[A\u001b[A\n",
            "\n",
            "\n",
            "\n",
            " 43%|████▎     | 1805/4214 [00:06<00:08, 292.24it/s]\u001b[A\u001b[A\u001b[A\u001b[A\n",
            "\n",
            "\n",
            "\n",
            " 50%|█████     | 2108/4214 [00:07<00:07, 292.56it/s]\u001b[A\u001b[A\u001b[A\u001b[A\n",
            "\n",
            "\n",
            " 13%|█▎        | 554/4214 [00:13<01:31, 40.21it/s] \u001b[A\u001b[A\u001b[A\n",
            "\n",
            "\n",
            "\n",
            " 57%|█████▋    | 2411/4214 [00:08<00:06, 292.48it/s]\u001b[A\u001b[A\u001b[A\u001b[A\n",
            "\n",
            "\n",
            "\n",
            " 64%|██████▍   | 2714/4214 [00:09<00:05, 293.09it/s]\u001b[A\u001b[A\u001b[A\u001b[A\n",
            "\n",
            "\n",
            "\n",
            " 72%|███████▏  | 3017/4214 [00:10<00:04, 293.54it/s]\u001b[A\u001b[A\u001b[A\u001b[A\n",
            "\n",
            "\n",
            "\n",
            " 79%|███████▉  | 3326/4214 [00:11<00:03, 294.87it/s]\u001b[A\u001b[A\u001b[A\u001b[A\n",
            "\n",
            "\n",
            "\n",
            " 86%|████████▋ | 3635/4214 [00:12<00:01, 295.35it/s]\u001b[A\u001b[A\u001b[A\u001b[A\n",
            "\n",
            "\n",
            "\n",
            "100%|██████████| 4214/4214 [00:14<00:00, 295.95it/s]\n",
            "\n",
            "\n",
            "\n",
            "\n",
            "  0%|          | 0/527 [00:00<?, ?it/s]\u001b[A\u001b[A\u001b[A\u001b[A"
          ],
          "name": "stderr"
        },
        {
          "output_type": "stream",
          "text": [
            "training mse:  1.3885922586120132\n"
          ],
          "name": "stdout"
        },
        {
          "output_type": "stream",
          "text": [
            "\n",
            "\n",
            "\n",
            "\n",
            "100%|██████████| 527/527 [00:01<00:00, 313.12it/s]\n",
            "\n",
            "\n",
            "\n",
            "\n",
            "  0%|          | 0/4214 [00:00<?, ?it/s]\u001b[A\u001b[A\u001b[A\u001b[A"
          ],
          "name": "stderr"
        },
        {
          "output_type": "stream",
          "text": [
            "test mse:  1.4354696773713636\n"
          ],
          "name": "stdout"
        },
        {
          "output_type": "stream",
          "text": [
            "\n",
            "\n",
            "\n",
            "\n",
            "  7%|▋         | 303/4214 [00:01<00:12, 301.12it/s]\u001b[A\u001b[A\u001b[A\u001b[A\n",
            "\n",
            "\n",
            "\n",
            " 14%|█▍        | 606/4214 [00:02<00:11, 300.91it/s]\u001b[A\u001b[A\u001b[A\u001b[A\n",
            "\n",
            "\n",
            "\n",
            " 22%|██▏       | 909/4214 [00:03<00:10, 301.44it/s]\u001b[A\u001b[A\u001b[A\u001b[A\n",
            "\n",
            "\n",
            "\n",
            " 29%|██▉       | 1212/4214 [00:04<00:09, 301.00it/s]\u001b[A\u001b[A\u001b[A\u001b[A\n",
            "\n",
            "\n",
            "\n",
            " 36%|███▌      | 1515/4214 [00:05<00:08, 300.34it/s]\u001b[A\u001b[A\u001b[A\u001b[A\n",
            "\n",
            "\n",
            "\n",
            " 43%|████▎     | 1818/4214 [00:06<00:08, 298.18it/s]\u001b[A\u001b[A\u001b[A\u001b[A\n",
            "\n",
            "\n",
            "\n",
            " 50%|█████     | 2121/4214 [00:07<00:07, 297.02it/s]\u001b[A\u001b[A\u001b[A\u001b[A\n",
            "\n",
            "\n",
            "\n",
            " 58%|█████▊    | 2424/4214 [00:08<00:06, 296.84it/s]\u001b[A\u001b[A\u001b[A\u001b[A\n",
            "\n",
            "\n",
            "\n",
            " 65%|██████▍   | 2727/4214 [00:09<00:05, 296.85it/s]\u001b[A\u001b[A\u001b[A\u001b[A\n",
            "\n",
            "\n",
            "\n",
            " 72%|███████▏  | 3030/4214 [00:10<00:03, 296.40it/s]\u001b[A\u001b[A\u001b[A\u001b[A\n",
            "\n",
            "\n",
            "\n",
            " 79%|███████▉  | 3333/4214 [00:11<00:02, 295.47it/s]\u001b[A\u001b[A\u001b[A\u001b[A\n",
            "\n",
            "\n",
            "\n",
            " 86%|████████▋ | 3636/4214 [00:12<00:01, 294.46it/s]\u001b[A\u001b[A\u001b[A\u001b[A\n",
            "\n",
            "\n",
            "\n",
            "100%|██████████| 4214/4214 [00:14<00:00, 293.52it/s]\n",
            "\n",
            "\n",
            "\n",
            "\n",
            "  0%|          | 0/527 [00:00<?, ?it/s]\u001b[A\u001b[A\u001b[A\u001b[A"
          ],
          "name": "stderr"
        },
        {
          "output_type": "stream",
          "text": [
            "training mse:  1.182825120523975\n"
          ],
          "name": "stdout"
        },
        {
          "output_type": "stream",
          "text": [
            "\n",
            "\n",
            "\n",
            "\n",
            "100%|██████████| 527/527 [00:01<00:00, 294.83it/s]\n",
            "\n",
            "\n",
            "\n",
            "\n",
            "  0%|          | 0/4214 [00:00<?, ?it/s]\u001b[A\u001b[A\u001b[A\u001b[A"
          ],
          "name": "stderr"
        },
        {
          "output_type": "stream",
          "text": [
            "test mse:  1.333529941723514\n"
          ],
          "name": "stdout"
        },
        {
          "output_type": "stream",
          "text": [
            "\n",
            "\n",
            "\n",
            "\n",
            "  6%|▋         | 268/4214 [00:01<00:14, 266.61it/s]\u001b[A\u001b[A\u001b[A\u001b[A\n",
            "\n",
            "\n",
            "\n",
            " 13%|█▎        | 543/4214 [00:02<00:13, 270.78it/s]\u001b[A\u001b[A\u001b[A\u001b[A\n",
            "\n",
            "\n",
            "\n",
            " 19%|█▉        | 818/4214 [00:03<00:12, 272.05it/s]\u001b[A\u001b[A\u001b[A\u001b[A\n",
            "\n",
            "\n",
            "\n",
            " 26%|██▌       | 1096/4214 [00:04<00:11, 273.32it/s]\u001b[A\u001b[A\u001b[A\u001b[A\n",
            "\n",
            "\n",
            "\n",
            " 33%|███▎      | 1375/4214 [00:05<00:10, 274.44it/s]\u001b[A\u001b[A\u001b[A\u001b[A\n",
            "\n",
            "\n",
            "\n",
            " 39%|███▉      | 1654/4214 [00:06<00:09, 273.57it/s]\u001b[A\u001b[A\u001b[A\u001b[A\n",
            "\n",
            "\n",
            "\n",
            " 46%|████▌     | 1933/4214 [00:07<00:08, 272.46it/s]\u001b[A\u001b[A\u001b[A\u001b[A\n",
            "\n",
            "\n",
            "\n",
            " 52%|█████▏    | 2212/4214 [00:08<00:07, 270.16it/s]\u001b[A\u001b[A\u001b[A\u001b[A\n",
            "\n",
            "\n",
            "\n",
            " 59%|█████▉    | 2491/4214 [00:09<00:06, 268.88it/s]\u001b[A\u001b[A\u001b[A\u001b[A\n",
            "\n",
            "\n",
            "\n",
            " 66%|██████▌   | 2770/4214 [00:10<00:05, 268.53it/s]\u001b[A\u001b[A\u001b[A\u001b[A\n",
            "\n",
            "\n",
            "\n",
            " 72%|███████▏  | 3049/4214 [00:11<00:04, 267.67it/s]\u001b[A\u001b[A\u001b[A\u001b[A\n",
            "\n",
            "\n",
            "\n",
            " 79%|███████▉  | 3328/4214 [00:12<00:03, 266.96it/s]\u001b[A\u001b[A\u001b[A\u001b[A\n",
            "\n",
            "\n",
            "\n",
            " 86%|████████▌ | 3607/4214 [00:13<00:02, 266.58it/s]\u001b[A\u001b[A\u001b[A\u001b[A\n",
            "\n",
            "\n",
            "\n",
            " 92%|█████████▏| 3886/4214 [00:14<00:01, 265.61it/s]\u001b[A\u001b[A\u001b[A\u001b[A\n",
            "\n",
            "\n",
            "\n",
            "100%|██████████| 4214/4214 [00:15<00:00, 265.21it/s]\n",
            "\n",
            "\n",
            "\n",
            "\n",
            "  0%|          | 0/527 [00:00<?, ?it/s]\u001b[A\u001b[A\u001b[A\u001b[A"
          ],
          "name": "stderr"
        },
        {
          "output_type": "stream",
          "text": [
            "training mse:  1.108514085532253\n"
          ],
          "name": "stdout"
        },
        {
          "output_type": "stream",
          "text": [
            "\n",
            "\n",
            "\n",
            "\n",
            "100%|██████████| 527/527 [00:01<00:00, 272.33it/s]"
          ],
          "name": "stderr"
        },
        {
          "output_type": "stream",
          "text": [
            "test mse:  1.3182389654742246\n"
          ],
          "name": "stdout"
        },
        {
          "output_type": "stream",
          "text": [
            "\n"
          ],
          "name": "stderr"
        }
      ]
    }
  ]
}